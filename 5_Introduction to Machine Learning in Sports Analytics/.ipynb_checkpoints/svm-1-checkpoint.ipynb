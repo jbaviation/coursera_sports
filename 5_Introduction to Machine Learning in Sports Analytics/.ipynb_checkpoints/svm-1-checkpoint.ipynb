{
 "cells": [
  {
   "cell_type": "markdown",
   "metadata": {
    "cell_id": "00001-e2ac1ea7-7831-4cc3-a8de-446a21ab685a",
    "deepnote_cell_type": "markdown",
    "etc_hash": "efbb4873ff0a5d361d60a3aa1fd499aa4ea4d31e541cbca146d5021c0432b8cc",
    "tags": []
   },
   "source": [
    "# Introduction to Support Vector Machines (SVMs)\n",
    "\n",
    "The support vector machine is a commonly used approach for engaging in supervised machine learning. In a \n",
    "very basic form, we can think of an SVM model as trying to separate two classes of data which are color coded \n",
    "in two dimensional scatter plot and we want to separate them with a straight line. And the goal is really to \n",
    "find a linear equation that best separates these two classes of data. If we can find an equation that can \n",
    "separate the data cleanly, the the classes are considered to be _linearly separable_.\n",
    "\n",
    "Let's look at a an example of this, and we're going to go to major leage baseball. I'm going to make the problem\n",
    "a bit easier and cleaner for us for teaching, but we'll see how to deal with some ambiguity later. Now, the MLB\n",
    "captures a lot of data about pitches, though a fair bit of it is actually inferred data so it's a little unclear\n",
    "where each element comes from. But my goal is this: can we use pitching data, sepcifically the speed of the ball \n",
    "and the amount of spin it has when leaving the pitchers hand, and predict the type of pitch it will be? We'll\n",
    "make it even a bit easier, and consider just fastballs and cuveballs, and we'll see if this is a problem which\n",
    "is something that is linearly seperable."
   ]
  },
  {
   "cell_type": "code",
   "execution_count": null,
   "metadata": {
    "cell_id": "00001-f4a438d1-fce5-4351-8eaf-8c52f9b4e359",
    "deepnote_cell_type": "code",
    "deepnote_to_be_reexecuted": false,
    "etc_hash": "8dc39661c234694cd559b69f708741e97259c44fe533dd2eaea38ebafb42be90",
    "execution_millis": 1480,
    "execution_start": 1621778384611,
    "source_hash": "82d04f3b",
    "tags": []
   },
   "outputs": [],
   "source": [
    "# Let's start with bringing in a couple of module imports for our analysis. The data for this\n",
    "# is stored in our assets folder as baseball_svm_data.zip, and contains all of the pitching\n",
    "# data for a single season.\n",
    "\n",
    "# Our standard data science imports\n",
    "%matplotlib inline\n",
    "import pandas as pd\n",
    "import numpy as np\n",
    "import matplotlib.pyplot as plt\n",
    "\n",
    "# A special module for dealing with zipfiles\n",
    "import zipfile\n",
    "\n",
    "# Now we load our dataframe directly from within the zip file -- this is a handy way to deal\n",
    "# with storing lots of data and not running out of space!\n",
    "filename=\"assets/baseball_svm_data.zip\"\n",
    "df=pd.read_csv(zipfile.ZipFile(filename).open(\"reg_Sep2019.csv\"))\n",
    "\n",
    "# Now let's just look at the header of this DataFrame\n",
    "df.head()"
   ]
  },
  {
   "cell_type": "markdown",
   "metadata": {
    "cell_id": "00002-2f0880b5-4da6-42cf-ae51-990cc1de3381",
    "deepnote_cell_type": "markdown",
    "etc_hash": "16e79317066e645a29345359ea6035f6616c927403bd85d86443962b88e272f7",
    "tags": []
   },
   "source": [
    "So, our DataFrame is huge, and filled with rich data. I mean, we have data on player names, descriptions\n",
    "of plays, batting orders, and even position of the ball over the plate. Let's do a little visual inspection\n",
    "of the the attributes we are interested in.\n"
   ]
  },
  {
   "cell_type": "code",
   "execution_count": null,
   "metadata": {
    "cell_id": "00002-530bad8a-8ce7-49c9-be9a-5e0a107ee7b3",
    "deepnote_cell_type": "code",
    "deepnote_to_be_reexecuted": false,
    "etc_hash": "8eac4b8c7f79b8bf66da56e8eb19c09ab17ca3c8c042a7410a17cff9e71ca4c2",
    "execution_millis": 339,
    "execution_start": 1621778386086,
    "source_hash": "cf61d594",
    "tags": []
   },
   "outputs": [],
   "source": [
    "df.plot.scatter(\"effective_speed\", \"release_spin_rate\", s=1, figsize=(10, 4), title=\"Release Spin vs. Effective Speed\");"
   ]
  },
  {
   "cell_type": "code",
   "execution_count": null,
   "metadata": {
    "cell_id": "00004-ffc35b72-7dfa-4a17-ad86-11cf37baed71",
    "deepnote_cell_type": "code",
    "deepnote_to_be_reexecuted": false,
    "etc_hash": "9e9309e641fbeaf52979bf116aecfb954e885df622afa834f919837556968ca6",
    "execution_millis": 400,
    "execution_start": 1621778386429,
    "source_hash": "fb403d68",
    "tags": []
   },
   "outputs": [],
   "source": [
    "# Ok, this gives us some rough parameters for discussion. We see everything sort of clumped together,\n",
    "# and there doesn't seem to be a huge trend other than when we have fast pitches they tend to have a\n",
    "# spin rate which is homogeonous, and when the pitches slow down a bit the spin rate can be more\n",
    "# variable. Let's see this now colored by pitch type\n",
    "\n",
    "# First we segment only for the pitches we are interested in, and just take out fastballs and curveballs\n",
    "df=df[df[\"pitch_type\"].isin([\"FT\",\"CU\"])]\n",
    "# Now let's set the color for the two, we'll use blue for fastballs and orange for curveballs\n",
    "df[\"color\"]=\"blue\"\n",
    "df.loc[df[\"pitch_type\"]==\"CU\",\"color\"]=\"orange\"\n",
    "# One last cleanup -- sometime there is missing data, because we've got a big dataset I'm just going\n",
    "# to drop those observations, but you might want to impute data instead. I'm going to reduce our\n",
    "# datraframe to just those columns of interest too\n",
    "df=df[[\"effective_speed\", \"release_spin_rate\", \"color\", \"pitch_type\"]]\n",
    "df=df.dropna()\n",
    "# Now let's plot this\n",
    "df.plot.scatter(\"effective_speed\", \"release_spin_rate\", s=1, c=\"color\", figsize=(10, 4), \n",
    "                legend=True, title=\"Release Spin vs. Effective Speed\");"
   ]
  },
  {
   "cell_type": "markdown",
   "metadata": {
    "cell_id": "00002-9c066f76-34ae-4104-bd21-f3798118478c",
    "deepnote_cell_type": "markdown",
    "etc_hash": "f2dfacacf12c04284adbe9ec0e12e7d299fa14f8515140b407369b17d81920a3",
    "tags": []
   },
   "source": [
    "Ok, this looks like something which is almost linearly separable! You can see that by reducing it to just these two classes of pitches we get one cluster which is high speed and we have another class of pitches which is lower speed (off speed). Usually we're interested in building models with many more features than two, but two dimensional plots make for a good demonstration. Perhaps confusing at first, I'll more formally denote each feature with a subscript, such as $x_1$ and $x_2$, and I'll describe the set of all features as the variable $X$. You don't have to use this notation, but it's common and will be used in the documentation for most machine learning libraries, including _sklearn_. At the same time, it's common to use the variable $\\hat y$ to represent the output variable we are trying to classify.\n",
    "\n",
    "Now remember, the goal of the SVM classifier is to find the optimal line, which in the more general terms we call a _hyperplane_, to distinguish between our data classes across all in $X$. This line is called the maximum or _large margin classifier_, and is thought of as a linear band which separates the two classes. This band is sometimes called a street, and the edges of the street are given by parallel lines which exist at the first points from each class which are closest to the line. These points are called the _support vectors_ and that's where SVMs get their name from."
   ]
  },
  {
   "cell_type": "code",
   "execution_count": null,
   "metadata": {
    "cell_id": "00007-367d0721-54cb-4e25-9805-54b788e9691d",
    "deepnote_cell_type": "code",
    "deepnote_to_be_reexecuted": false,
    "etc_hash": "6a50f02aeab4675b40b97eee57174f47468ab07f1c246c86763dce0db524b648",
    "execution_millis": 1483,
    "execution_start": 1621778386830,
    "source_hash": "ab5fc5f9",
    "tags": []
   },
   "outputs": [],
   "source": [
    "# Let's see an example of this using sklearn. We're going to import the svm module so we can\n",
    "# create a classifier using the SVC function\n",
    "from sklearn import svm\n",
    "\n",
    "# It turns out you can do more than just linear classifiers with sklearn, and we'll talk about that a bit\n",
    "# later on, but right now we're going to create just a linear Support Vector Classifier\n",
    "clf=svm.SVC(kernel='linear', random_state=1337)\n",
    "\n",
    "# Now, I did something different here, and I set the random_state parameter to an arbitrary integer\n",
    "# value. The value doesn't matter, but if you don't set it then randomness will be....random. :)\n",
    "# If you set it, the randomness will be the same each time you run it, which helps with debugging, and\n",
    "# will help when I want to show you things in the data\n",
    "\n",
    "# Let's form our train and test set. I'm going to use some smaller data here.\n",
    "df_pitches=df.loc[0:999]\n",
    "\n",
    "# Now let's separate into X for our features and y for our target values\n",
    "X_train=df_pitches[[\"effective_speed\", \"release_spin_rate\"]].loc[0:499]\n",
    "y_train=df_pitches[\"pitch_type\"].loc[0:499]\n",
    "\n",
    "# And we can do the same with our test set\n",
    "X_test=df_pitches[[\"effective_speed\", \"release_spin_rate\"]].loc[500:]\n",
    "y_test=df_pitches[\"pitch_type\"].loc[500:]\n",
    "\n",
    "# Now the beauty of sklearn's API becomes obvious - we fit and evaluate the quality of this model\n",
    "# just like we did with our logistic regression!\n",
    "clf.fit(X_train, y_train).score(X_test, y_test)"
   ]
  },
  {
   "cell_type": "markdown",
   "metadata": {
    "cell_id": "00007-71bdfc1f-d5d4-4eb3-a551-00d6915b1b25",
    "deepnote_cell_type": "markdown",
    "etc_hash": "7145db1e32bd13011f1ebe242775d8fc72a68787b68ab8d809e406e496832039",
    "tags": []
   },
   "source": [
    "Ok, we built a perfect classifier! Now, this is not very common, in practice, but in practice you're usually looking at a harder problem to solve where there is much more noise. One of the interesting things we can do from here is get the support vectors for the model - the items closest to the street, or the line which separates the two classes."
   ]
  },
  {
   "cell_type": "code",
   "execution_count": null,
   "metadata": {
    "cell_id": "00008-cfaa5c50-15b9-4afd-93bd-3fe99d1a9332",
    "deepnote_cell_type": "code",
    "deepnote_to_be_reexecuted": false,
    "etc_hash": "20eab9740594669e140ee8aed4dcbd4ec4634f943e29fba89fe135d18797a97a",
    "execution_millis": 444,
    "execution_start": 1621778388310,
    "source_hash": "b83425ef",
    "tags": []
   },
   "outputs": [],
   "source": [
    "# So first we'll just plot our data points again, this time only looking at the pitch data we decided\n",
    "# to play with in the model, and I'm going to make these points a bit bigger for our visual\n",
    "df_pitches[\"color\"]=\"blue\"\n",
    "df_pitches.loc[df_pitches[\"pitch_type\"]==\"CU\",\"color\"]=\"orange\"\n",
    "df_pitches.plot.scatter(\"effective_speed\", \"release_spin_rate\", s=5, c=\"color\", figsize=(10, 4), \n",
    "                        legend=True, title=\"Release Spin vs. Effective Speed\");\n",
    "\n",
    "# Now let's circle the support vectors. We get the support vector list from the model using the\n",
    "# clf.support_vectors_ attribute, and I'm just going to create new data points which larger,\n",
    "# transparent, but outlined at these locations\n",
    "plt.gca().scatter(clf.support_vectors_[:, 0], clf.support_vectors_[:, 1],\n",
    "                  s=150,linewidth=1,facecolors=\"none\",edgecolors=\"k\");"
   ]
  },
  {
   "cell_type": "code",
   "execution_count": null,
   "metadata": {
    "cell_id": "00009-877afa9a-f75c-4844-acaa-4162bcbe2885",
    "deepnote_cell_type": "code",
    "deepnote_to_be_reexecuted": false,
    "etc_hash": "88570f6ee8cf6bd62b945d69ac12b7e29321d1cac72561edc077b36a784a7e66",
    "execution_millis": 409,
    "execution_start": 1621778388758,
    "source_hash": "d3c0d370",
    "tags": []
   },
   "outputs": [],
   "source": [
    "# I find this intereting, let's zoom in on the place where the support vectors are. First, let's\n",
    "# plot our previous data.\n",
    "df_pitches.plot.scatter(\"effective_speed\", \"release_spin_rate\", s=25, c=\"color\", figsize=(10, 4), \n",
    "                        legend=True, title=\"Release Spin vs. Effective Speed\")\n",
    "plt.gca().scatter(clf.support_vectors_[:, 0], clf.support_vectors_[:, 1],\n",
    "                  s=150,linewidth=1,facecolors=\"none\",edgecolors=\"k\")\n",
    "\n",
    "# Here's a method to get the hyperplane for this set of vectors\n",
    "def calculate_hyperplane(model):\n",
    "    x_lim=plt.gca().get_xlim()\n",
    "    y_lim=plt.gca().get_ylim()\n",
    "    w = model.coef_[0]\n",
    "    a = -w[0] / w[1]\n",
    "    xx = np.linspace(x_lim[0], x_lim[1])\n",
    "    yy = a * xx - (model.intercept_[0]) / w[1]\n",
    "    return (xx,yy)\n",
    "\n",
    "# Now we plot the hyperplane\n",
    "plt.gca().plot( *calculate_hyperplane(clf), 'k-')\n",
    "\n",
    "# And zoom in.\n",
    "plt.xlim([85,95])\n",
    "plt.ylim([1800,2800])\n",
    "\n",
    "# And I'm just going to save this figure to a variable for later\n",
    "fig = plt.gcf()"
   ]
  },
  {
   "cell_type": "markdown",
   "metadata": {
    "cell_id": "00010-e7870460-64a9-43cc-b292-6599ac7155f3",
    "deepnote_cell_type": "markdown",
    "etc_hash": "05442ab4d0d2757e21cc5aa8569fc7b6055aecfe8728a645e8d0cf5938bd77e5",
    "tags": []
   },
   "source": [
    "Look at this image for a moment. The support vectors are the points which are closest to the street. So, why are there some points closer? Think about how we tackled this problem and reflect for a moment."
   ]
  },
  {
   "cell_type": "code",
   "execution_count": null,
   "metadata": {
    "cell_id": "00011-bcd321ad-1c58-4b41-9b88-354cf1b1418f",
    "deepnote_cell_type": "code",
    "deepnote_to_be_reexecuted": false,
    "etc_hash": "87e4b90dab099b089ea2b934f737e914913a6136b302ef8ed09d0a6e17a519dd",
    "execution_millis": 262,
    "execution_start": 1621778389189,
    "source_hash": "715c59f3",
    "tags": []
   },
   "outputs": [],
   "source": [
    "# Remember that for this we plotted all of the points in our dataset. But we only trained our model\n",
    "# on a few of these, the first 500. Our test set has observations that our model hasn't been trained\n",
    "# on, and most of the data points closest to the street actually happen to be in test set. That's\n",
    "# ok, it shows our model was able to form good generalization, at least with respect to this particular\n",
    "# data. We can see this by plotting just our test set in red and rendering the figure again.\n",
    "X_test.plot.scatter(\"effective_speed\", \"release_spin_rate\", s=25, c=\"red\", ax=fig.axes[0])\n",
    "fig"
   ]
  },
  {
   "cell_type": "code",
   "execution_count": null,
   "metadata": {
    "cell_id": "00012-bb3b9bde-1b3c-46b4-a846-dde5598e6f92",
    "deepnote_cell_type": "code",
    "deepnote_to_be_reexecuted": false,
    "etc_hash": "2a33c738b02734403d7d6595a8d8ea5080d1724224712094eced23c66cd175ec",
    "execution_millis": 84,
    "execution_start": 1621779332802,
    "source_hash": "ee5e0c10",
    "tags": []
   },
   "outputs": [],
   "source": [
    "# I think it would be useful to see how the SVM is built up over time, so I want to create a little\n",
    "# frame by frame animation. Remember that we need to see at least every class of data before we can\n",
    "# train an SVM, so this means we need to sort the data so that fastballs and curballs appear at\n",
    "# last as the first couple of entries in our DataFrame. Here's a bit of ugly code which does that\n",
    "# and I'll store this sorted data into a new variable called observations\n",
    "observations=df_pitches.groupby(\"pitch_type\").apply(lambda x: x.reset_index(drop=True)).reset_index(0,drop=True).sort_index()\n",
    "observations.head()"
   ]
  },
  {
   "cell_type": "code",
   "execution_count": null,
   "metadata": {
    "cell_id": "00001-d567b7fc-4cff-4e9b-bca7-59421f1c7cbb",
    "deepnote_cell_type": "code",
    "deepnote_to_be_reexecuted": false,
    "etc_hash": "58d49f593529fd250f9ed722b2d52e5bc61d097c37f05eb2636882354edb1deb",
    "execution_millis": 96928,
    "execution_start": 1621780836914,
    "source_hash": "ff227167"
   },
   "outputs": [],
   "source": [
    "from matplotlib.animation import FuncAnimation\n",
    "\n",
    "fig, ax = plt.subplots();\n",
    "\n",
    "def fit_model(data):\n",
    "    X=data[[\"effective_speed\", \"release_spin_rate\"]]\n",
    "    y=data[\"pitch_type\"]\n",
    "    return clf.fit(X,y)\n",
    "\n",
    "def update(frame_num):\n",
    "    \"\"\"This function will be called to render each and every frame. Each frame will have different\n",
    "    data in it (increasing over time), so this means we need to rebuild a model each time this\n",
    "    function is called.\n",
    "    :param frame_num: An integer offset of how many observations to use\n",
    "    :return: The rendered matplotlib axes to plot\n",
    "    \"\"\"\n",
    "    # First we clear whatever data is already plotted\n",
    "    plt.cla()\n",
    "\n",
    "    # Then we plot our current data\n",
    "    observations[0:int(frame_num)+2].plot.scatter(\"effective_speed\", \"release_spin_rate\", s=25, c=\"color\", ax=ax)\n",
    "    \n",
    "    # Then we fit our model\n",
    "    clf=fit_model(observations[0:int(frame_num)+2])\n",
    "\n",
    "    # We plot our support vectors\n",
    "    ax.scatter(clf.support_vectors_[:, 0], clf.support_vectors_[:, 1], s=150,linewidth=1,facecolors=\"none\",edgecolors=\"k\")\n",
    "\n",
    "    # We plot out hyperplane\n",
    "    ax.plot(*calculate_hyperplane(clf), 'k-')\n",
    "\n",
    "    # We need to set the bounds on this axes to something constant or the image will have a variable\n",
    "    # (increasing) set of axes over time\n",
    "    ax.set_xlim(80,98)\n",
    "    ax.set_ylim(1800,3000)\n",
    "\n",
    "    return ax.lines;\n",
    "\n",
    "# Now I'm going to call this function and save it as an animated gif, let's build 350 models,\n",
    "# but feel free to play with this on your notebook\n",
    "anim = FuncAnimation(fig, update, frames=350, interval=25, blit=True);\n",
    "anim.save('svm.gif', fps=5);"
   ]
  },
  {
   "cell_type": "code",
   "execution_count": null,
   "metadata": {
    "cell_id": "00014-f05b5f1f-5cc3-4e80-826f-abdd306149fe",
    "deepnote_cell_type": "code",
    "deepnote_to_be_reexecuted": false,
    "etc_hash": "0659febfd1f7470d7d875d23bc112226b3cc0b4e8b52991f1eadea381ebb31e0",
    "execution_millis": 69,
    "execution_start": 1621780978357,
    "source_hash": "283892c9",
    "tags": []
   },
   "outputs": [],
   "source": [
    "# Ok, let's take a look at that image now here in the notebook!\n",
    "from IPython.display import Image\n",
    "Image(filename=\"svm.gif\")"
   ]
  },
  {
   "cell_type": "markdown",
   "metadata": {
    "cell_id": "00011-bbcc2395-e11e-4db9-bfdc-fb26d7c4d281",
    "deepnote_cell_type": "markdown",
    "etc_hash": "48dddea422915af67b2d4d929a251138bbaa8cb836bc285fedd3d7f1adbfc6b5",
    "tags": []
   },
   "source": [
    "Ok, you can see here that as more data is found the support vectors jump around and the street becomes more well defined and robust. The hyperplane then shifts and changes slope to better distinguish between these two feature sets. But this is just the basics of the SVM, there's a bit more we should consider when building these kinds of models, so let's dive into that in the next lecture."
   ]
  }
 ],
 "metadata": {
  "deepnote": {},
  "deepnote_execution_queue": [],
  "deepnote_notebook_id": "9e72876e-9f53-4a2a-952c-aa0d839c094c",
  "kernelspec": {
   "display_name": "Python 3",
   "language": "python",
   "name": "python3"
  },
  "language_info": {
   "codemirror_mode": {
    "name": "ipython",
    "version": 3
   },
   "file_extension": ".py",
   "mimetype": "text/x-python",
   "name": "python",
   "nbconvert_exporter": "python",
   "pygments_lexer": "ipython3",
   "version": "3.7.10"
  }
 },
 "nbformat": 4,
 "nbformat_minor": 4
}
