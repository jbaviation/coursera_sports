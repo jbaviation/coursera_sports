{
 "cells": [
  {
   "cell_type": "markdown",
   "metadata": {
    "cell_id": "00000-4626ca4d-3597-4e63-931c-1ae98cb48b06",
    "deepnote_cell_type": "markdown",
    "tags": []
   },
   "source": [
    "### Week 3 Workbook: Using Internal Measure to Evaluate Relative Intensity"
   ]
  },
  {
   "cell_type": "markdown",
   "metadata": {
    "cell_id": "00001-0dc1f96f-57c7-461b-abf1-86c521edad34",
    "deepnote_cell_type": "markdown",
    "tags": []
   },
   "source": [
    "In this workbook, we will use a large dataset that was derived from the women's basketball team at the University of Michigan.  We have de-identified the dataset changing player names to random Athlete ID numbers.  \n",
    "\n",
    "As we have discussed - internal measures can be a bit more finicky than external measures.  Typically, they need to have some contact with the skin surface (e.g. for measuring the heart or the skeletal muscle electrical activity).  As a result, there are definitely better and worse collections regarding internal measures that depend (largely) upon good skin surface contact.  \n",
    "\n",
    "We have included three games in this dataset -- but we have highlighted a single game in this analysis.  I have cherry-picked a game that has pretty solid heart rate data for the majority of the players. \n",
    "\n",
    "So...let's get started! \n"
   ]
  },
  {
   "cell_type": "markdown",
   "metadata": {
    "cell_id": "00002-65ee4921-ada2-47d8-8b55-d0c0736fd90f",
    "deepnote_cell_type": "markdown",
    "tags": []
   },
   "source": [
    "### Import LIbraries and Dataset"
   ]
  },
  {
   "cell_type": "code",
   "execution_count": 1,
   "metadata": {
    "cell_id": "00002-2252c001-ea8b-4301-bc83-9efdf4cbec35",
    "deepnote_cell_type": "code",
    "deepnote_to_be_reexecuted": false,
    "execution_millis": 1528,
    "execution_start": 1623678385543,
    "source_hash": "4b7e6d0c",
    "tags": []
   },
   "outputs": [],
   "source": [
    "# we have 10 Hz datasets from a number of athletes -- over separate games (UM Women's Basketball from 2019)\n",
    "\n",
    "\n",
    "#imports\n",
    "import numpy as np\n",
    "import pandas as pd\n",
    "from matplotlib import pyplot as plt\n",
    "import seaborn as sn\n",
    "import matplotlib.dates as mdates\n",
    "\n",
    "from datetime import datetime\n",
    "import plotly.graph_objects as go"
   ]
  },
  {
   "cell_type": "markdown",
   "metadata": {
    "cell_id": "00003-48450b7d-6b3b-4ee5-83de-da2d57d41545",
    "deepnote_cell_type": "markdown",
    "tags": []
   },
   "source": [
    "It can be really helpful to read in the date / time info into the dataframe index -- so that is our strategy here: "
   ]
  },
  {
   "cell_type": "code",
   "execution_count": 2,
   "metadata": {
    "cell_id": "00004-0d58ac11-86bb-4bdd-a3bf-4c35158ba017",
    "deepnote_cell_type": "code",
    "deepnote_to_be_reexecuted": false,
    "execution_millis": 14920,
    "execution_start": 1623678387083,
    "source_hash": "7edccd2f",
    "tags": []
   },
   "outputs": [
    {
     "data": {
      "text/html": [
       "<div>\n",
       "<style scoped>\n",
       "    .dataframe tbody tr th:only-of-type {\n",
       "        vertical-align: middle;\n",
       "    }\n",
       "\n",
       "    .dataframe tbody tr th {\n",
       "        vertical-align: top;\n",
       "    }\n",
       "\n",
       "    .dataframe thead th {\n",
       "        text-align: right;\n",
       "    }\n",
       "</style>\n",
       "<table border=\"1\" class=\"dataframe\">\n",
       "  <thead>\n",
       "    <tr style=\"text-align: right;\">\n",
       "      <th></th>\n",
       "      <th>Seconds</th>\n",
       "      <th>Velocity</th>\n",
       "      <th>Acceleration</th>\n",
       "      <th>Odometer</th>\n",
       "      <th>Latitude</th>\n",
       "      <th>Longitude</th>\n",
       "      <th>Heart Rate</th>\n",
       "      <th>Player Load</th>\n",
       "      <th>AthleteID</th>\n",
       "    </tr>\n",
       "    <tr>\n",
       "      <th>Timestamp</th>\n",
       "      <th></th>\n",
       "      <th></th>\n",
       "      <th></th>\n",
       "      <th></th>\n",
       "      <th></th>\n",
       "      <th></th>\n",
       "      <th></th>\n",
       "      <th></th>\n",
       "      <th></th>\n",
       "    </tr>\n",
       "  </thead>\n",
       "  <tbody>\n",
       "    <tr>\n",
       "      <th>2019-01-08 17:39:42</th>\n",
       "      <td>0.0</td>\n",
       "      <td>0</td>\n",
       "      <td>0</td>\n",
       "      <td>0</td>\n",
       "      <td>0</td>\n",
       "      <td>0</td>\n",
       "      <td>83</td>\n",
       "      <td>0.0</td>\n",
       "      <td>Athlete 1</td>\n",
       "    </tr>\n",
       "    <tr>\n",
       "      <th>2019-01-08 17:39:42</th>\n",
       "      <td>0.1</td>\n",
       "      <td>0</td>\n",
       "      <td>0</td>\n",
       "      <td>0</td>\n",
       "      <td>0</td>\n",
       "      <td>0</td>\n",
       "      <td>83</td>\n",
       "      <td>0.0</td>\n",
       "      <td>Athlete 1</td>\n",
       "    </tr>\n",
       "    <tr>\n",
       "      <th>2019-01-08 17:39:42</th>\n",
       "      <td>0.2</td>\n",
       "      <td>0</td>\n",
       "      <td>0</td>\n",
       "      <td>0</td>\n",
       "      <td>0</td>\n",
       "      <td>0</td>\n",
       "      <td>83</td>\n",
       "      <td>0.0</td>\n",
       "      <td>Athlete 1</td>\n",
       "    </tr>\n",
       "    <tr>\n",
       "      <th>2019-01-08 17:39:42</th>\n",
       "      <td>0.3</td>\n",
       "      <td>0</td>\n",
       "      <td>0</td>\n",
       "      <td>0</td>\n",
       "      <td>0</td>\n",
       "      <td>0</td>\n",
       "      <td>83</td>\n",
       "      <td>0.0</td>\n",
       "      <td>Athlete 1</td>\n",
       "    </tr>\n",
       "    <tr>\n",
       "      <th>2019-01-08 17:39:42</th>\n",
       "      <td>0.4</td>\n",
       "      <td>0</td>\n",
       "      <td>0</td>\n",
       "      <td>0</td>\n",
       "      <td>0</td>\n",
       "      <td>0</td>\n",
       "      <td>83</td>\n",
       "      <td>0.0</td>\n",
       "      <td>Athlete 1</td>\n",
       "    </tr>\n",
       "  </tbody>\n",
       "</table>\n",
       "</div>"
      ],
      "text/plain": [
       "                     Seconds  Velocity  Acceleration  Odometer  Latitude  \\\n",
       "Timestamp                                                                  \n",
       "2019-01-08 17:39:42      0.0         0             0         0         0   \n",
       "2019-01-08 17:39:42      0.1         0             0         0         0   \n",
       "2019-01-08 17:39:42      0.2         0             0         0         0   \n",
       "2019-01-08 17:39:42      0.3         0             0         0         0   \n",
       "2019-01-08 17:39:42      0.4         0             0         0         0   \n",
       "\n",
       "                     Longitude  Heart Rate  Player Load  AthleteID  \n",
       "Timestamp                                                           \n",
       "2019-01-08 17:39:42          0          83          0.0  Athlete 1  \n",
       "2019-01-08 17:39:42          0          83          0.0  Athlete 1  \n",
       "2019-01-08 17:39:42          0          83          0.0  Athlete 1  \n",
       "2019-01-08 17:39:42          0          83          0.0  Athlete 1  \n",
       "2019-01-08 17:39:42          0          83          0.0  Athlete 1  "
      ]
     },
     "execution_count": 2,
     "metadata": {},
     "output_type": "execute_result"
    }
   ],
   "source": [
    "df = pd.read_csv(\"../Data/WBBtotal.csv\", index_col =[\"Timestamp\"], parse_dates=[\"Timestamp\"])\n",
    "df.head()"
   ]
  },
  {
   "cell_type": "markdown",
   "metadata": {
    "cell_id": "00006-f2339714-9fb0-4a23-82aa-972ca6d09fbd",
    "deepnote_cell_type": "markdown",
    "tags": []
   },
   "source": [
    "### Data Overview"
   ]
  },
  {
   "cell_type": "markdown",
   "metadata": {
    "cell_id": "00006-98f6fa20-ca52-4c82-ab65-1842e7c303da",
    "deepnote_cell_type": "markdown",
    "tags": []
   },
   "source": [
    "This is a typical Catapult Sports dataset export.  It includes GPS measures - but because basketball is an indoor sport - we will NOT have any GPS measures such as velocity, odometer (distance), latitude or longitude.  So, we will eliminate these columns and focus on those that have meaningful data... while also making a copy of the original dataset into our new dataset called \"df_wbb\"."
   ]
  },
  {
   "cell_type": "code",
   "execution_count": 3,
   "metadata": {
    "cell_id": "00007-fd0a0f42-8c95-4130-a2d8-12971858b315",
    "deepnote_cell_type": "code",
    "deepnote_to_be_reexecuted": false,
    "execution_millis": 446,
    "execution_start": 1623678402025,
    "source_hash": "bd267765",
    "tags": []
   },
   "outputs": [
    {
     "data": {
      "text/html": [
       "<div>\n",
       "<style scoped>\n",
       "    .dataframe tbody tr th:only-of-type {\n",
       "        vertical-align: middle;\n",
       "    }\n",
       "\n",
       "    .dataframe tbody tr th {\n",
       "        vertical-align: top;\n",
       "    }\n",
       "\n",
       "    .dataframe thead th {\n",
       "        text-align: right;\n",
       "    }\n",
       "</style>\n",
       "<table border=\"1\" class=\"dataframe\">\n",
       "  <thead>\n",
       "    <tr style=\"text-align: right;\">\n",
       "      <th></th>\n",
       "      <th>Seconds</th>\n",
       "      <th>Heart Rate</th>\n",
       "      <th>Player Load</th>\n",
       "      <th>AthleteID</th>\n",
       "    </tr>\n",
       "    <tr>\n",
       "      <th>Timestamp</th>\n",
       "      <th></th>\n",
       "      <th></th>\n",
       "      <th></th>\n",
       "      <th></th>\n",
       "    </tr>\n",
       "  </thead>\n",
       "  <tbody>\n",
       "    <tr>\n",
       "      <th>2019-01-08 17:39:42</th>\n",
       "      <td>0.0</td>\n",
       "      <td>83</td>\n",
       "      <td>0.0</td>\n",
       "      <td>Athlete 1</td>\n",
       "    </tr>\n",
       "    <tr>\n",
       "      <th>2019-01-08 17:39:42</th>\n",
       "      <td>0.1</td>\n",
       "      <td>83</td>\n",
       "      <td>0.0</td>\n",
       "      <td>Athlete 1</td>\n",
       "    </tr>\n",
       "    <tr>\n",
       "      <th>2019-01-08 17:39:42</th>\n",
       "      <td>0.2</td>\n",
       "      <td>83</td>\n",
       "      <td>0.0</td>\n",
       "      <td>Athlete 1</td>\n",
       "    </tr>\n",
       "    <tr>\n",
       "      <th>2019-01-08 17:39:42</th>\n",
       "      <td>0.3</td>\n",
       "      <td>83</td>\n",
       "      <td>0.0</td>\n",
       "      <td>Athlete 1</td>\n",
       "    </tr>\n",
       "    <tr>\n",
       "      <th>2019-01-08 17:39:42</th>\n",
       "      <td>0.4</td>\n",
       "      <td>83</td>\n",
       "      <td>0.0</td>\n",
       "      <td>Athlete 1</td>\n",
       "    </tr>\n",
       "    <tr>\n",
       "      <th>...</th>\n",
       "      <td>...</td>\n",
       "      <td>...</td>\n",
       "      <td>...</td>\n",
       "      <td>...</td>\n",
       "    </tr>\n",
       "    <tr>\n",
       "      <th>2019-03-08 16:47:03</th>\n",
       "      <td>11484.4</td>\n",
       "      <td>101</td>\n",
       "      <td>1001.5</td>\n",
       "      <td>Athlete 5</td>\n",
       "    </tr>\n",
       "    <tr>\n",
       "      <th>2019-03-08 16:47:03</th>\n",
       "      <td>11484.5</td>\n",
       "      <td>101</td>\n",
       "      <td>1001.5</td>\n",
       "      <td>Athlete 5</td>\n",
       "    </tr>\n",
       "    <tr>\n",
       "      <th>2019-03-08 16:47:03</th>\n",
       "      <td>11484.6</td>\n",
       "      <td>101</td>\n",
       "      <td>1001.5</td>\n",
       "      <td>Athlete 5</td>\n",
       "    </tr>\n",
       "    <tr>\n",
       "      <th>2019-03-08 16:47:03</th>\n",
       "      <td>11484.7</td>\n",
       "      <td>101</td>\n",
       "      <td>1001.5</td>\n",
       "      <td>Athlete 5</td>\n",
       "    </tr>\n",
       "    <tr>\n",
       "      <th>2019-03-08 16:47:04</th>\n",
       "      <td>11484.8</td>\n",
       "      <td>101</td>\n",
       "      <td>1001.5</td>\n",
       "      <td>Athlete 5</td>\n",
       "    </tr>\n",
       "  </tbody>\n",
       "</table>\n",
       "<p>4016839 rows × 4 columns</p>\n",
       "</div>"
      ],
      "text/plain": [
       "                     Seconds  Heart Rate  Player Load  AthleteID\n",
       "Timestamp                                                       \n",
       "2019-01-08 17:39:42      0.0          83          0.0  Athlete 1\n",
       "2019-01-08 17:39:42      0.1          83          0.0  Athlete 1\n",
       "2019-01-08 17:39:42      0.2          83          0.0  Athlete 1\n",
       "2019-01-08 17:39:42      0.3          83          0.0  Athlete 1\n",
       "2019-01-08 17:39:42      0.4          83          0.0  Athlete 1\n",
       "...                      ...         ...          ...        ...\n",
       "2019-03-08 16:47:03  11484.4         101       1001.5  Athlete 5\n",
       "2019-03-08 16:47:03  11484.5         101       1001.5  Athlete 5\n",
       "2019-03-08 16:47:03  11484.6         101       1001.5  Athlete 5\n",
       "2019-03-08 16:47:03  11484.7         101       1001.5  Athlete 5\n",
       "2019-03-08 16:47:04  11484.8         101       1001.5  Athlete 5\n",
       "\n",
       "[4016839 rows x 4 columns]"
      ]
     },
     "execution_count": 3,
     "metadata": {},
     "output_type": "execute_result"
    }
   ],
   "source": [
    "columns_to_keep = ['Seconds','Heart Rate', 'Player Load', 'AthleteID']\n",
    "\n",
    "df_wbb = df[columns_to_keep]\n",
    "df_wbb"
   ]
  },
  {
   "cell_type": "markdown",
   "metadata": {
    "cell_id": "00010-2891e6c2-4c42-4db1-b323-114c9ad80737",
    "deepnote_cell_type": "markdown",
    "tags": []
   },
   "source": [
    "So -- we have about 4 millions lines here -- so it can become a little cumbersome.  "
   ]
  },
  {
   "cell_type": "markdown",
   "metadata": {
    "cell_id": "00011-bc55b0ed-5848-4bf2-818e-dc834cce54cc",
    "deepnote_cell_type": "text-cell-p",
    "tags": []
   },
   "source": [
    "Next, let's see what different game dates we have in the dataset by turning to the index and looking for unique dates within the timestamp."
   ]
  },
  {
   "cell_type": "code",
   "execution_count": 4,
   "metadata": {
    "cell_id": "00012-22b08aa1-5514-42fd-b2dc-adb3aee6fbe9",
    "deepnote_cell_type": "code",
    "deepnote_to_be_reexecuted": false,
    "execution_millis": 32388,
    "execution_start": 1623678402478,
    "source_hash": "e8b46adb",
    "tags": []
   },
   "outputs": [
    {
     "data": {
      "text/plain": [
       "Index([2019-01-08, 2019-03-09, 2019-03-08], dtype='object', name='Timestamp')"
      ]
     },
     "execution_count": 4,
     "metadata": {},
     "output_type": "execute_result"
    }
   ],
   "source": [
    "# Get unique game days from within the dataset -- it might run slowly -- in which case it is not necessary\n",
    "df_wbb.index.map(pd.Timestamp.date).unique()"
   ]
  },
  {
   "cell_type": "markdown",
   "metadata": {
    "cell_id": "00015-9b422576-e975-4e5c-8d82-fd8da4ebd028",
    "deepnote_cell_type": "markdown",
    "tags": []
   },
   "source": [
    "Next, let's look at the number and label of the different athletes in the dataset."
   ]
  },
  {
   "cell_type": "code",
   "execution_count": 5,
   "metadata": {
    "cell_id": "00018-a45aa050-529b-4e8b-9a82-fc2224997c52",
    "deepnote_cell_type": "code",
    "deepnote_to_be_reexecuted": false,
    "execution_millis": 425,
    "execution_start": 1623678434863,
    "source_hash": "645aea80",
    "tags": []
   },
   "outputs": [
    {
     "name": "stdout",
     "output_type": "stream",
     "text": [
      "['Athlete 1' 'Athlete 12' 'Athlete 10' 'Athlete 3' 'Athlete 13'\n",
      " 'Athlete 2' 'Athlete 11' 'Athlete 6' 'Athlete 4' 'Athlete 9' 'Athlete 8'\n",
      " 'Athlete 7' 'Athlete 5']\n"
     ]
    }
   ],
   "source": [
    "# Get unique Athlete IDs\n",
    "uniqueValues = (df_wbb['AthleteID'].unique())\n",
    "print(uniqueValues)"
   ]
  },
  {
   "cell_type": "code",
   "execution_count": 6,
   "metadata": {
    "cell_id": "00005-a5189fbe-92d1-4310-9600-60f9c28a054b",
    "deepnote_cell_type": "code",
    "deepnote_to_be_reexecuted": false,
    "execution_millis": 21,
    "execution_start": 1623678435285,
    "source_hash": "177ffdde",
    "tags": []
   },
   "outputs": [
    {
     "name": "stdout",
     "output_type": "stream",
     "text": [
      "Index(['Seconds', 'Heart Rate', 'Player Load', 'AthleteID'], dtype='object')\n"
     ]
    }
   ],
   "source": [
    "print(df_wbb.columns)"
   ]
  },
  {
   "cell_type": "markdown",
   "metadata": {
    "cell_id": "00015-d66d9637-fd1c-42ce-a111-6b0c6d4f61a5",
    "deepnote_cell_type": "markdown",
    "tags": []
   },
   "source": [
    "### Data Preparation"
   ]
  },
  {
   "cell_type": "markdown",
   "metadata": {
    "cell_id": "00013-5791338a-6817-4952-86e0-a3b70c7a707b",
    "deepnote_cell_type": "text-cell-p",
    "tags": []
   },
   "source": [
    "Let's reduce the size of our dataset and the scope of our analysis by reducing our dataset to just the March 8th (2019-03-08) game.  As the index is time  I will name the dataframe: \"Game_3_8_df\"."
   ]
  },
  {
   "cell_type": "code",
   "execution_count": 7,
   "metadata": {
    "cell_id": "00014-89d27bca-987f-4e2c-959d-e2f49ec9e840",
    "deepnote_cell_type": "code",
    "deepnote_to_be_reexecuted": false,
    "execution_millis": 278,
    "execution_start": 1623678435302,
    "source_hash": "7443f0a2",
    "tags": []
   },
   "outputs": [
    {
     "data": {
      "text/html": [
       "<div>\n",
       "<style scoped>\n",
       "    .dataframe tbody tr th:only-of-type {\n",
       "        vertical-align: middle;\n",
       "    }\n",
       "\n",
       "    .dataframe tbody tr th {\n",
       "        vertical-align: top;\n",
       "    }\n",
       "\n",
       "    .dataframe thead th {\n",
       "        text-align: right;\n",
       "    }\n",
       "</style>\n",
       "<table border=\"1\" class=\"dataframe\">\n",
       "  <thead>\n",
       "    <tr style=\"text-align: right;\">\n",
       "      <th></th>\n",
       "      <th>Seconds</th>\n",
       "      <th>Heart Rate</th>\n",
       "      <th>Player Load</th>\n",
       "      <th>AthleteID</th>\n",
       "    </tr>\n",
       "    <tr>\n",
       "      <th>Timestamp</th>\n",
       "      <th></th>\n",
       "      <th></th>\n",
       "      <th></th>\n",
       "      <th></th>\n",
       "    </tr>\n",
       "  </thead>\n",
       "  <tbody>\n",
       "    <tr>\n",
       "      <th>2019-03-08 13:35:00</th>\n",
       "      <td>0.0</td>\n",
       "      <td>0</td>\n",
       "      <td>0.0</td>\n",
       "      <td>Athlete 9</td>\n",
       "    </tr>\n",
       "    <tr>\n",
       "      <th>2019-03-08 13:35:00</th>\n",
       "      <td>0.1</td>\n",
       "      <td>0</td>\n",
       "      <td>0.0</td>\n",
       "      <td>Athlete 9</td>\n",
       "    </tr>\n",
       "    <tr>\n",
       "      <th>2019-03-08 13:35:00</th>\n",
       "      <td>0.2</td>\n",
       "      <td>0</td>\n",
       "      <td>0.0</td>\n",
       "      <td>Athlete 9</td>\n",
       "    </tr>\n",
       "    <tr>\n",
       "      <th>2019-03-08 13:35:00</th>\n",
       "      <td>0.3</td>\n",
       "      <td>0</td>\n",
       "      <td>0.0</td>\n",
       "      <td>Athlete 9</td>\n",
       "    </tr>\n",
       "    <tr>\n",
       "      <th>2019-03-08 13:35:00</th>\n",
       "      <td>0.4</td>\n",
       "      <td>0</td>\n",
       "      <td>0.1</td>\n",
       "      <td>Athlete 9</td>\n",
       "    </tr>\n",
       "    <tr>\n",
       "      <th>...</th>\n",
       "      <td>...</td>\n",
       "      <td>...</td>\n",
       "      <td>...</td>\n",
       "      <td>...</td>\n",
       "    </tr>\n",
       "    <tr>\n",
       "      <th>2019-03-08 16:47:03</th>\n",
       "      <td>11484.4</td>\n",
       "      <td>101</td>\n",
       "      <td>1001.5</td>\n",
       "      <td>Athlete 5</td>\n",
       "    </tr>\n",
       "    <tr>\n",
       "      <th>2019-03-08 16:47:03</th>\n",
       "      <td>11484.5</td>\n",
       "      <td>101</td>\n",
       "      <td>1001.5</td>\n",
       "      <td>Athlete 5</td>\n",
       "    </tr>\n",
       "    <tr>\n",
       "      <th>2019-03-08 16:47:03</th>\n",
       "      <td>11484.6</td>\n",
       "      <td>101</td>\n",
       "      <td>1001.5</td>\n",
       "      <td>Athlete 5</td>\n",
       "    </tr>\n",
       "    <tr>\n",
       "      <th>2019-03-08 16:47:03</th>\n",
       "      <td>11484.7</td>\n",
       "      <td>101</td>\n",
       "      <td>1001.5</td>\n",
       "      <td>Athlete 5</td>\n",
       "    </tr>\n",
       "    <tr>\n",
       "      <th>2019-03-08 16:47:04</th>\n",
       "      <td>11484.8</td>\n",
       "      <td>101</td>\n",
       "      <td>1001.5</td>\n",
       "      <td>Athlete 5</td>\n",
       "    </tr>\n",
       "  </tbody>\n",
       "</table>\n",
       "<p>1365802 rows × 4 columns</p>\n",
       "</div>"
      ],
      "text/plain": [
       "                     Seconds  Heart Rate  Player Load  AthleteID\n",
       "Timestamp                                                       \n",
       "2019-03-08 13:35:00      0.0           0          0.0  Athlete 9\n",
       "2019-03-08 13:35:00      0.1           0          0.0  Athlete 9\n",
       "2019-03-08 13:35:00      0.2           0          0.0  Athlete 9\n",
       "2019-03-08 13:35:00      0.3           0          0.0  Athlete 9\n",
       "2019-03-08 13:35:00      0.4           0          0.1  Athlete 9\n",
       "...                      ...         ...          ...        ...\n",
       "2019-03-08 16:47:03  11484.4         101       1001.5  Athlete 5\n",
       "2019-03-08 16:47:03  11484.5         101       1001.5  Athlete 5\n",
       "2019-03-08 16:47:03  11484.6         101       1001.5  Athlete 5\n",
       "2019-03-08 16:47:03  11484.7         101       1001.5  Athlete 5\n",
       "2019-03-08 16:47:04  11484.8         101       1001.5  Athlete 5\n",
       "\n",
       "[1365802 rows x 4 columns]"
      ]
     },
     "execution_count": 7,
     "metadata": {},
     "output_type": "execute_result"
    }
   ],
   "source": [
    "Game_3_8_df = df_wbb.loc['2019-03-08']\n",
    "Game_3_8_df"
   ]
  },
  {
   "cell_type": "markdown",
   "metadata": {
    "cell_id": "00016-9164a76a-688a-446c-8f4f-b3f51cf6e6df",
    "deepnote_cell_type": "markdown",
    "tags": []
   },
   "source": [
    "We are now down to just over a million lines of code  - representing an entire basketball game (for most of the roster) broken down into 1/10th of a second (ie. 10 hertz) collections.  \n",
    "\n"
   ]
  },
  {
   "cell_type": "markdown",
   "metadata": {
    "cell_id": "00024-fa9147ca-e86a-4978-b899-d802a309c0be",
    "deepnote_cell_type": "markdown",
    "tags": []
   },
   "source": [
    "### Evaluating the dataset (preparing to clean the dataset)"
   ]
  },
  {
   "cell_type": "markdown",
   "metadata": {
    "cell_id": "00021-521155e3-3118-4552-b31c-7c97aa66c4af",
    "deepnote_cell_type": "markdown",
    "tags": []
   },
   "source": [
    "Our biggest concern for this analysis is how much of the heart rate data might not be \"real\".    So, we can start by getting a count (ie. a sum) of all the zeroes in the dataset this way: (axis=0 is used for columns)"
   ]
  },
  {
   "cell_type": "code",
   "execution_count": 8,
   "metadata": {
    "cell_id": "00027-830f4599-3d49-404b-919c-885aa3e29160",
    "deepnote_cell_type": "code",
    "deepnote_to_be_reexecuted": false,
    "execution_millis": 206,
    "execution_start": 1623678435576,
    "source_hash": "fe76d6ab",
    "tags": []
   },
   "outputs": [
    {
     "data": {
      "text/plain": [
       "Seconds          13\n",
       "Heart Rate     9106\n",
       "Player Load     218\n",
       "AthleteID         0\n",
       "dtype: int64"
      ]
     },
     "execution_count": 8,
     "metadata": {},
     "output_type": "execute_result"
    }
   ],
   "source": [
    "(Game_3_8_df == 0).sum(axis=0)  # we are just capturing the number of cells with a zero in them for each column in the entire team dataframe"
   ]
  },
  {
   "cell_type": "markdown",
   "metadata": {
    "cell_id": "00028-0f601930-360f-47d7-a2b8-ae324ddcff64",
    "deepnote_cell_type": "markdown",
    "tags": []
   },
   "source": [
    "In this first step of investigating the quality of the heart rate data -- there are definitely concerns.  Whereas the playerload and the \"seconds\" measures should have zero values - we should not have any athletes having a heart rate of zero! \n",
    "\n",
    "However, the Catapult devices are turned on in some cases before the heart rate strap is in place - which would result in a zero value.  However, in this case we have about 9 thousand zeroes to contend with -- across about a million cells of HR data.  So, we want to know where these zeroes are occuring in order to decide how much of a problem they are."
   ]
  },
  {
   "cell_type": "markdown",
   "metadata": {
    "cell_id": "00017-e32ffbcc-22d5-4195-becd-be30dcee7e6e",
    "deepnote_cell_type": "text-cell-p",
    "tags": []
   },
   "source": [
    "Let's grab a dataset from one player to get a direct look at the HR data."
   ]
  },
  {
   "cell_type": "code",
   "execution_count": 9,
   "metadata": {
    "cell_id": "00019-6b2f0408-39b5-46e3-9cf8-a4ae715768e0",
    "deepnote_cell_type": "code",
    "deepnote_to_be_reexecuted": false,
    "execution_millis": 252,
    "execution_start": 1623678435780,
    "source_hash": "3512b2cd",
    "tags": []
   },
   "outputs": [
    {
     "data": {
      "text/html": [
       "<div>\n",
       "<style scoped>\n",
       "    .dataframe tbody tr th:only-of-type {\n",
       "        vertical-align: middle;\n",
       "    }\n",
       "\n",
       "    .dataframe tbody tr th {\n",
       "        vertical-align: top;\n",
       "    }\n",
       "\n",
       "    .dataframe thead th {\n",
       "        text-align: right;\n",
       "    }\n",
       "</style>\n",
       "<table border=\"1\" class=\"dataframe\">\n",
       "  <thead>\n",
       "    <tr style=\"text-align: right;\">\n",
       "      <th></th>\n",
       "      <th>Seconds</th>\n",
       "      <th>Heart Rate</th>\n",
       "      <th>Player Load</th>\n",
       "      <th>AthleteID</th>\n",
       "    </tr>\n",
       "    <tr>\n",
       "      <th>Timestamp</th>\n",
       "      <th></th>\n",
       "      <th></th>\n",
       "      <th></th>\n",
       "      <th></th>\n",
       "    </tr>\n",
       "  </thead>\n",
       "  <tbody>\n",
       "    <tr>\n",
       "      <th>2019-03-08 13:35:31</th>\n",
       "      <td>0.0</td>\n",
       "      <td>93</td>\n",
       "      <td>0.0</td>\n",
       "      <td>Athlete 12</td>\n",
       "    </tr>\n",
       "    <tr>\n",
       "      <th>2019-03-08 13:35:31</th>\n",
       "      <td>0.1</td>\n",
       "      <td>93</td>\n",
       "      <td>0.0</td>\n",
       "      <td>Athlete 12</td>\n",
       "    </tr>\n",
       "    <tr>\n",
       "      <th>2019-03-08 13:35:31</th>\n",
       "      <td>0.2</td>\n",
       "      <td>93</td>\n",
       "      <td>0.0</td>\n",
       "      <td>Athlete 12</td>\n",
       "    </tr>\n",
       "    <tr>\n",
       "      <th>2019-03-08 13:35:31</th>\n",
       "      <td>0.3</td>\n",
       "      <td>93</td>\n",
       "      <td>0.0</td>\n",
       "      <td>Athlete 12</td>\n",
       "    </tr>\n",
       "    <tr>\n",
       "      <th>2019-03-08 13:35:31</th>\n",
       "      <td>0.4</td>\n",
       "      <td>95</td>\n",
       "      <td>0.0</td>\n",
       "      <td>Athlete 12</td>\n",
       "    </tr>\n",
       "    <tr>\n",
       "      <th>...</th>\n",
       "      <td>...</td>\n",
       "      <td>...</td>\n",
       "      <td>...</td>\n",
       "      <td>...</td>\n",
       "    </tr>\n",
       "    <tr>\n",
       "      <th>2019-03-08 16:45:33</th>\n",
       "      <td>11402.7</td>\n",
       "      <td>107</td>\n",
       "      <td>311.2</td>\n",
       "      <td>Athlete 12</td>\n",
       "    </tr>\n",
       "    <tr>\n",
       "      <th>2019-03-08 16:45:33</th>\n",
       "      <td>11402.8</td>\n",
       "      <td>107</td>\n",
       "      <td>311.2</td>\n",
       "      <td>Athlete 12</td>\n",
       "    </tr>\n",
       "    <tr>\n",
       "      <th>2019-03-08 16:45:33</th>\n",
       "      <td>11402.9</td>\n",
       "      <td>107</td>\n",
       "      <td>311.2</td>\n",
       "      <td>Athlete 12</td>\n",
       "    </tr>\n",
       "    <tr>\n",
       "      <th>2019-03-08 16:45:34</th>\n",
       "      <td>11403.0</td>\n",
       "      <td>107</td>\n",
       "      <td>311.2</td>\n",
       "      <td>Athlete 12</td>\n",
       "    </tr>\n",
       "    <tr>\n",
       "      <th>2019-03-08 16:45:34</th>\n",
       "      <td>11403.1</td>\n",
       "      <td>107</td>\n",
       "      <td>311.2</td>\n",
       "      <td>Athlete 12</td>\n",
       "    </tr>\n",
       "  </tbody>\n",
       "</table>\n",
       "<p>114032 rows × 4 columns</p>\n",
       "</div>"
      ],
      "text/plain": [
       "                     Seconds  Heart Rate  Player Load   AthleteID\n",
       "Timestamp                                                        \n",
       "2019-03-08 13:35:31      0.0          93          0.0  Athlete 12\n",
       "2019-03-08 13:35:31      0.1          93          0.0  Athlete 12\n",
       "2019-03-08 13:35:31      0.2          93          0.0  Athlete 12\n",
       "2019-03-08 13:35:31      0.3          93          0.0  Athlete 12\n",
       "2019-03-08 13:35:31      0.4          95          0.0  Athlete 12\n",
       "...                      ...         ...          ...         ...\n",
       "2019-03-08 16:45:33  11402.7         107        311.2  Athlete 12\n",
       "2019-03-08 16:45:33  11402.8         107        311.2  Athlete 12\n",
       "2019-03-08 16:45:33  11402.9         107        311.2  Athlete 12\n",
       "2019-03-08 16:45:34  11403.0         107        311.2  Athlete 12\n",
       "2019-03-08 16:45:34  11403.1         107        311.2  Athlete 12\n",
       "\n",
       "[114032 rows x 4 columns]"
      ]
     },
     "execution_count": 9,
     "metadata": {},
     "output_type": "execute_result"
    }
   ],
   "source": [
    "Ath12_Game_3_8_df = Game_3_8_df.loc[Game_3_8_df['AthleteID'] == 'Athlete 12']   # we are choosing to look at athlete 12 for a quick look\n",
    "Ath12_Game_3_8_df"
   ]
  },
  {
   "cell_type": "markdown",
   "metadata": {
    "cell_id": "00020-7bea3130-c82a-46a9-b591-ce335d17e7ae",
    "deepnote_cell_type": "text-cell-p",
    "tags": []
   },
   "source": [
    "Let's take a quick look at the data from this randomly selected athlete:"
   ]
  },
  {
   "cell_type": "code",
   "execution_count": 10,
   "metadata": {
    "cell_id": "00021-644cb5a9-e8b7-4182-ad15-36986b603dae",
    "deepnote_cell_type": "code",
    "deepnote_to_be_reexecuted": false,
    "execution_millis": 431,
    "execution_start": 1623678436032,
    "source_hash": "55ab5517",
    "tags": []
   },
   "outputs": [
    {
     "data": {
      "text/plain": [
       "<AxesSubplot:xlabel='Seconds'>"
      ]
     },
     "execution_count": 10,
     "metadata": {},
     "output_type": "execute_result"
    },
    {
     "data": {
      "image/png": "[encoded data removed]",
      "text/plain": [
       "<Figure size 432x288 with 1 Axes>"
      ]
     },
     "metadata": {
      "needs_background": "light"
     },
     "output_type": "display_data"
    }
   ],
   "source": [
    "Ath12_Game_3_8_df.plot(x='Seconds', y='Heart Rate') # Simple plot from dataframe of Athlete 12 from the game on 03"
   ]
  },
  {
   "cell_type": "markdown",
   "metadata": {
    "cell_id": "00026-f2dce25d-0dcc-4f94-a353-ec1c2d10799a",
    "deepnote_cell_type": "text-cell-p",
    "tags": []
   },
   "source": [
    "The spots where the values drop down to zero are problematic .  We want to get rid of any zero values for HR -- as that is not (physiologically) possible and it will disrupt our analyses.   Logistically, this happens due to a transient loss of signal from the sensor (in this case a chest-strap for heart electrical activity (ECG)).  "
   ]
  },
  {
   "cell_type": "markdown",
   "metadata": {
    "cell_id": "00029-71451488-bec1-4d91-a117-86a139bf88ba",
    "deepnote_cell_type": "markdown",
    "tags": []
   },
   "source": [
    "Let's jump back to the whole team dataset and get a more granular look at the heart rate data.  Let's get it broken down for each player.  We'll use the \"agg\" method to find the minimum (\"min\") value, average, maximum and length of the values according to each athlete ID (ie. player) using the groupby method that we have used before:  "
   ]
  },
  {
   "cell_type": "code",
   "execution_count": 11,
   "metadata": {
    "cell_id": "00027-37c00264-afa7-405b-bc41-cbe1d8a53e2f",
    "deepnote_cell_type": "code",
    "deepnote_to_be_reexecuted": false,
    "execution_millis": 780,
    "execution_start": 1623678436466,
    "source_hash": "3aab6e9a",
    "tags": []
   },
   "outputs": [
    {
     "data": {
      "text/html": [
       "<div>\n",
       "<style scoped>\n",
       "    .dataframe tbody tr th:only-of-type {\n",
       "        vertical-align: middle;\n",
       "    }\n",
       "\n",
       "    .dataframe tbody tr th {\n",
       "        vertical-align: top;\n",
       "    }\n",
       "\n",
       "    .dataframe thead tr th {\n",
       "        text-align: left;\n",
       "    }\n",
       "\n",
       "    .dataframe thead tr:last-of-type th {\n",
       "        text-align: right;\n",
       "    }\n",
       "</style>\n",
       "<table border=\"1\" class=\"dataframe\">\n",
       "  <thead>\n",
       "    <tr>\n",
       "      <th></th>\n",
       "      <th colspan=\"4\" halign=\"left\">Seconds</th>\n",
       "      <th colspan=\"4\" halign=\"left\">Heart Rate</th>\n",
       "      <th colspan=\"4\" halign=\"left\">Player Load</th>\n",
       "    </tr>\n",
       "    <tr>\n",
       "      <th></th>\n",
       "      <th>min</th>\n",
       "      <th>average</th>\n",
       "      <th>max</th>\n",
       "      <th>len</th>\n",
       "      <th>min</th>\n",
       "      <th>average</th>\n",
       "      <th>max</th>\n",
       "      <th>len</th>\n",
       "      <th>min</th>\n",
       "      <th>average</th>\n",
       "      <th>max</th>\n",
       "      <th>len</th>\n",
       "    </tr>\n",
       "    <tr>\n",
       "      <th>AthleteID</th>\n",
       "      <th></th>\n",
       "      <th></th>\n",
       "      <th></th>\n",
       "      <th></th>\n",
       "      <th></th>\n",
       "      <th></th>\n",
       "      <th></th>\n",
       "      <th></th>\n",
       "      <th></th>\n",
       "      <th></th>\n",
       "      <th></th>\n",
       "      <th></th>\n",
       "    </tr>\n",
       "  </thead>\n",
       "  <tbody>\n",
       "    <tr>\n",
       "      <th>Athlete 1</th>\n",
       "      <td>0.0</td>\n",
       "      <td>5370.00</td>\n",
       "      <td>10740.0</td>\n",
       "      <td>107401.0</td>\n",
       "      <td>0</td>\n",
       "      <td>148.808065</td>\n",
       "      <td>221</td>\n",
       "      <td>107401</td>\n",
       "      <td>0.0</td>\n",
       "      <td>393.937455</td>\n",
       "      <td>837.2</td>\n",
       "      <td>107401.0</td>\n",
       "    </tr>\n",
       "    <tr>\n",
       "      <th>Athlete 10</th>\n",
       "      <td>0.0</td>\n",
       "      <td>5681.20</td>\n",
       "      <td>11362.4</td>\n",
       "      <td>113625.0</td>\n",
       "      <td>0</td>\n",
       "      <td>146.928466</td>\n",
       "      <td>217</td>\n",
       "      <td>113625</td>\n",
       "      <td>0.0</td>\n",
       "      <td>601.659845</td>\n",
       "      <td>1300.7</td>\n",
       "      <td>113625.0</td>\n",
       "    </tr>\n",
       "    <tr>\n",
       "      <th>Athlete 11</th>\n",
       "      <td>0.0</td>\n",
       "      <td>5713.00</td>\n",
       "      <td>11426.0</td>\n",
       "      <td>114261.0</td>\n",
       "      <td>0</td>\n",
       "      <td>95.902136</td>\n",
       "      <td>211</td>\n",
       "      <td>114261</td>\n",
       "      <td>0.0</td>\n",
       "      <td>176.135225</td>\n",
       "      <td>271.3</td>\n",
       "      <td>114261.0</td>\n",
       "    </tr>\n",
       "    <tr>\n",
       "      <th>Athlete 12</th>\n",
       "      <td>0.0</td>\n",
       "      <td>5701.55</td>\n",
       "      <td>11403.1</td>\n",
       "      <td>114032.0</td>\n",
       "      <td>0</td>\n",
       "      <td>83.491809</td>\n",
       "      <td>183</td>\n",
       "      <td>114032</td>\n",
       "      <td>0.0</td>\n",
       "      <td>195.057992</td>\n",
       "      <td>311.2</td>\n",
       "      <td>114032.0</td>\n",
       "    </tr>\n",
       "    <tr>\n",
       "      <th>Athlete 13</th>\n",
       "      <td>0.0</td>\n",
       "      <td>5704.30</td>\n",
       "      <td>11408.6</td>\n",
       "      <td>114087.0</td>\n",
       "      <td>0</td>\n",
       "      <td>97.911620</td>\n",
       "      <td>165</td>\n",
       "      <td>114087</td>\n",
       "      <td>0.0</td>\n",
       "      <td>186.330738</td>\n",
       "      <td>305.1</td>\n",
       "      <td>114087.0</td>\n",
       "    </tr>\n",
       "    <tr>\n",
       "      <th>Athlete 2</th>\n",
       "      <td>0.0</td>\n",
       "      <td>5691.90</td>\n",
       "      <td>11383.8</td>\n",
       "      <td>113839.0</td>\n",
       "      <td>0</td>\n",
       "      <td>108.144494</td>\n",
       "      <td>206</td>\n",
       "      <td>113839</td>\n",
       "      <td>0.0</td>\n",
       "      <td>276.709051</td>\n",
       "      <td>458.6</td>\n",
       "      <td>113839.0</td>\n",
       "    </tr>\n",
       "    <tr>\n",
       "      <th>Athlete 3</th>\n",
       "      <td>0.0</td>\n",
       "      <td>5746.50</td>\n",
       "      <td>11493.0</td>\n",
       "      <td>114931.0</td>\n",
       "      <td>0</td>\n",
       "      <td>101.555638</td>\n",
       "      <td>220</td>\n",
       "      <td>114931</td>\n",
       "      <td>0.0</td>\n",
       "      <td>194.991953</td>\n",
       "      <td>305.2</td>\n",
       "      <td>114931.0</td>\n",
       "    </tr>\n",
       "    <tr>\n",
       "      <th>Athlete 4</th>\n",
       "      <td>0.0</td>\n",
       "      <td>5722.20</td>\n",
       "      <td>11444.4</td>\n",
       "      <td>114445.0</td>\n",
       "      <td>0</td>\n",
       "      <td>84.282773</td>\n",
       "      <td>185</td>\n",
       "      <td>114445</td>\n",
       "      <td>0.0</td>\n",
       "      <td>231.538611</td>\n",
       "      <td>384.5</td>\n",
       "      <td>114445.0</td>\n",
       "    </tr>\n",
       "    <tr>\n",
       "      <th>Athlete 5</th>\n",
       "      <td>0.0</td>\n",
       "      <td>5742.40</td>\n",
       "      <td>11484.8</td>\n",
       "      <td>114849.0</td>\n",
       "      <td>0</td>\n",
       "      <td>140.531463</td>\n",
       "      <td>217</td>\n",
       "      <td>114849</td>\n",
       "      <td>0.0</td>\n",
       "      <td>485.788989</td>\n",
       "      <td>1001.5</td>\n",
       "      <td>114849.0</td>\n",
       "    </tr>\n",
       "    <tr>\n",
       "      <th>Athlete 6</th>\n",
       "      <td>0.0</td>\n",
       "      <td>5736.40</td>\n",
       "      <td>11472.8</td>\n",
       "      <td>114729.0</td>\n",
       "      <td>0</td>\n",
       "      <td>111.404606</td>\n",
       "      <td>183</td>\n",
       "      <td>114729</td>\n",
       "      <td>0.0</td>\n",
       "      <td>158.246782</td>\n",
       "      <td>255.7</td>\n",
       "      <td>114729.0</td>\n",
       "    </tr>\n",
       "    <tr>\n",
       "      <th>Athlete 7</th>\n",
       "      <td>0.0</td>\n",
       "      <td>29.90</td>\n",
       "      <td>59.8</td>\n",
       "      <td>599.0</td>\n",
       "      <td>0</td>\n",
       "      <td>0.000000</td>\n",
       "      <td>0</td>\n",
       "      <td>599</td>\n",
       "      <td>0.0</td>\n",
       "      <td>1.649416</td>\n",
       "      <td>2.8</td>\n",
       "      <td>599.0</td>\n",
       "    </tr>\n",
       "    <tr>\n",
       "      <th>Athlete 8</th>\n",
       "      <td>0.0</td>\n",
       "      <td>5742.90</td>\n",
       "      <td>11485.8</td>\n",
       "      <td>114859.0</td>\n",
       "      <td>0</td>\n",
       "      <td>112.379587</td>\n",
       "      <td>192</td>\n",
       "      <td>114859</td>\n",
       "      <td>0.0</td>\n",
       "      <td>245.621813</td>\n",
       "      <td>452.5</td>\n",
       "      <td>114859.0</td>\n",
       "    </tr>\n",
       "    <tr>\n",
       "      <th>Athlete 9</th>\n",
       "      <td>0.0</td>\n",
       "      <td>5707.20</td>\n",
       "      <td>11414.4</td>\n",
       "      <td>114145.0</td>\n",
       "      <td>0</td>\n",
       "      <td>149.165263</td>\n",
       "      <td>210</td>\n",
       "      <td>114145</td>\n",
       "      <td>0.0</td>\n",
       "      <td>412.945059</td>\n",
       "      <td>958.2</td>\n",
       "      <td>114145.0</td>\n",
       "    </tr>\n",
       "  </tbody>\n",
       "</table>\n",
       "</div>"
      ],
      "text/plain": [
       "           Seconds                             Heart Rate                   \\\n",
       "               min  average      max       len        min     average  max   \n",
       "AthleteID                                                                    \n",
       "Athlete 1      0.0  5370.00  10740.0  107401.0          0  148.808065  221   \n",
       "Athlete 10     0.0  5681.20  11362.4  113625.0          0  146.928466  217   \n",
       "Athlete 11     0.0  5713.00  11426.0  114261.0          0   95.902136  211   \n",
       "Athlete 12     0.0  5701.55  11403.1  114032.0          0   83.491809  183   \n",
       "Athlete 13     0.0  5704.30  11408.6  114087.0          0   97.911620  165   \n",
       "Athlete 2      0.0  5691.90  11383.8  113839.0          0  108.144494  206   \n",
       "Athlete 3      0.0  5746.50  11493.0  114931.0          0  101.555638  220   \n",
       "Athlete 4      0.0  5722.20  11444.4  114445.0          0   84.282773  185   \n",
       "Athlete 5      0.0  5742.40  11484.8  114849.0          0  140.531463  217   \n",
       "Athlete 6      0.0  5736.40  11472.8  114729.0          0  111.404606  183   \n",
       "Athlete 7      0.0    29.90     59.8     599.0          0    0.000000    0   \n",
       "Athlete 8      0.0  5742.90  11485.8  114859.0          0  112.379587  192   \n",
       "Athlete 9      0.0  5707.20  11414.4  114145.0          0  149.165263  210   \n",
       "\n",
       "                   Player Load                                \n",
       "               len         min     average     max       len  \n",
       "AthleteID                                                     \n",
       "Athlete 1   107401         0.0  393.937455   837.2  107401.0  \n",
       "Athlete 10  113625         0.0  601.659845  1300.7  113625.0  \n",
       "Athlete 11  114261         0.0  176.135225   271.3  114261.0  \n",
       "Athlete 12  114032         0.0  195.057992   311.2  114032.0  \n",
       "Athlete 13  114087         0.0  186.330738   305.1  114087.0  \n",
       "Athlete 2   113839         0.0  276.709051   458.6  113839.0  \n",
       "Athlete 3   114931         0.0  194.991953   305.2  114931.0  \n",
       "Athlete 4   114445         0.0  231.538611   384.5  114445.0  \n",
       "Athlete 5   114849         0.0  485.788989  1001.5  114849.0  \n",
       "Athlete 6   114729         0.0  158.246782   255.7  114729.0  \n",
       "Athlete 7      599         0.0    1.649416     2.8     599.0  \n",
       "Athlete 8   114859         0.0  245.621813   452.5  114859.0  \n",
       "Athlete 9   114145         0.0  412.945059   958.2  114145.0  "
      ]
     },
     "execution_count": 11,
     "metadata": {},
     "output_type": "execute_result"
    }
   ],
   "source": [
    "# The following will look at each athelete and, for each of our columns of seconds, heart rate, and player load\n",
    "# we will generate the min, average, and max values\n",
    "Game_3_8_df.groupby('AthleteID').agg([min,np.average,max,len])"
   ]
  },
  {
   "cell_type": "markdown",
   "metadata": {
    "cell_id": "00031-8da6463c-325b-4467-bc5b-7afaf0fbeec7",
    "deepnote_cell_type": "markdown",
    "tags": []
   },
   "source": [
    "This table gives us a lot to digest.  By looking at the minimum values for heart rate here, we can see that we have at least one \"zero\" value for HR for EVERY player.  This can result from the device powering on prior to the heart rate strap being worn by the athlete.  So, it is not an immediate concern.  However, we really want to determine how many zero values are in the data set for each player -- and eliminate those zero values.\n"
   ]
  },
  {
   "cell_type": "markdown",
   "metadata": {
    "cell_id": "00034-85d13292-5da4-49da-9f67-c2740196632a",
    "deepnote_cell_type": "text-cell-p",
    "tags": []
   },
   "source": [
    "We can also see from this table that we have a variable number of datapoints for the different players.  This typically relates to when the devices are turned on and off.  Most of the players have a similar number of datapoints (107k to 115k).  However, Athlete 7 is a special case with only 599 observations and NO heart rate values above zero.  "
   ]
  },
  {
   "cell_type": "markdown",
   "metadata": {
    "cell_id": "00032-3769fe9f-3757-4639-9e9e-6a9aec343252",
    "deepnote_cell_type": "markdown",
    "tags": []
   },
   "source": [
    "### Cleaning the dataset (Eliminating heart rates of zero and athlete without HR data)"
   ]
  },
  {
   "cell_type": "markdown",
   "metadata": {
    "cell_id": "00035-5d0ba58a-fa4c-4465-88e0-6e22fa4a5f0f",
    "deepnote_cell_type": "text-cell-p",
    "tags": []
   },
   "source": [
    "As we know that zero is not physiologically possible for heart rate, let's drop all the zero heart rate values.   We can then go back and determine how much missing HR data there is for each athlete.  We will change each value of zero (ie. ['Heart Rate'] ==0) to a non-value or \"not a number\" (nan).  Here is the simple code: "
   ]
  },
  {
   "cell_type": "code",
   "execution_count": 11,
   "metadata": {
    "cell_id": "00037-7681df15-bc7a-47ed-ad8a-7b7c2727fd9f",
    "deepnote_cell_type": "code",
    "deepnote_to_be_reexecuted": false,
    "execution_millis": 7,
    "execution_start": 1623678437239,
    "source_hash": "4aa592f6",
    "tags": []
   },
   "outputs": [],
   "source": [
    "%%capture\n",
    "Game_3_8_df.loc[Game_3_8_df['Heart Rate'] ==0, 'Heart Rate'] = np.nan"
   ]
  },
  {
   "cell_type": "markdown",
   "metadata": {
    "cell_id": "00036-655a69a6-21ea-4367-9b5e-241a38f17a1f",
    "deepnote_cell_type": "text-cell-p",
    "tags": []
   },
   "source": [
    "Note: we have not done this for playerload - as it is possible to have \"zero\" as a playerload."
   ]
  },
  {
   "cell_type": "markdown",
   "metadata": {
    "cell_id": "00038-9f292737-201d-47d7-9794-76eecddd42af",
    "deepnote_cell_type": "markdown",
    "tags": []
   },
   "source": [
    "Now that we have eliminated all the heart rates of zero -- let's do that analysis from above again... so that we can see how many values (ie. zeroes) we just cleared out for each player."
   ]
  },
  {
   "cell_type": "code",
   "execution_count": 13,
   "metadata": {
    "cell_id": "00036-6feb9098-7f88-40ff-8e9a-09d9a6837c35",
    "deepnote_cell_type": "code",
    "deepnote_to_be_reexecuted": false,
    "execution_millis": 821,
    "execution_start": 1623678437239,
    "source_hash": "3aab6e9a",
    "tags": []
   },
   "outputs": [
    {
     "data": {
      "text/html": [
       "<div>\n",
       "<style scoped>\n",
       "    .dataframe tbody tr th:only-of-type {\n",
       "        vertical-align: middle;\n",
       "    }\n",
       "\n",
       "    .dataframe tbody tr th {\n",
       "        vertical-align: top;\n",
       "    }\n",
       "\n",
       "    .dataframe thead tr th {\n",
       "        text-align: left;\n",
       "    }\n",
       "\n",
       "    .dataframe thead tr:last-of-type th {\n",
       "        text-align: right;\n",
       "    }\n",
       "</style>\n",
       "<table border=\"1\" class=\"dataframe\">\n",
       "  <thead>\n",
       "    <tr>\n",
       "      <th></th>\n",
       "      <th colspan=\"4\" halign=\"left\">Seconds</th>\n",
       "      <th colspan=\"4\" halign=\"left\">Heart Rate</th>\n",
       "      <th colspan=\"4\" halign=\"left\">Player Load</th>\n",
       "    </tr>\n",
       "    <tr>\n",
       "      <th></th>\n",
       "      <th>min</th>\n",
       "      <th>average</th>\n",
       "      <th>max</th>\n",
       "      <th>len</th>\n",
       "      <th>min</th>\n",
       "      <th>average</th>\n",
       "      <th>max</th>\n",
       "      <th>len</th>\n",
       "      <th>min</th>\n",
       "      <th>average</th>\n",
       "      <th>max</th>\n",
       "      <th>len</th>\n",
       "    </tr>\n",
       "    <tr>\n",
       "      <th>AthleteID</th>\n",
       "      <th></th>\n",
       "      <th></th>\n",
       "      <th></th>\n",
       "      <th></th>\n",
       "      <th></th>\n",
       "      <th></th>\n",
       "      <th></th>\n",
       "      <th></th>\n",
       "      <th></th>\n",
       "      <th></th>\n",
       "      <th></th>\n",
       "      <th></th>\n",
       "    </tr>\n",
       "  </thead>\n",
       "  <tbody>\n",
       "    <tr>\n",
       "      <th>Athlete 1</th>\n",
       "      <td>0.0</td>\n",
       "      <td>5370.00</td>\n",
       "      <td>10740.0</td>\n",
       "      <td>107401.0</td>\n",
       "      <td>81.0</td>\n",
       "      <td>NaN</td>\n",
       "      <td>221.0</td>\n",
       "      <td>107401.0</td>\n",
       "      <td>0.0</td>\n",
       "      <td>393.937455</td>\n",
       "      <td>837.2</td>\n",
       "      <td>107401.0</td>\n",
       "    </tr>\n",
       "    <tr>\n",
       "      <th>Athlete 10</th>\n",
       "      <td>0.0</td>\n",
       "      <td>5681.20</td>\n",
       "      <td>11362.4</td>\n",
       "      <td>113625.0</td>\n",
       "      <td>73.0</td>\n",
       "      <td>NaN</td>\n",
       "      <td>217.0</td>\n",
       "      <td>113625.0</td>\n",
       "      <td>0.0</td>\n",
       "      <td>601.659845</td>\n",
       "      <td>1300.7</td>\n",
       "      <td>113625.0</td>\n",
       "    </tr>\n",
       "    <tr>\n",
       "      <th>Athlete 11</th>\n",
       "      <td>0.0</td>\n",
       "      <td>5713.00</td>\n",
       "      <td>11426.0</td>\n",
       "      <td>114261.0</td>\n",
       "      <td>59.0</td>\n",
       "      <td>NaN</td>\n",
       "      <td>211.0</td>\n",
       "      <td>114261.0</td>\n",
       "      <td>0.0</td>\n",
       "      <td>176.135225</td>\n",
       "      <td>271.3</td>\n",
       "      <td>114261.0</td>\n",
       "    </tr>\n",
       "    <tr>\n",
       "      <th>Athlete 12</th>\n",
       "      <td>0.0</td>\n",
       "      <td>5701.55</td>\n",
       "      <td>11403.1</td>\n",
       "      <td>114032.0</td>\n",
       "      <td>55.0</td>\n",
       "      <td>NaN</td>\n",
       "      <td>183.0</td>\n",
       "      <td>114032.0</td>\n",
       "      <td>0.0</td>\n",
       "      <td>195.057992</td>\n",
       "      <td>311.2</td>\n",
       "      <td>114032.0</td>\n",
       "    </tr>\n",
       "    <tr>\n",
       "      <th>Athlete 13</th>\n",
       "      <td>0.0</td>\n",
       "      <td>5704.30</td>\n",
       "      <td>11408.6</td>\n",
       "      <td>114087.0</td>\n",
       "      <td>65.0</td>\n",
       "      <td>NaN</td>\n",
       "      <td>165.0</td>\n",
       "      <td>114087.0</td>\n",
       "      <td>0.0</td>\n",
       "      <td>186.330738</td>\n",
       "      <td>305.1</td>\n",
       "      <td>114087.0</td>\n",
       "    </tr>\n",
       "    <tr>\n",
       "      <th>Athlete 2</th>\n",
       "      <td>0.0</td>\n",
       "      <td>5691.90</td>\n",
       "      <td>11383.8</td>\n",
       "      <td>113839.0</td>\n",
       "      <td>60.0</td>\n",
       "      <td>NaN</td>\n",
       "      <td>206.0</td>\n",
       "      <td>113839.0</td>\n",
       "      <td>0.0</td>\n",
       "      <td>276.709051</td>\n",
       "      <td>458.6</td>\n",
       "      <td>113839.0</td>\n",
       "    </tr>\n",
       "    <tr>\n",
       "      <th>Athlete 3</th>\n",
       "      <td>0.0</td>\n",
       "      <td>5746.50</td>\n",
       "      <td>11493.0</td>\n",
       "      <td>114931.0</td>\n",
       "      <td>60.0</td>\n",
       "      <td>NaN</td>\n",
       "      <td>220.0</td>\n",
       "      <td>114931.0</td>\n",
       "      <td>0.0</td>\n",
       "      <td>194.991953</td>\n",
       "      <td>305.2</td>\n",
       "      <td>114931.0</td>\n",
       "    </tr>\n",
       "    <tr>\n",
       "      <th>Athlete 4</th>\n",
       "      <td>0.0</td>\n",
       "      <td>5722.20</td>\n",
       "      <td>11444.4</td>\n",
       "      <td>114445.0</td>\n",
       "      <td>52.0</td>\n",
       "      <td>NaN</td>\n",
       "      <td>185.0</td>\n",
       "      <td>114445.0</td>\n",
       "      <td>0.0</td>\n",
       "      <td>231.538611</td>\n",
       "      <td>384.5</td>\n",
       "      <td>114445.0</td>\n",
       "    </tr>\n",
       "    <tr>\n",
       "      <th>Athlete 5</th>\n",
       "      <td>0.0</td>\n",
       "      <td>5742.40</td>\n",
       "      <td>11484.8</td>\n",
       "      <td>114849.0</td>\n",
       "      <td>69.0</td>\n",
       "      <td>NaN</td>\n",
       "      <td>217.0</td>\n",
       "      <td>114849.0</td>\n",
       "      <td>0.0</td>\n",
       "      <td>485.788989</td>\n",
       "      <td>1001.5</td>\n",
       "      <td>114849.0</td>\n",
       "    </tr>\n",
       "    <tr>\n",
       "      <th>Athlete 6</th>\n",
       "      <td>0.0</td>\n",
       "      <td>5736.40</td>\n",
       "      <td>11472.8</td>\n",
       "      <td>114729.0</td>\n",
       "      <td>77.0</td>\n",
       "      <td>NaN</td>\n",
       "      <td>183.0</td>\n",
       "      <td>114729.0</td>\n",
       "      <td>0.0</td>\n",
       "      <td>158.246782</td>\n",
       "      <td>255.7</td>\n",
       "      <td>114729.0</td>\n",
       "    </tr>\n",
       "    <tr>\n",
       "      <th>Athlete 7</th>\n",
       "      <td>0.0</td>\n",
       "      <td>29.90</td>\n",
       "      <td>59.8</td>\n",
       "      <td>599.0</td>\n",
       "      <td>NaN</td>\n",
       "      <td>NaN</td>\n",
       "      <td>NaN</td>\n",
       "      <td>599.0</td>\n",
       "      <td>0.0</td>\n",
       "      <td>1.649416</td>\n",
       "      <td>2.8</td>\n",
       "      <td>599.0</td>\n",
       "    </tr>\n",
       "    <tr>\n",
       "      <th>Athlete 8</th>\n",
       "      <td>0.0</td>\n",
       "      <td>5742.90</td>\n",
       "      <td>11485.8</td>\n",
       "      <td>114859.0</td>\n",
       "      <td>68.0</td>\n",
       "      <td>NaN</td>\n",
       "      <td>192.0</td>\n",
       "      <td>114859.0</td>\n",
       "      <td>0.0</td>\n",
       "      <td>245.621813</td>\n",
       "      <td>452.5</td>\n",
       "      <td>114859.0</td>\n",
       "    </tr>\n",
       "    <tr>\n",
       "      <th>Athlete 9</th>\n",
       "      <td>0.0</td>\n",
       "      <td>5707.20</td>\n",
       "      <td>11414.4</td>\n",
       "      <td>114145.0</td>\n",
       "      <td>63.0</td>\n",
       "      <td>NaN</td>\n",
       "      <td>210.0</td>\n",
       "      <td>114145.0</td>\n",
       "      <td>0.0</td>\n",
       "      <td>412.945059</td>\n",
       "      <td>958.2</td>\n",
       "      <td>114145.0</td>\n",
       "    </tr>\n",
       "  </tbody>\n",
       "</table>\n",
       "</div>"
      ],
      "text/plain": [
       "           Seconds                             Heart Rate                 \\\n",
       "               min  average      max       len        min average    max   \n",
       "AthleteID                                                                  \n",
       "Athlete 1      0.0  5370.00  10740.0  107401.0       81.0     NaN  221.0   \n",
       "Athlete 10     0.0  5681.20  11362.4  113625.0       73.0     NaN  217.0   \n",
       "Athlete 11     0.0  5713.00  11426.0  114261.0       59.0     NaN  211.0   \n",
       "Athlete 12     0.0  5701.55  11403.1  114032.0       55.0     NaN  183.0   \n",
       "Athlete 13     0.0  5704.30  11408.6  114087.0       65.0     NaN  165.0   \n",
       "Athlete 2      0.0  5691.90  11383.8  113839.0       60.0     NaN  206.0   \n",
       "Athlete 3      0.0  5746.50  11493.0  114931.0       60.0     NaN  220.0   \n",
       "Athlete 4      0.0  5722.20  11444.4  114445.0       52.0     NaN  185.0   \n",
       "Athlete 5      0.0  5742.40  11484.8  114849.0       69.0     NaN  217.0   \n",
       "Athlete 6      0.0  5736.40  11472.8  114729.0       77.0     NaN  183.0   \n",
       "Athlete 7      0.0    29.90     59.8     599.0        NaN     NaN    NaN   \n",
       "Athlete 8      0.0  5742.90  11485.8  114859.0       68.0     NaN  192.0   \n",
       "Athlete 9      0.0  5707.20  11414.4  114145.0       63.0     NaN  210.0   \n",
       "\n",
       "                     Player Load                                \n",
       "                 len         min     average     max       len  \n",
       "AthleteID                                                       \n",
       "Athlete 1   107401.0         0.0  393.937455   837.2  107401.0  \n",
       "Athlete 10  113625.0         0.0  601.659845  1300.7  113625.0  \n",
       "Athlete 11  114261.0         0.0  176.135225   271.3  114261.0  \n",
       "Athlete 12  114032.0         0.0  195.057992   311.2  114032.0  \n",
       "Athlete 13  114087.0         0.0  186.330738   305.1  114087.0  \n",
       "Athlete 2   113839.0         0.0  276.709051   458.6  113839.0  \n",
       "Athlete 3   114931.0         0.0  194.991953   305.2  114931.0  \n",
       "Athlete 4   114445.0         0.0  231.538611   384.5  114445.0  \n",
       "Athlete 5   114849.0         0.0  485.788989  1001.5  114849.0  \n",
       "Athlete 6   114729.0         0.0  158.246782   255.7  114729.0  \n",
       "Athlete 7      599.0         0.0    1.649416     2.8     599.0  \n",
       "Athlete 8   114859.0         0.0  245.621813   452.5  114859.0  \n",
       "Athlete 9   114145.0         0.0  412.945059   958.2  114145.0  "
      ]
     },
     "execution_count": 13,
     "metadata": {},
     "output_type": "execute_result"
    }
   ],
   "source": [
    "# The following will look at each athelete and, for each of our columns of seconds, heart rate, and player load\n",
    "# we will generate the min, average, and max values\n",
    "Game_3_8_df.groupby('AthleteID').agg([min,np.average,max,len])"
   ]
  },
  {
   "cell_type": "code",
   "execution_count": 13,
   "metadata": {
    "cell_id": "00039-243ea29f-c0ad-43b2-8e64-5ccad7b392dc",
    "deepnote_cell_type": "code",
    "deepnote_to_be_reexecuted": false,
    "execution_millis": 203,
    "execution_start": 1623678438065,
    "source_hash": "b4e6be8b",
    "tags": []
   },
   "outputs": [
    {
     "name": "stdout",
     "output_type": "stream",
     "text": [
      "Count of heart rate and playerload by player ID\n",
      "            Heart Rate  Player Load\n",
      "AthleteID                          \n",
      "Athlete 6       114724       114729\n",
      "Athlete 8       114669       114859\n",
      "Athlete 13      114080       114087\n",
      "Athlete 12      113801       114032\n",
      "Athlete 11      113735       114261\n",
      "Athlete 5       113657       114849\n",
      "Athlete 9       113526       114145\n",
      "Athlete 2       113514       113839\n",
      "Athlete 4       113483       114445\n",
      "Athlete 10      113105       113625\n",
      "Athlete 3       111080       114931\n",
      "Athlete 1       107322       107401\n",
      "Athlete 7            0          599\n"
     ]
    }
   ],
   "source": [
    "DataCount = Game_3_8_df.groupby('AthleteID')[['Heart Rate','Player Load']].count()\n",
    "\n",
    "print(\"Count of heart rate and playerload by player ID\")\n",
    "print(DataCount.sort_values(by='Heart Rate', ascending = False))"
   ]
  },
  {
   "cell_type": "markdown",
   "metadata": {
    "cell_id": "00040-7aebab33-22b0-4844-a60c-1b63d4e92f6c",
    "deepnote_cell_type": "text-cell-p",
    "tags": []
   },
   "source": [
    "If you look closely, you can see differences in the number of values for most athletes between HR and playerload.  This shows us how many zeroes we dropped from the dataset.  Next, let's calculate the difference between these two columns and determine the % of the HR data that is missing with a few lines of code.  "
   ]
  },
  {
   "cell_type": "code",
   "execution_count": 14,
   "metadata": {
    "cell_id": "00041-01ae816b-5d29-4052-90f5-f7fb22ed4ef7",
    "deepnote_cell_type": "code",
    "deepnote_to_be_reexecuted": false,
    "execution_millis": 27,
    "execution_start": 1623678438264,
    "source_hash": "7c29786d",
    "tags": []
   },
   "outputs": [
    {
     "name": "stdout",
     "output_type": "stream",
     "text": [
      "            Heart Rate  Player Load  Missing HR values  % HR missing\n",
      "AthleteID                                                           \n",
      "Athlete 7            0          599                599    100.000000\n",
      "Athlete 3       111080       114931               3851      3.350706\n",
      "Athlete 5       113657       114849               1192      1.037885\n",
      "Athlete 4       113483       114445                962      0.840578\n",
      "Athlete 9       113526       114145                619      0.542293\n",
      "Athlete 11      113735       114261                526      0.460350\n",
      "Athlete 10      113105       113625                520      0.457646\n",
      "Athlete 2       113514       113839                325      0.285491\n",
      "Athlete 12      113801       114032                231      0.202575\n",
      "Athlete 8       114669       114859                190      0.165420\n",
      "Athlete 1       107322       107401                 79      0.073556\n",
      "Athlete 13      114080       114087                  7      0.006136\n",
      "Athlete 6       114724       114729                  5      0.004358\n"
     ]
    }
   ],
   "source": [
    "DataCount['Missing HR values']= (DataCount['Player Load']-DataCount['Heart Rate'])\n",
    "DataCount['% HR missing'] = DataCount['Missing HR values']/DataCount['Player Load']*100\n",
    "\n",
    "print(DataCount.sort_values(by='% HR missing', ascending = False))"
   ]
  },
  {
   "cell_type": "markdown",
   "metadata": {
    "cell_id": "00043-eda78690-2941-42e5-bdf0-74e09556d1f5",
    "deepnote_cell_type": "markdown",
    "tags": []
   },
   "source": [
    "It appears that most players have less than 0.5% of their heart rate values missing (i.e. values that were original zero) -- so that is a good sign.  With the exclusion of athlete 7 -- things look pretty good for this game.  Athlete 3 is missing 3.35% of their data - but that should be reasonable for calculating means across the entire session now that we have dropped all the zeroes from the dataset."
   ]
  },
  {
   "cell_type": "markdown",
   "metadata": {
    "cell_id": "00039-d616e907-cb44-4b31-8c70-6aaf608fbfb0",
    "deepnote_cell_type": "markdown",
    "tags": []
   },
   "source": [
    "In order to clean up the dataset -- we will \"drop\" Athlete 7 from the dataset.  We can use the following code to do this: \n"
   ]
  },
  {
   "cell_type": "code",
   "execution_count": 15,
   "metadata": {
    "cell_id": "00042-35502c4e-209e-40d9-bda4-303d0b9a0153",
    "deepnote_cell_type": "code",
    "deepnote_to_be_reexecuted": false,
    "execution_millis": 19,
    "execution_start": 1623678438288,
    "source_hash": "ac66386e",
    "tags": []
   },
   "outputs": [
    {
     "data": {
      "text/plain": [
       "(1365802, 4)"
      ]
     },
     "execution_count": 15,
     "metadata": {},
     "output_type": "execute_result"
    }
   ],
   "source": [
    "Game_3_8_df.shape"
   ]
  },
  {
   "cell_type": "code",
   "execution_count": 16,
   "metadata": {
    "cell_id": "00044-c863f7a7-b153-48a0-a1da-7a4b57200b6e",
    "deepnote_cell_type": "code",
    "deepnote_to_be_reexecuted": false,
    "execution_millis": 799,
    "execution_start": 1623678438307,
    "source_hash": "b96f6d1a",
    "tags": []
   },
   "outputs": [],
   "source": [
    "%%capture\n",
    "Game_3_8_df.drop(Game_3_8_df[Game_3_8_df['AthleteID'] == 'Athlete 7'].index, inplace=True)"
   ]
  },
  {
   "cell_type": "markdown",
   "metadata": {
    "cell_id": "00045-9d8561a7-47b7-42e8-b36a-a912df50fdf3",
    "deepnote_cell_type": "text-cell-p",
    "tags": []
   },
   "source": [
    "Better to drop Athlete 7 since we are trying to analyze heart rate in the game - and it is apparent they didn't have any heart rate data."
   ]
  },
  {
   "cell_type": "code",
   "execution_count": 17,
   "metadata": {
    "cell_id": "00045-104a68fe-3180-419e-a560-efa10e78ec13",
    "deepnote_cell_type": "code",
    "deepnote_to_be_reexecuted": false,
    "execution_millis": 7,
    "execution_start": 1623678439102,
    "source_hash": "8b5c1dd",
    "tags": []
   },
   "outputs": [],
   "source": [
    "#DataCount = Game_3_8_df.groupby('AthleteID')['Heart Rate','Player Load'].count()\n",
    "\n",
    "#print(\"Count of heart rate and playerload by player ID\")\n",
    "#print(DataCount.sort_values(by='Heart Rate', ascending = False))"
   ]
  },
  {
   "cell_type": "markdown",
   "metadata": {
    "cell_id": "00047-5a0b9ae9-3c4f-46ef-ac0c-a55dc219a5ae",
    "deepnote_cell_type": "markdown",
    "tags": []
   },
   "source": [
    "### A quick exploration of the dataset to get a look at some raw data before calculating \"internal\" player loads"
   ]
  },
  {
   "cell_type": "markdown",
   "metadata": {
    "cell_id": "00046-4d6cfe31-7a55-48ea-b466-83a7612e717b",
    "deepnote_cell_type": "text-cell-p",
    "tags": []
   },
   "source": [
    "Let's see which athletes were getting the most playing time -- by getting a quick ranking of the Catapult playerload of each player. "
   ]
  },
  {
   "cell_type": "markdown",
   "metadata": {
    "cell_id": "00047-9f674467-7c66-47da-8cc4-8d599cf3fb4f",
    "deepnote_cell_type": "text-cell-p",
    "tags": []
   },
   "source": [
    "We choose the maximum (max) value here as the playerload is an increasing number throughout the game...and we are interested in the final value to show us a summary of the game.  So let's see the players in rank order for playerload - and let's throw in the maximum heart rate value as well: "
   ]
  },
  {
   "cell_type": "code",
   "execution_count": 18,
   "metadata": {
    "cell_id": "00048-1633d92d-7e3f-4a77-b104-3f353f613576",
    "deepnote_cell_type": "code",
    "deepnote_to_be_reexecuted": false,
    "execution_millis": 215,
    "execution_start": 1623678439114,
    "source_hash": "9b0d71f8",
    "tags": []
   },
   "outputs": [
    {
     "name": "stdout",
     "output_type": "stream",
     "text": [
      "Maximum playerload (and HR) by player ID\n",
      "            Player Load  Heart Rate\n",
      "AthleteID                          \n",
      "Athlete 10       1300.7       217.0\n",
      "Athlete 5        1000.6       217.0\n",
      "Athlete 9         958.2       210.0\n",
      "Athlete 1         837.2       221.0\n",
      "Athlete 2         458.6       206.0\n",
      "Athlete 8         452.1       192.0\n",
      "Athlete 4         383.6       185.0\n",
      "Athlete 12        311.2       183.0\n",
      "Athlete 13        305.1       165.0\n",
      "Athlete 3         301.3       220.0\n",
      "Athlete 11        271.3       211.0\n",
      "Athlete 6         254.4       183.0\n"
     ]
    }
   ],
   "source": [
    "Rank_Max_PL = Game_3_8_df.groupby(['AthleteID'])[['Player Load', \"Heart Rate\"]].max()\n",
    "print(\"Maximum playerload (and HR) by player ID\")\n",
    "\n",
    "\n",
    "print(Rank_Max_PL.sort_values(by='Player Load', ascending = False))"
   ]
  },
  {
   "cell_type": "markdown",
   "metadata": {
    "cell_id": "00049-d1343fdd-cf3b-4605-a8a9-4c6a72d421d9",
    "deepnote_cell_type": "markdown",
    "tags": []
   },
   "source": [
    "The maximum heart rates are variable - but the majority of the players have a value that is within range (though high) of what we might expect for someone college aged.  Not to get too in the weeds here ... the old school estimate of maximum heart rate is 220 beats per minute minus \"age\" in years.  However, the standard deviation on that estimate is 12 beats per minute.  So -- for a 20 year old you could expect that a good percentage of their maximum heart rates to be above 200 beats per minute.\n",
    "\n",
    "Let's take a look at the HR data for the athletes with the highest (athlete 10) and the lowest (athlete 6) playerload from this game.  We'll make new datasets from slices based just on their athlete ID's. "
   ]
  },
  {
   "cell_type": "code",
   "execution_count": 19,
   "metadata": {
    "cell_id": "00051-238d5273-85cf-47c3-a901-48d281c5e72d",
    "deepnote_cell_type": "code",
    "deepnote_to_be_reexecuted": false,
    "execution_millis": 372,
    "execution_start": 1623678439334,
    "source_hash": "86f71758",
    "tags": []
   },
   "outputs": [],
   "source": [
    "Ath10_Game_3_8_df = Game_3_8_df.loc[Game_3_8_df['AthleteID'] == 'Athlete 10'] \n",
    "Ath6_Game_3_8_df = Game_3_8_df.loc[Game_3_8_df['AthleteID'] == 'Athlete 6'] "
   ]
  },
  {
   "cell_type": "code",
   "execution_count": 20,
   "metadata": {
    "cell_id": "00049-be4ee915-faf5-48b6-b803-950900292cc8",
    "deepnote_cell_type": "code",
    "deepnote_to_be_reexecuted": false,
    "execution_millis": 524,
    "execution_start": 1623678439713,
    "source_hash": "369efe07",
    "tags": []
   },
   "outputs": [
    {
     "data": {
      "text/plain": [
       "AthleteID\n",
       "Athlete 10    AxesSubplot(0.125,0.125;0.775x0.755)\n",
       "Athlete 6     AxesSubplot(0.125,0.125;0.775x0.755)\n",
       "dtype: object"
      ]
     },
     "execution_count": 20,
     "metadata": {},
     "output_type": "execute_result"
    },
    {
     "data": {
      "image/png": "[encoded data removed]",
      "text/plain": [
       "<Figure size 864x576 with 1 Axes>"
      ]
     },
     "metadata": {
      "needs_background": "light"
     },
     "output_type": "display_data"
    }
   ],
   "source": [
    "(Game_3_8_df.query(\"AthleteID == 'Athlete 10' or AthleteID == 'Athlete 6'\")\n",
    "    .groupby(\"AthleteID\")\n",
    "    .plot(x=\"Seconds\",y=\"Player Load\", ax=plt.gca(), ylabel=\"Playerload\", figsize=(12,8), legend=False))"
   ]
  },
  {
   "cell_type": "code",
   "execution_count": 21,
   "metadata": {
    "cell_id": "00052-9609121f-2786-4a29-8740-5f4aaa3bcad9",
    "deepnote_cell_type": "code",
    "deepnote_to_be_reexecuted": false,
    "execution_millis": 611,
    "execution_start": 1623678440234,
    "source_hash": "f78d3e50",
    "tags": []
   },
   "outputs": [
    {
     "data": {
      "text/plain": [
       "AthleteID\n",
       "Athlete 10    AxesSubplot(0.125,0.125;0.775x0.755)\n",
       "Athlete 6     AxesSubplot(0.125,0.125;0.775x0.755)\n",
       "dtype: object"
      ]
     },
     "execution_count": 21,
     "metadata": {},
     "output_type": "execute_result"
    },
    {
     "data": {
      "image/png": "[encoded data removed]",
      "text/plain": [
       "<Figure size 864x576 with 1 Axes>"
      ]
     },
     "metadata": {
      "needs_background": "light"
     },
     "output_type": "display_data"
    }
   ],
   "source": [
    "(Game_3_8_df.query(\"AthleteID == 'Athlete 10' or AthleteID == 'Athlete 6'\")\n",
    "    .groupby(\"AthleteID\")\n",
    "    .plot(x=\"Seconds\",y=\"Heart Rate\", ax=plt.gca(), ylabel=\"Heart Rate (bpm)\", figsize=(12,8), legend=False))"
   ]
  },
  {
   "cell_type": "markdown",
   "metadata": {
    "cell_id": "00054-82fb9d31-9721-4f6d-862e-6010c8299efb",
    "deepnote_cell_type": "markdown",
    "tags": []
   },
   "source": [
    "It is great to get a look directly at the HR and playerload data to make sure everything is making sense before we try to quanitify the effort of the session.\n",
    "\n",
    "In this case, player 10 (chosen due to having the highest playerload) has a nearly constantly increasing playerload -- and maintained a very high heart rate throughout the game.  Note the significant drop at 6000 seconds.  I feel  confident this was the half-time period (break).  The other low period that is around 1000 seconds -- is likely during some stretching just prior to the on court warm-up (performed by all players) just prior to the beginning of the game. \n",
    "\n",
    "We chose Athlete 6 as they had the lowest playerload for this day.  Consistent with this -- they have a steeper increase in load and a higher heart rate only for the warm-up portion of the game.... and then they appear to be (at least) mostly spectating from then on.  Although it is possible for Catapult Sports devices to collect only during times that players are \"live\" in the game -- we can see that this collection is continuous from before the game until after game (and even during the half-time break).\n",
    "\n",
    "Okay -- enough \"looking around\" at this dataset -- time for us to do something to quantify the internal efforts of these players during this game day session. \n",
    "\n",
    "Let's start with a simple look at the mean heart rate the entire team had for the day: "
   ]
  },
  {
   "cell_type": "code",
   "execution_count": 22,
   "metadata": {
    "cell_id": "00062-b1fc2b20-e81a-47c4-8582-0e7a70bd92f5",
    "deepnote_cell_type": "code",
    "deepnote_to_be_reexecuted": false,
    "execution_millis": 586,
    "execution_start": 1623678440857,
    "source_hash": "b86c2acb",
    "tags": []
   },
   "outputs": [
    {
     "data": {
      "text/plain": [
       "<AxesSubplot:xlabel='Seconds'>"
      ]
     },
     "execution_count": 22,
     "metadata": {},
     "output_type": "execute_result"
    },
    {
     "data": {
      "image/png": "[encoded data removed]",
      "text/plain": [
       "<Figure size 432x288 with 1 Axes>"
      ]
     },
     "metadata": {
      "needs_background": "light"
     },
     "output_type": "display_data"
    }
   ],
   "source": [
    "Team_Mean_HR2 = Game_3_8_df.groupby(['Seconds'])[['Heart Rate']].mean()\n",
    "Team_Mean_HR2.plot(y='Heart Rate')"
   ]
  },
  {
   "cell_type": "markdown",
   "metadata": {
    "cell_id": "00055-76184f1b-d34a-4f34-a8cf-54b5c5c9b39c",
    "deepnote_cell_type": "markdown",
    "tags": []
   },
   "source": [
    "We can see a very consistent profile here -- of a brief HR increase by players in the game right after the start of the Catapult device -- followed by a decrease down near resting levels in the first 1200 seconds (20 minutes) of the collection.  From that point forward, the team has an average HR that is pretty high with the exception of the half-time period which is about 6000 seconds (or 100 minutes) into the collection."
   ]
  },
  {
   "cell_type": "markdown",
   "metadata": {
    "cell_id": "00063-3748bbad-9587-4825-ab6e-c957feb0ac40",
    "deepnote_cell_type": "markdown",
    "tags": []
   },
   "source": [
    "### Calculation of the individual athlete internal loads for the game session"
   ]
  },
  {
   "cell_type": "markdown",
   "metadata": {
    "cell_id": "00056-f883a472-803f-45bd-b5d0-fbacadeef97b",
    "deepnote_cell_type": "markdown",
    "tags": []
   },
   "source": [
    "Now, let's break begin to break this down by athlete number to see what kind of mean heart rates were present for the athletes in the collection."
   ]
  },
  {
   "cell_type": "code",
   "execution_count": 23,
   "metadata": {
    "cell_id": "00055-a1fad3ff-eab5-4ea6-8b19-1ebab4202f70",
    "deepnote_cell_type": "code",
    "deepnote_to_be_reexecuted": false,
    "execution_millis": 222,
    "execution_start": 1623678441449,
    "source_hash": "b015770b",
    "tags": []
   },
   "outputs": [
    {
     "name": "stdout",
     "output_type": "stream",
     "text": [
      "Average heart rate by player ID\n",
      "            Heart Rate\n",
      "AthleteID             \n",
      "Athlete 9   149.978586\n",
      "Athlete 1   148.917603\n",
      "Athlete 10  147.603970\n",
      "Athlete 5   142.213841\n",
      "Athlete 8   112.675939\n",
      "Athlete 6   111.462357\n",
      "Athlete 2   108.454120\n",
      "Athlete 3   105.080676\n",
      "Athlete 13   97.917628\n",
      "Athlete 11   96.345663\n",
      "Athlete 4    84.999233\n",
      "Athlete 12   83.661286\n"
     ]
    }
   ],
   "source": [
    "Rank_Mean_HR = Game_3_8_df.groupby(['AthleteID'])[['Heart Rate']].mean()\n",
    "\n",
    "print(\"Average heart rate by player ID\")\n",
    "print(Rank_Mean_HR.sort_values(by='Heart Rate', ascending = False))"
   ]
  },
  {
   "cell_type": "markdown",
   "metadata": {
    "cell_id": "00052-dac74dcc-9883-4e60-a84a-a095a39a4a19",
    "deepnote_cell_type": "markdown",
    "tags": []
   },
   "source": [
    "Surprisingly -- our player with the lowest playerload on the day is far from the lowest mean heart rate across the session.  \n",
    "\n",
    "We see here that Athlete 12 is listed as having a mean heart rate of only about 83 beats per minute across the entire period.  Let's take a look at the data for this athlete - and do a quick comparison with the player 6 (who had the lowest player load).  \n",
    "\n",
    "We'll use a slightly different plotting strategy this time."
   ]
  },
  {
   "cell_type": "code",
   "execution_count": 24,
   "metadata": {
    "cell_id": "00056-330b0ee1-6f86-4f56-9f6c-2ebba00ef733",
    "deepnote_cell_type": "code",
    "deepnote_to_be_reexecuted": false,
    "execution_millis": 1234,
    "execution_start": 1623678441668,
    "source_hash": "598138a7",
    "tags": []
   },
   "outputs": [
    {
     "data": {
      "image/png": "[encoded data removed]",
      "text/plain": [
       "<Figure size 720x288 with 1 Axes>"
      ]
     },
     "metadata": {
      "needs_background": "light"
     },
     "output_type": "display_data"
    },
    {
     "data": {
      "image/png": "[encoded data removed]",
      "text/plain": [
       "<Figure size 720x288 with 1 Axes>"
      ]
     },
     "metadata": {
      "needs_background": "light"
     },
     "output_type": "display_data"
    }
   ],
   "source": [
    "Ath12_Game_3_8_df = Game_3_8_df.loc[Game_3_8_df['AthleteID'] == 'Athlete 12']   \n",
    "\n",
    "x1_coords = Ath12_Game_3_8_df['Seconds']\n",
    "x2_coords = Ath6_Game_3_8_df['Seconds']\n",
    "y1_coords= Ath12_Game_3_8_df['Player Load']\n",
    "y2_coords= Ath6_Game_3_8_df['Player Load']\n",
    "plt.figure(figsize=(10, 4))\n",
    "plt.plot(x1_coords, y1_coords, label=\"Athlete 12\")\n",
    "plt.plot(x2_coords, y2_coords, label =\"Athlete 6\")\n",
    "plt.xlabel('Seconds')\n",
    "plt.ylabel('Playerload')\n",
    "plt.legend()\n",
    "plt.show()\n",
    "\n",
    "x1_coords= Ath12_Game_3_8_df['Seconds']\n",
    "x2_coords = Ath6_Game_3_8_df['Seconds']\n",
    "y1_coords= Ath12_Game_3_8_df['Heart Rate']\n",
    "y2_coords= Ath6_Game_3_8_df['Heart Rate']\n",
    "plt.figure(figsize=(10, 4))\n",
    "plt.plot(x1_coords, y1_coords, label=\"Athlete 12\")\n",
    "plt.plot(x2_coords, y2_coords, label =\"Athlete 6\")\n",
    "plt.xlabel('Seconds')\n",
    "plt.ylabel('Heart Rate')\n",
    "plt.legend()\n",
    "plt.show()"
   ]
  },
  {
   "cell_type": "markdown",
   "metadata": {
    "cell_id": "00057-30b8d853-9248-4c02-be52-965ca3aab66d",
    "deepnote_cell_type": "text-cell-p",
    "tags": []
   },
   "source": [
    "Remember that this includes warm-up, breaks (including half-time) and probably even a few minutes after the game.  This particular game was a double overtime game -- so it has 2 extra periods after the regular game periods ended.    An interesting difference between these two players is that Athlete 12 ends up with a higher playerload for the day (mostly due to greater exertion during the warm-up) -- but subsequently maintains heart rates that are ~ 20 beats lower than Athlete 6.  "
   ]
  },
  {
   "cell_type": "markdown",
   "metadata": {
    "cell_id": "00070-4b41a58a-6d27-49b6-bcdb-7ecc70656e72",
    "deepnote_cell_type": "text-cell-p",
    "tags": []
   },
   "source": [
    "Let's presume for a moment that the coach wants to use heart rate as a means of determining who needs the most training the day after the game (since the athletes not in the game will not have received much training on game day!)   Of course, the coach could just use the playerload that the athletes had for the day -- and that could be quite reasonable.  But let's a different measure.  We'll use the \"TRIMP\" or training impulse measure.  "
   ]
  },
  {
   "cell_type": "code",
   "execution_count": 25,
   "metadata": {
    "cell_id": "00061-3bce5bb9-1e1d-49a9-bff9-bcf0e85141eb",
    "deepnote_cell_type": "code",
    "deepnote_to_be_reexecuted": false,
    "execution_millis": 19,
    "execution_start": 1623678442905,
    "source_hash": "c909c2b0",
    "tags": []
   },
   "outputs": [
    {
     "name": "stdout",
     "output_type": "stream",
     "text": [
      "Average heart rate by player ID\n",
      "            Heart Rate\n",
      "AthleteID             \n",
      "Athlete 9   149.978586\n",
      "Athlete 1   148.917603\n",
      "Athlete 10  147.603970\n",
      "Athlete 5   142.213841\n",
      "Athlete 8   112.675939\n",
      "Athlete 6   111.462357\n",
      "Athlete 2   108.454120\n",
      "Athlete 3   105.080676\n",
      "Athlete 13   97.917628\n",
      "Athlete 11   96.345663\n",
      "Athlete 4    84.999233\n",
      "Athlete 12   83.661286\n"
     ]
    }
   ],
   "source": [
    "print(\"Average heart rate by player ID\")\n",
    "print(Rank_Mean_HR.sort_values(by='Heart Rate', ascending = False))"
   ]
  },
  {
   "cell_type": "markdown",
   "metadata": {
    "deepnote_cell_type": "text-cell-p",
    "tags": []
   },
   "source": [
    "Now let's also look at a more involved measure of internal player effort.  This measure will incorporate in the maximal and resting heart rates of each player in order to make the measure more individualized.  "
   ]
  },
  {
   "cell_type": "markdown",
   "metadata": {
    "deepnote_cell_type": "text-cell-p",
    "tags": []
   },
   "source": [
    "We'll keep it simple and use 200 beats per minute as their (predicted) maximum -- and use 60 beats per minute as their (predicted) resting heart rate.   Using these two values, we know that their heart rate reserve is 140 beats per minute (200-60).  The \"TRIMP\" measure (or training impulse) uses this heart rate reserve to suggest how intense the session was for each player using only heart rate.    The calculation is as follows: "
   ]
  },
  {
   "cell_type": "markdown",
   "metadata": {
    "deepnote_cell_type": "text-cell-p",
    "tags": []
   },
   "source": [
    "TRIMP = t * k * FHRR   (Expressed as an arbitrary unit)"
   ]
  },
  {
   "cell_type": "markdown",
   "metadata": {
    "deepnote_cell_type": "text-cell-p",
    "tags": []
   },
   "source": [
    "t=minutes of the bout of exercise"
   ]
  },
  {
   "cell_type": "markdown",
   "metadata": {
    "deepnote_cell_type": "text-cell-p",
    "tags": []
   },
   "source": [
    "k = a constant based on sex of the athlete "
   ]
  },
  {
   "cell_type": "markdown",
   "metadata": {
    "deepnote_cell_type": "text-cell-p",
    "tags": []
   },
   "source": [
    "FHRR is the fraction of the heart rate reserve that they had during the session.  This is calculated as the (HR avg - HR rest) / (HR max - HR rest)"
   ]
  },
  {
   "cell_type": "markdown",
   "metadata": {
    "deepnote_cell_type": "text-cell-p",
    "tags": []
   },
   "source": [
    "So we have the minutes of exercise in the session (based on what was recorded by Catapult) and we have the mean HR across the period.  So we have what we need to calculate the TRIMP value.  "
   ]
  },
  {
   "cell_type": "code",
   "execution_count": 26,
   "metadata": {
    "cell_id": "00069-c21a3d05-3580-4061-b986-09d5b8da8025",
    "deepnote_cell_type": "code",
    "deepnote_to_be_reexecuted": false,
    "execution_millis": 9,
    "execution_start": 1623678442927,
    "source_hash": "878de3f8",
    "tags": []
   },
   "outputs": [],
   "source": [
    "t= 12000/60  # 12000 seconds divided by 60 to provide minutes (200 minutes in this double-overtime game with warm-up time included)\n",
    "\n",
    "HRmax=200\n",
    "HRrest=60\n",
    "\n",
    "FHRR = (Rank_Mean_HR['Heart Rate']-HRrest)/ (HRmax-HRrest)"
   ]
  },
  {
   "cell_type": "code",
   "execution_count": 27,
   "metadata": {
    "cell_id": "00068-630fae5a-2c8e-467d-9a24-33c2ccc3e8a7",
    "deepnote_cell_type": "code",
    "deepnote_to_be_reexecuted": false,
    "execution_millis": 21,
    "execution_start": 1623678442941,
    "source_hash": "b35eac5c",
    "tags": []
   },
   "outputs": [
    {
     "name": "stdout",
     "output_type": "stream",
     "text": [
      "AthleteID\n",
      "Athlete 1     0.635126\n",
      "Athlete 10    0.625743\n",
      "Athlete 11    0.259612\n",
      "Athlete 12    0.169009\n",
      "Athlete 13    0.270840\n",
      "Athlete 2     0.346101\n",
      "Athlete 3     0.322005\n",
      "Athlete 4     0.178566\n",
      "Athlete 5     0.587242\n",
      "Athlete 6     0.367588\n",
      "Athlete 8     0.376257\n",
      "Athlete 9     0.642704\n",
      "Name: Heart Rate, dtype: float64\n"
     ]
    }
   ],
   "source": [
    "kval = (np.exp(1.67 * FHRR))\n",
    "print(FHRR)\n",
    "\n",
    "TRIMP = t * FHRR * kval"
   ]
  },
  {
   "cell_type": "code",
   "execution_count": 28,
   "metadata": {
    "cell_id": "00071-2955cd73-77b3-43fa-a09a-07f6a69fe8d8",
    "deepnote_cell_type": "code",
    "deepnote_to_be_reexecuted": false,
    "execution_millis": 22,
    "execution_start": 1623678442959,
    "source_hash": "e5422192",
    "tags": []
   },
   "outputs": [
    {
     "name": "stdout",
     "output_type": "stream",
     "text": [
      "            TRIMP Values  MEAN HR Values\n",
      "AthleteID                               \n",
      "Athlete 1     366.883756      148.917603\n",
      "Athlete 10    355.843657      147.603970\n",
      "Athlete 11     80.102068       96.345663\n",
      "Athlete 12     44.824752       83.661286\n",
      "Athlete 13     85.148279       97.917628\n",
      "Athlete 2     123.381447      108.454120\n",
      "Athlete 3     110.263911      105.080676\n",
      "Athlete 4      48.121314       84.999233\n",
      "Athlete 5     313.153125      142.213841\n",
      "Athlete 6     135.829166      111.462357\n",
      "Athlete 8     141.059590      112.675939\n",
      "Athlete 9     375.990039      149.978586\n"
     ]
    }
   ],
   "source": [
    "InternalLoads=pd.concat([TRIMP, Rank_Mean_HR], axis=1)\n",
    "InternalLoads.columns=['TRIMP Values','MEAN HR Values']\n",
    "print(InternalLoads)"
   ]
  },
  {
   "cell_type": "code",
   "execution_count": 29,
   "metadata": {
    "cell_id": "00069-385183b5-7b28-4cdc-99f4-69f5df50d6a3",
    "deepnote_cell_type": "code",
    "deepnote_to_be_reexecuted": false,
    "execution_millis": 289,
    "execution_start": 1623678442978,
    "source_hash": "88be2de0",
    "tags": []
   },
   "outputs": [
    {
     "data": {
      "image/png": "[encoded data removed]",
      "text/plain": [
       "<Figure size 432x288 with 1 Axes>"
      ]
     },
     "metadata": {
      "needs_background": "light"
     },
     "output_type": "display_data"
    }
   ],
   "source": [
    "ax1=InternalLoads.plot.scatter(x='MEAN HR Values', y='TRIMP Values', c='DarkBlue')"
   ]
  },
  {
   "cell_type": "markdown",
   "metadata": {
    "cell_id": "00070-386c0da9-ee3e-4b38-a317-b5f90fb29e62",
    "deepnote_cell_type": "markdown",
    "tags": []
   },
   "source": [
    "As TRIMP is effectively calculated from an equation using the mean heart rate - we should expect that there would be a tight relationship here.  However, this hammers home the point that the training response is not linear to heart rate - but rather hightlights that the higher the heart rate goes, the greater the trainin \"impulse\" will be.  An important thing to keep in mind is the players who do not have any more much \"play time\" in a game - have (in some ways) missed a day of training.  If the players have the next day off - it is common that the people on the bench do NOT have the day off - but rather use it as a training day since they effectively had a very light day on game day."
   ]
  },
  {
   "cell_type": "code",
   "execution_count": 30,
   "metadata": {
    "cell_id": "00070-25cf365d-383e-4b7f-86cb-b4f47ecb1e85",
    "deepnote_cell_type": "code",
    "deepnote_to_be_reexecuted": false,
    "execution_millis": 23,
    "execution_start": 1623678443265,
    "source_hash": "36da40ef",
    "tags": []
   },
   "outputs": [
    {
     "name": "stdout",
     "output_type": "stream",
     "text": [
      "            TRIMP Values  MEAN HR Values  Player Load\n",
      "AthleteID                                            \n",
      "Athlete 1     366.883756      148.917603        837.2\n",
      "Athlete 10    355.843657      147.603970       1300.7\n",
      "Athlete 11     80.102068       96.345663        271.3\n",
      "Athlete 12     44.824752       83.661286        311.2\n",
      "Athlete 13     85.148279       97.917628        305.1\n",
      "Athlete 2     123.381447      108.454120        458.6\n",
      "Athlete 3     110.263911      105.080676        301.3\n",
      "Athlete 4      48.121314       84.999233        383.6\n",
      "Athlete 5     313.153125      142.213841       1000.6\n",
      "Athlete 6     135.829166      111.462357        254.4\n",
      "Athlete 8     141.059590      112.675939        452.1\n",
      "Athlete 9     375.990039      149.978586        958.2\n"
     ]
    }
   ],
   "source": [
    "Rank_Max_PL\n",
    "InternalLoads['Player Load']=Rank_Max_PL['Player Load']\n",
    "print(InternalLoads)"
   ]
  },
  {
   "cell_type": "code",
   "execution_count": 31,
   "metadata": {
    "cell_id": "00071-627f4c2e-8855-4c01-9c89-1229b680c0a0",
    "deepnote_cell_type": "code",
    "deepnote_to_be_reexecuted": false,
    "execution_millis": 281,
    "execution_start": 1623678443289,
    "source_hash": "93fc4ff3",
    "tags": []
   },
   "outputs": [
    {
     "data": {
      "image/png": "[encoded data removed]",
      "text/plain": [
       "<Figure size 432x288 with 1 Axes>"
      ]
     },
     "metadata": {
      "needs_background": "light"
     },
     "output_type": "display_data"
    }
   ],
   "source": [
    "ax1=InternalLoads.plot.scatter(x='Player Load', y='TRIMP Values', c='DarkBlue')"
   ]
  },
  {
   "cell_type": "markdown",
   "metadata": {
    "deepnote_cell_type": "text-cell-p",
    "tags": []
   },
   "source": [
    "So this figure demonstrates a strong relationship between the TRIMP values and the Playerload - but it is not exactly one to one.  It is clearly noticeable that 4 players had a very high TRIMP value and PlayerLoad (Athletes 1, 10, 5, and 9) -- compared to the rest of the team.  However, it is worth noting that a basketball team has 5 players on the court.  So, this suggests that the \"5th player\" either did not have a Catapult device on -- or (possibly) was being substituted frequently by several of the athletes with lower scores (especially Athletes 2 and 8 who had higher player loads AND TRIMP values compared to the others.)"
   ]
  },
  {
   "cell_type": "markdown",
   "metadata": {
    "deepnote_cell_type": "text-cell-p",
    "tags": []
   },
   "source": [
    "One important distinction is that players on the bench can have very elevated HR's from the excitement of the game - that is not tightly linked to the playerload.  This seems to be the case for player 6 - who has the lowest playerload -- but quite a high TRIMP score!  This is something to keep in mind as next week we will discuss more about the combination of using both internal and external measures of load or effort."
   ]
  },
  {
   "cell_type": "markdown",
   "metadata": {
    "deepnote_cell_type": "text-cell-p",
    "tags": []
   },
   "source": []
  },
  {
   "cell_type": "markdown",
   "metadata": {
    "deepnote_cell_type": "text-cell-p",
    "tags": []
   },
   "source": []
  },
  {
   "cell_type": "markdown",
   "metadata": {
    "cell_id": "00072-6d1ca85c-d6d8-4406-8ff1-d5b5a3d6c523",
    "deepnote_cell_type": "text-cell-p",
    "tags": []
   },
   "source": []
  },
  {
   "cell_type": "markdown",
   "metadata": {
    "cell_id": "00073-587d438f-ff25-498c-a5a0-00eceae705e8",
    "deepnote_cell_type": "markdown",
    "tags": []
   },
   "source": []
  }
 ],
 "metadata": {
  "deepnote": {
   "is_reactive": false
  },
  "deepnote_execution_queue": [],
  "deepnote_notebook_id": "a5cc4e30-10ac-4472-af9b-4afb62a3b222",
  "kernelspec": {
   "display_name": "Python 3 (ipykernel)",
   "language": "python",
   "name": "python3"
  },
  "language_info": {
   "codemirror_mode": {
    "name": "ipython",
    "version": 3
   },
   "file_extension": ".py",
   "mimetype": "text/x-python",
   "name": "python",
   "nbconvert_exporter": "python",
   "pygments_lexer": "ipython3",
   "version": "3.8.12"
  }
 },
 "nbformat": 4,
 "nbformat_minor": 4
}
