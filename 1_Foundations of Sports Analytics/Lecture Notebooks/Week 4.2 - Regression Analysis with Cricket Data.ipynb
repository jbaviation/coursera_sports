{
 "cells": [
  {
   "cell_type": "markdown",
   "metadata": {},
   "source": [
    "# Regression Analyses with Cricket Data\n",
    "\n",
    "In week 1, we took a brief look at the cricket match of statistics of the Indian Premier league in 2018 (IPL2018teams dataset). In this week, we will look at the player level statistics. In particular, we are interested in whether the player performance impact their salaries. "
   ]
  },
  {
   "cell_type": "markdown",
   "metadata": {},
   "source": [
    "### Import useful libraries\n"
   ]
  },
  {
   "cell_type": "code",
   "execution_count": 1,
   "metadata": {},
   "outputs": [],
   "source": [
    "import pandas as pd\n",
    "import numpy as np\n",
    "import matplotlib.pyplot as plt\n",
    "import seaborn as sns\n",
    "import statsmodels.formula.api as sm"
   ]
  },
  {
   "cell_type": "markdown",
   "metadata": {},
   "source": [
    "### Import cricket data\n",
    "In our data repository, there is a data set “IPL18Player.csv” which contains performance statistics as well as salary information of cricket players in the Indian Premier League in 2018.\n"
   ]
  },
  {
   "cell_type": "code",
   "execution_count": 2,
   "metadata": {},
   "outputs": [
    {
     "data": {
      "text/html": [
       "<div>\n",
       "<style scoped>\n",
       "    .dataframe tbody tr th:only-of-type {\n",
       "        vertical-align: middle;\n",
       "    }\n",
       "\n",
       "    .dataframe tbody tr th {\n",
       "        vertical-align: top;\n",
       "    }\n",
       "\n",
       "    .dataframe thead th {\n",
       "        text-align: right;\n",
       "    }\n",
       "</style>\n",
       "<table border=\"1\" class=\"dataframe\">\n",
       "  <thead>\n",
       "    <tr style=\"text-align: right;\">\n",
       "      <th></th>\n",
       "      <th>player_id</th>\n",
       "      <th>long_scorecard_name</th>\n",
       "      <th>Salary</th>\n",
       "      <th>team</th>\n",
       "      <th>matches</th>\n",
       "      <th>wins</th>\n",
       "      <th>team_runs_for</th>\n",
       "      <th>team_runs_against</th>\n",
       "      <th>matches_keeper</th>\n",
       "      <th>byes_conceded</th>\n",
       "      <th>...</th>\n",
       "      <th>bowling_dot_balls</th>\n",
       "      <th>bowling_sixes</th>\n",
       "      <th>no_balls</th>\n",
       "      <th>balls_bowled_1_to_6</th>\n",
       "      <th>runs_conceded_1_to_6</th>\n",
       "      <th>balls_bowled_7_to_14</th>\n",
       "      <th>runs_conceded_7_to_14</th>\n",
       "      <th>balls_bowled_15_to_20</th>\n",
       "      <th>runs_conceded_15_to_20</th>\n",
       "      <th>event_winner</th>\n",
       "    </tr>\n",
       "  </thead>\n",
       "  <tbody>\n",
       "    <tr>\n",
       "      <th>0</th>\n",
       "      <td>8931</td>\n",
       "      <td>AT Rayudu</td>\n",
       "      <td>343750.0</td>\n",
       "      <td>Chennai Super Kings</td>\n",
       "      <td>16</td>\n",
       "      <td>11</td>\n",
       "      <td>2809</td>\n",
       "      <td>2750</td>\n",
       "      <td>0</td>\n",
       "      <td>0</td>\n",
       "      <td>...</td>\n",
       "      <td>0</td>\n",
       "      <td>0</td>\n",
       "      <td>0</td>\n",
       "      <td>0</td>\n",
       "      <td>0</td>\n",
       "      <td>0</td>\n",
       "      <td>0</td>\n",
       "      <td>0</td>\n",
       "      <td>0</td>\n",
       "      <td>1</td>\n",
       "    </tr>\n",
       "    <tr>\n",
       "      <th>1</th>\n",
       "      <td>254771</td>\n",
       "      <td>D Shorey</td>\n",
       "      <td>31250.0</td>\n",
       "      <td>Chennai Super Kings</td>\n",
       "      <td>1</td>\n",
       "      <td>1</td>\n",
       "      <td>128</td>\n",
       "      <td>127</td>\n",
       "      <td>0</td>\n",
       "      <td>0</td>\n",
       "      <td>...</td>\n",
       "      <td>0</td>\n",
       "      <td>0</td>\n",
       "      <td>0</td>\n",
       "      <td>0</td>\n",
       "      <td>0</td>\n",
       "      <td>0</td>\n",
       "      <td>0</td>\n",
       "      <td>0</td>\n",
       "      <td>0</td>\n",
       "      <td>1</td>\n",
       "    </tr>\n",
       "    <tr>\n",
       "      <th>2</th>\n",
       "      <td>44613</td>\n",
       "      <td>DJ Bravo</td>\n",
       "      <td>1000000.0</td>\n",
       "      <td>Chennai Super Kings</td>\n",
       "      <td>16</td>\n",
       "      <td>11</td>\n",
       "      <td>2809</td>\n",
       "      <td>2750</td>\n",
       "      <td>0</td>\n",
       "      <td>0</td>\n",
       "      <td>...</td>\n",
       "      <td>90</td>\n",
       "      <td>29</td>\n",
       "      <td>0</td>\n",
       "      <td>0</td>\n",
       "      <td>0</td>\n",
       "      <td>126</td>\n",
       "      <td>160</td>\n",
       "      <td>195</td>\n",
       "      <td>373</td>\n",
       "      <td>1</td>\n",
       "    </tr>\n",
       "    <tr>\n",
       "      <th>3</th>\n",
       "      <td>214425</td>\n",
       "      <td>DJ Willey</td>\n",
       "      <td>NaN</td>\n",
       "      <td>Chennai Super Kings</td>\n",
       "      <td>3</td>\n",
       "      <td>2</td>\n",
       "      <td>484</td>\n",
       "      <td>483</td>\n",
       "      <td>0</td>\n",
       "      <td>0</td>\n",
       "      <td>...</td>\n",
       "      <td>20</td>\n",
       "      <td>3</td>\n",
       "      <td>0</td>\n",
       "      <td>24</td>\n",
       "      <td>38</td>\n",
       "      <td>6</td>\n",
       "      <td>10</td>\n",
       "      <td>30</td>\n",
       "      <td>47</td>\n",
       "      <td>1</td>\n",
       "    </tr>\n",
       "    <tr>\n",
       "      <th>4</th>\n",
       "      <td>258155</td>\n",
       "      <td>DL Chahar</td>\n",
       "      <td>125000.0</td>\n",
       "      <td>Chennai Super Kings</td>\n",
       "      <td>12</td>\n",
       "      <td>9</td>\n",
       "      <td>2117</td>\n",
       "      <td>2068</td>\n",
       "      <td>0</td>\n",
       "      <td>0</td>\n",
       "      <td>...</td>\n",
       "      <td>118</td>\n",
       "      <td>10</td>\n",
       "      <td>2</td>\n",
       "      <td>194</td>\n",
       "      <td>236</td>\n",
       "      <td>37</td>\n",
       "      <td>42</td>\n",
       "      <td>0</td>\n",
       "      <td>0</td>\n",
       "      <td>1</td>\n",
       "    </tr>\n",
       "  </tbody>\n",
       "</table>\n",
       "<p>5 rows × 35 columns</p>\n",
       "</div>"
      ],
      "text/plain": [
       "   player_id long_scorecard_name     Salary                 team  matches  \\\n",
       "0       8931           AT Rayudu   343750.0  Chennai Super Kings       16   \n",
       "1     254771            D Shorey    31250.0  Chennai Super Kings        1   \n",
       "2      44613            DJ Bravo  1000000.0  Chennai Super Kings       16   \n",
       "3     214425           DJ Willey        NaN  Chennai Super Kings        3   \n",
       "4     258155           DL Chahar   125000.0  Chennai Super Kings       12   \n",
       "\n",
       "   wins  team_runs_for  team_runs_against  matches_keeper  byes_conceded  ...  \\\n",
       "0    11           2809               2750               0              0  ...   \n",
       "1     1            128                127               0              0  ...   \n",
       "2    11           2809               2750               0              0  ...   \n",
       "3     2            484                483               0              0  ...   \n",
       "4     9           2117               2068               0              0  ...   \n",
       "\n",
       "   bowling_dot_balls  bowling_sixes  no_balls  balls_bowled_1_to_6  \\\n",
       "0                  0              0         0                    0   \n",
       "1                  0              0         0                    0   \n",
       "2                 90             29         0                    0   \n",
       "3                 20              3         0                   24   \n",
       "4                118             10         2                  194   \n",
       "\n",
       "   runs_conceded_1_to_6  balls_bowled_7_to_14  runs_conceded_7_to_14  \\\n",
       "0                     0                     0                      0   \n",
       "1                     0                     0                      0   \n",
       "2                     0                   126                    160   \n",
       "3                    38                     6                     10   \n",
       "4                   236                    37                     42   \n",
       "\n",
       "   balls_bowled_15_to_20  runs_conceded_15_to_20  event_winner  \n",
       "0                      0                       0             1  \n",
       "1                      0                       0             1  \n",
       "2                    195                     373             1  \n",
       "3                     30                      47             1  \n",
       "4                      0                       0             1  \n",
       "\n",
       "[5 rows x 35 columns]"
      ]
     },
     "execution_count": 2,
     "metadata": {},
     "output_type": "execute_result"
    }
   ],
   "source": [
    "IPLPlayer=pd.read_csv(\"../Data/IPL18Player.csv\")\n",
    "IPLPlayer.head()"
   ]
  },
  {
   "cell_type": "markdown",
   "metadata": {},
   "source": [
    "## Data Exploration and Preparation"
   ]
  },
  {
   "cell_type": "code",
   "execution_count": 3,
   "metadata": {},
   "outputs": [
    {
     "data": {
      "text/plain": [
       "(149, 35)"
      ]
     },
     "execution_count": 3,
     "metadata": {},
     "output_type": "execute_result"
    }
   ],
   "source": [
    "IPLPlayer.shape"
   ]
  },
  {
   "cell_type": "markdown",
   "metadata": {},
   "source": [
    "### Missing Values"
   ]
  },
  {
   "cell_type": "code",
   "execution_count": 4,
   "metadata": {},
   "outputs": [
    {
     "name": "stdout",
     "output_type": "stream",
     "text": [
      "<class 'pandas.core.frame.DataFrame'>\n",
      "RangeIndex: 149 entries, 0 to 148\n",
      "Data columns (total 35 columns):\n",
      " #   Column                  Non-Null Count  Dtype  \n",
      "---  ------                  --------------  -----  \n",
      " 0   player_id               149 non-null    int64  \n",
      " 1   long_scorecard_name     149 non-null    object \n",
      " 2   Salary                  141 non-null    float64\n",
      " 3   team                    149 non-null    object \n",
      " 4   matches                 149 non-null    int64  \n",
      " 5   wins                    149 non-null    int64  \n",
      " 6   team_runs_for           149 non-null    int64  \n",
      " 7   team_runs_against       149 non-null    int64  \n",
      " 8   matches_keeper          149 non-null    int64  \n",
      " 9   byes_conceded           149 non-null    int64  \n",
      " 10  moms                    149 non-null    int64  \n",
      " 11  innings                 149 non-null    int64  \n",
      " 12  not_outs                149 non-null    int64  \n",
      " 13  runs                    149 non-null    int64  \n",
      " 14  balls_faced             149 non-null    int64  \n",
      " 15  fours                   149 non-null    int64  \n",
      " 16  sixes                   149 non-null    int64  \n",
      " 17  matches_bowled          149 non-null    int64  \n",
      " 18  balls_bowled            149 non-null    int64  \n",
      " 19  wickets                 149 non-null    int64  \n",
      " 20  runs_conceded           149 non-null    int64  \n",
      " 21  catches                 149 non-null    int64  \n",
      " 22  stumpings               149 non-null    int64  \n",
      " 23  run_outs                149 non-null    int64  \n",
      " 24  batting_dot_balls       149 non-null    int64  \n",
      " 25  bowling_dot_balls       149 non-null    int64  \n",
      " 26  bowling_sixes           149 non-null    int64  \n",
      " 27  no_balls                149 non-null    int64  \n",
      " 28  balls_bowled_1_to_6     149 non-null    int64  \n",
      " 29  runs_conceded_1_to_6    149 non-null    int64  \n",
      " 30  balls_bowled_7_to_14    149 non-null    int64  \n",
      " 31  runs_conceded_7_to_14   149 non-null    int64  \n",
      " 32  balls_bowled_15_to_20   149 non-null    int64  \n",
      " 33  runs_conceded_15_to_20  149 non-null    int64  \n",
      " 34  event_winner            149 non-null    int64  \n",
      "dtypes: float64(1), int64(32), object(2)\n",
      "memory usage: 40.9+ KB\n"
     ]
    }
   ],
   "source": [
    "IPLPlayer.info()"
   ]
  },
  {
   "cell_type": "markdown",
   "metadata": {},
   "source": [
    "_There are missing values in the salary variable. We will drop observations with missing values._"
   ]
  },
  {
   "cell_type": "code",
   "execution_count": 5,
   "metadata": {},
   "outputs": [
    {
     "data": {
      "text/plain": [
       "(141, 35)"
      ]
     },
     "execution_count": 5,
     "metadata": {},
     "output_type": "execute_result"
    }
   ],
   "source": [
    "IPLPlayer=IPLPlayer.dropna()\n",
    "IPLPlayer.shape"
   ]
  },
  {
   "cell_type": "markdown",
   "metadata": {},
   "source": [
    "## Create useful variables\n",
    "### Create dummy variables to indicate the role of the players.\n",
    "- Create a variable to indicate whether a player had played as a batsman.\n",
    "\n",
    " The variable \"innings\" indicates how many innings a player had batted in."
   ]
  },
  {
   "cell_type": "code",
   "execution_count": 6,
   "metadata": {},
   "outputs": [
    {
     "data": {
      "text/plain": [
       "count    141.000000\n",
       "mean       0.943262\n",
       "std        0.232165\n",
       "min        0.000000\n",
       "25%        1.000000\n",
       "50%        1.000000\n",
       "75%        1.000000\n",
       "max        1.000000\n",
       "Name: batsman, dtype: float64"
      ]
     },
     "execution_count": 6,
     "metadata": {},
     "output_type": "execute_result"
    }
   ],
   "source": [
    "IPLPlayer['batsman']=np.where(IPLPlayer['innings']> 0, 1, 0)\n",
    "IPLPlayer['batsman'].describe()"
   ]
  },
  {
   "cell_type": "markdown",
   "metadata": {},
   "source": [
    "- Create a variable to indicate bowler."
   ]
  },
  {
   "cell_type": "code",
   "execution_count": 7,
   "metadata": {},
   "outputs": [
    {
     "data": {
      "text/plain": [
       "count    141.000000\n",
       "mean       0.631206\n",
       "std        0.484198\n",
       "min        0.000000\n",
       "25%        0.000000\n",
       "50%        1.000000\n",
       "75%        1.000000\n",
       "max        1.000000\n",
       "Name: bowler, dtype: float64"
      ]
     },
     "execution_count": 7,
     "metadata": {},
     "output_type": "execute_result"
    }
   ],
   "source": [
    "IPLPlayer['bowler']=np.where(IPLPlayer['matches_bowled']> 0, 1, 0)\n",
    "IPLPlayer['bowler'].describe()"
   ]
  },
  {
   "cell_type": "markdown",
   "metadata": {},
   "source": [
    "The last type of player that is not captured by either batsman or bowler is wicket keeper. In the dataset, the variable \"matches_keeper\" indicates the number of matches that a player is a wicket keeper.\n"
   ]
  },
  {
   "cell_type": "markdown",
   "metadata": {},
   "source": [
    "### Performance Measures\n",
    "1. batting average = runs / the numbers of outs\n",
    "2. batting strike rate = (runs * 100) / balls faced\n",
    "3. bowling average = runs conceded / wicket taken\n",
    "4. bowling strike rate = number of balls bowled / wicket taken\n",
    "\n",
    "_Notice that if a batsman has scored runs but not been dismissed, his batting average is technically infinite. Similarly, if a player did not face any ball, his batting strike would be infinite and if a player did not lose any wicket, his bowling average or bowling strike would be infinite._\n",
    "\n",
    "We will not be able to run a regression when our variables have some infinite values.\n",
    "\n",
    "There are two alternatives we will consider to deal with this issue.\n",
    "1. Add 1 to the number of outs, balls faced, andn wickets taken in calculating the above variables.\n",
    "2. Instead of creating the above measures, we can simply include total runs, total number of outs, and balls faced to measure a batsman's performance, and include runs conceded, number of balls bowled, and wickets taken to measure a bowler's performance."
   ]
  },
  {
   "cell_type": "code",
   "execution_count": 8,
   "metadata": {},
   "outputs": [
    {
     "data": {
      "text/plain": [
       "count    141.000000\n",
       "mean       5.000000\n",
       "std        4.605897\n",
       "min        0.000000\n",
       "25%        1.000000\n",
       "50%        4.000000\n",
       "75%        9.000000\n",
       "max       16.000000\n",
       "Name: outs, dtype: float64"
      ]
     },
     "execution_count": 8,
     "metadata": {},
     "output_type": "execute_result"
    }
   ],
   "source": [
    "IPLPlayer['outs']=np.where(IPLPlayer['batsman']==1, IPLPlayer['innings']-IPLPlayer['not_outs'], 0)\n",
    "IPLPlayer['outs'].describe()"
   ]
  },
  {
   "cell_type": "markdown",
   "metadata": {},
   "source": [
    "Create batting average, batting strke rate, bowling average, and bowling strike rate variables. Add 1 to the number of outs, balls faced, andn wickets taken in calculating these variables."
   ]
  },
  {
   "cell_type": "code",
   "execution_count": 9,
   "metadata": {},
   "outputs": [],
   "source": [
    "IPLPlayer['batting_average']=IPLPlayer['runs']/(IPLPlayer['outs']+1)\n",
    "IPLPlayer['batting_strike']=IPLPlayer['runs']/((IPLPlayer['balls_faced']+1))*100\n",
    "IPLPlayer['bowling_average']=IPLPlayer['runs_conceded']/(IPLPlayer['wickets']+1)\n",
    "IPLPlayer['bowling_strike']=IPLPlayer['balls_bowled']/(IPLPlayer['wickets']+1)"
   ]
  },
  {
   "cell_type": "code",
   "execution_count": 10,
   "metadata": {},
   "outputs": [
    {
     "data": {
      "text/plain": [
       "count    141.000000\n",
       "mean      15.093066\n",
       "std       13.761819\n",
       "min        0.000000\n",
       "25%        4.000000\n",
       "50%       12.500000\n",
       "75%       23.000000\n",
       "max       65.000000\n",
       "Name: batting_average, dtype: float64"
      ]
     },
     "execution_count": 10,
     "metadata": {},
     "output_type": "execute_result"
    }
   ],
   "source": [
    "IPLPlayer['batting_average'].describe()"
   ]
  },
  {
   "cell_type": "code",
   "execution_count": 11,
   "metadata": {},
   "outputs": [
    {
     "data": {
      "text/plain": [
       "count    141.000000\n",
       "mean     104.164456\n",
       "std       53.873378\n",
       "min        0.000000\n",
       "25%       73.913043\n",
       "50%      118.446602\n",
       "75%      139.669421\n",
       "max      250.000000\n",
       "Name: batting_strike, dtype: float64"
      ]
     },
     "execution_count": 11,
     "metadata": {},
     "output_type": "execute_result"
    }
   ],
   "source": [
    "IPLPlayer['batting_strike'].describe()"
   ]
  },
  {
   "cell_type": "code",
   "execution_count": 12,
   "metadata": {},
   "outputs": [
    {
     "data": {
      "text/plain": [
       "count    141.000000\n",
       "mean      17.493864\n",
       "std       16.108488\n",
       "min        0.000000\n",
       "25%        0.000000\n",
       "50%       20.052632\n",
       "75%       27.466667\n",
       "max       72.000000\n",
       "Name: bowling_average, dtype: float64"
      ]
     },
     "execution_count": 12,
     "metadata": {},
     "output_type": "execute_result"
    }
   ],
   "source": [
    "IPLPlayer['bowling_average'].describe()"
   ]
  },
  {
   "cell_type": "code",
   "execution_count": 13,
   "metadata": {},
   "outputs": [
    {
     "data": {
      "text/plain": [
       "count    141.000000\n",
       "mean      11.478621\n",
       "std       10.295591\n",
       "min        0.000000\n",
       "25%        0.000000\n",
       "50%       12.500000\n",
       "75%       19.600000\n",
       "max       42.000000\n",
       "Name: bowling_strike, dtype: float64"
      ]
     },
     "execution_count": 13,
     "metadata": {},
     "output_type": "execute_result"
    }
   ],
   "source": [
    "IPLPlayer['bowling_strike'].describe()"
   ]
  },
  {
   "cell_type": "markdown",
   "metadata": {},
   "source": [
    "## Regression Analyses\n",
    "### First let's run a regression of the salary on the type of player, batsman, bowler, and all-rounder."
   ]
  },
  {
   "cell_type": "code",
   "execution_count": 14,
   "metadata": {
    "scrolled": true
   },
   "outputs": [
    {
     "name": "stdout",
     "output_type": "stream",
     "text": [
      "                            OLS Regression Results                            \n",
      "==============================================================================\n",
      "Dep. Variable:                 Salary   R-squared:                       0.060\n",
      "Model:                            OLS   Adj. R-squared:                  0.046\n",
      "Method:                 Least Squares   F-statistic:                     4.379\n",
      "Date:                Mon, 29 Nov 2021   Prob (F-statistic):             0.0143\n",
      "Time:                        16:42:59   Log-Likelihood:                -2069.2\n",
      "No. Observations:                 141   AIC:                             4144.\n",
      "Df Residuals:                     138   BIC:                             4153.\n",
      "Df Model:                           2                                         \n",
      "Covariance Type:            nonrobust                                         \n",
      "==================================================================================\n",
      "                     coef    std err          t      P>|t|      [0.025      0.975]\n",
      "----------------------------------------------------------------------------------\n",
      "Intercept       2.859e+05   1.11e+05      2.577      0.011    6.65e+04    5.05e+05\n",
      "batsman          4.61e+05   1.11e+05      4.156      0.000    2.42e+05     6.8e+05\n",
      "bowler         -1.668e+05   1.11e+05     -1.504      0.135   -3.86e+05    5.25e+04\n",
      "batsman:bowler  8340.1549    1.2e+05      0.070      0.945   -2.29e+05    2.45e+05\n",
      "==============================================================================\n",
      "Omnibus:                       29.772   Durbin-Watson:                   2.052\n",
      "Prob(Omnibus):                  0.000   Jarque-Bera (JB):               40.475\n",
      "Skew:                           1.229   Prob(JB):                     1.63e-09\n",
      "Kurtosis:                       3.919   Cond. No.                     1.50e+16\n",
      "==============================================================================\n",
      "\n",
      "Notes:\n",
      "[1] Standard Errors assume that the covariance matrix of the errors is correctly specified.\n",
      "[2] The smallest eigenvalue is 1.75e-30. This might indicate that there are\n",
      "strong multicollinearity problems or that the design matrix is singular.\n"
     ]
    }
   ],
   "source": [
    "reg_IPL1=sm.ols(formula = 'Salary ~ batsman+ bowler+ batsman*bowler', data= IPLPlayer, missing=\"drop\").fit()\n",
    "print(reg_IPL1.summary())"
   ]
  },
  {
   "cell_type": "markdown",
   "metadata": {},
   "source": [
    "### Next we will first focus on performance of batsman.\n",
    "We will first simply use the total number of runs, number of not outs, and number of balls faced to measure players’ performance."
   ]
  },
  {
   "cell_type": "code",
   "execution_count": 15,
   "metadata": {},
   "outputs": [
    {
     "name": "stdout",
     "output_type": "stream",
     "text": [
      "                            OLS Regression Results                            \n",
      "==============================================================================\n",
      "Dep. Variable:                 Salary   R-squared:                       0.267\n",
      "Model:                            OLS   Adj. R-squared:                  0.261\n",
      "Method:                 Least Squares   F-statistic:                     50.57\n",
      "Date:                Mon, 29 Nov 2021   Prob (F-statistic):           5.54e-11\n",
      "Time:                        16:44:04   Log-Likelihood:                -2051.7\n",
      "No. Observations:                 141   AIC:                             4107.\n",
      "Df Residuals:                     139   BIC:                             4113.\n",
      "Df Model:                           1                                         \n",
      "Covariance Type:            nonrobust                                         \n",
      "==============================================================================\n",
      "                 coef    std err          t      P>|t|      [0.025      0.975]\n",
      "------------------------------------------------------------------------------\n",
      "Intercept   3.878e+05   5.39e+04      7.198      0.000    2.81e+05    4.94e+05\n",
      "runs        1737.9337    244.400      7.111      0.000    1254.711    2221.157\n",
      "==============================================================================\n",
      "Omnibus:                       19.056   Durbin-Watson:                   2.116\n",
      "Prob(Omnibus):                  0.000   Jarque-Bera (JB):               22.155\n",
      "Skew:                           0.913   Prob(JB):                     1.55e-05\n",
      "Kurtosis:                       3.660   Cond. No.                         277.\n",
      "==============================================================================\n",
      "\n",
      "Notes:\n",
      "[1] Standard Errors assume that the covariance matrix of the errors is correctly specified.\n"
     ]
    }
   ],
   "source": [
    "reg_IPL2=sm.ols(formula = 'Salary ~ runs', data= IPLPlayer).fit()\n",
    "print(reg_IPL2.summary())"
   ]
  },
  {
   "cell_type": "code",
   "execution_count": 16,
   "metadata": {},
   "outputs": [
    {
     "name": "stdout",
     "output_type": "stream",
     "text": [
      "                            OLS Regression Results                            \n",
      "==============================================================================\n",
      "Dep. Variable:                 Salary   R-squared:                       0.318\n",
      "Model:                            OLS   Adj. R-squared:                  0.308\n",
      "Method:                 Least Squares   F-statistic:                     32.15\n",
      "Date:                Mon, 29 Nov 2021   Prob (F-statistic):           3.45e-12\n",
      "Time:                        16:45:17   Log-Likelihood:                -2046.6\n",
      "No. Observations:                 141   AIC:                             4099.\n",
      "Df Residuals:                     138   BIC:                             4108.\n",
      "Df Model:                           2                                         \n",
      "Covariance Type:            nonrobust                                         \n",
      "==============================================================================\n",
      "                 coef    std err          t      P>|t|      [0.025      0.975]\n",
      "------------------------------------------------------------------------------\n",
      "Intercept    2.88e+05   6.07e+04      4.747      0.000    1.68e+05    4.08e+05\n",
      "runs        1491.1582    248.725      5.995      0.000     999.353    1982.963\n",
      "not_outs    8.955e+04   2.79e+04      3.215      0.002    3.45e+04    1.45e+05\n",
      "==============================================================================\n",
      "Omnibus:                       16.162   Durbin-Watson:                   2.092\n",
      "Prob(Omnibus):                  0.000   Jarque-Bera (JB):               18.001\n",
      "Skew:                           0.806   Prob(JB):                     0.000123\n",
      "Kurtosis:                       3.682   Cond. No.                         333.\n",
      "==============================================================================\n",
      "\n",
      "Notes:\n",
      "[1] Standard Errors assume that the covariance matrix of the errors is correctly specified.\n"
     ]
    }
   ],
   "source": [
    "reg_IPL3=sm.ols(formula = 'Salary ~ runs+not_outs', data= IPLPlayer).fit()\n",
    "print(reg_IPL3.summary())"
   ]
  },
  {
   "cell_type": "code",
   "execution_count": 17,
   "metadata": {},
   "outputs": [
    {
     "name": "stdout",
     "output_type": "stream",
     "text": [
      "                            OLS Regression Results                            \n",
      "==============================================================================\n",
      "Dep. Variable:                 Salary   R-squared:                       0.321\n",
      "Model:                            OLS   Adj. R-squared:                  0.306\n",
      "Method:                 Least Squares   F-statistic:                     21.60\n",
      "Date:                Mon, 29 Nov 2021   Prob (F-statistic):           1.62e-11\n",
      "Time:                        16:46:01   Log-Likelihood:                -2046.3\n",
      "No. Observations:                 141   AIC:                             4101.\n",
      "Df Residuals:                     137   BIC:                             4112.\n",
      "Df Model:                           3                                         \n",
      "Covariance Type:            nonrobust                                         \n",
      "===============================================================================\n",
      "                  coef    std err          t      P>|t|      [0.025      0.975]\n",
      "-------------------------------------------------------------------------------\n",
      "Intercept    3.013e+05   6.29e+04      4.791      0.000    1.77e+05    4.26e+05\n",
      "runs         2871.9166   1711.997      1.678      0.096    -513.440    6257.273\n",
      "not_outs     8.945e+04   2.79e+04      3.207      0.002    3.43e+04    1.45e+05\n",
      "balls_faced -2044.5867   2508.113     -0.815      0.416   -7004.207    2915.033\n",
      "==============================================================================\n",
      "Omnibus:                       16.922   Durbin-Watson:                   2.095\n",
      "Prob(Omnibus):                  0.000   Jarque-Bera (JB):               19.142\n",
      "Skew:                           0.819   Prob(JB):                     6.97e-05\n",
      "Kurtosis:                       3.758   Cond. No.                         418.\n",
      "==============================================================================\n",
      "\n",
      "Notes:\n",
      "[1] Standard Errors assume that the covariance matrix of the errors is correctly specified.\n"
     ]
    }
   ],
   "source": [
    "reg_IPL4=sm.ols(formula = 'Salary ~ runs+not_outs+balls_faced', data= IPLPlayer).fit()\n",
    "print(reg_IPL4.summary())"
   ]
  },
  {
   "cell_type": "markdown",
   "metadata": {},
   "source": [
    "In the next regressions, we will use the modified batting average and batting strike variables to measure player performance."
   ]
  },
  {
   "cell_type": "code",
   "execution_count": 18,
   "metadata": {},
   "outputs": [
    {
     "name": "stdout",
     "output_type": "stream",
     "text": [
      "                            OLS Regression Results                            \n",
      "==============================================================================\n",
      "Dep. Variable:                 Salary   R-squared:                       0.233\n",
      "Model:                            OLS   Adj. R-squared:                  0.227\n",
      "Method:                 Least Squares   F-statistic:                     42.13\n",
      "Date:                Mon, 29 Nov 2021   Prob (F-statistic):           1.40e-09\n",
      "Time:                        16:47:15   Log-Likelihood:                -2054.9\n",
      "No. Observations:                 141   AIC:                             4114.\n",
      "Df Residuals:                     139   BIC:                             4120.\n",
      "Df Model:                           1                                         \n",
      "Covariance Type:            nonrobust                                         \n",
      "===================================================================================\n",
      "                      coef    std err          t      P>|t|      [0.025      0.975]\n",
      "-----------------------------------------------------------------------------------\n",
      "Intercept        3.072e+05   6.52e+04      4.716      0.000    1.78e+05    4.36e+05\n",
      "batting_average  2.074e+04   3194.873      6.491      0.000    1.44e+04    2.71e+04\n",
      "==============================================================================\n",
      "Omnibus:                       18.526   Durbin-Watson:                   2.083\n",
      "Prob(Omnibus):                  0.000   Jarque-Bera (JB):               21.526\n",
      "Skew:                           0.929   Prob(JB):                     2.12e-05\n",
      "Kurtosis:                       3.457   Cond. No.                         30.4\n",
      "==============================================================================\n",
      "\n",
      "Notes:\n",
      "[1] Standard Errors assume that the covariance matrix of the errors is correctly specified.\n"
     ]
    }
   ],
   "source": [
    "reg_IPL5=sm.ols(formula = 'Salary ~ batting_average', data= IPLPlayer).fit()\n",
    "print(reg_IPL5.summary())"
   ]
  },
  {
   "cell_type": "code",
   "execution_count": 19,
   "metadata": {},
   "outputs": [
    {
     "name": "stdout",
     "output_type": "stream",
     "text": [
      "                            OLS Regression Results                            \n",
      "==============================================================================\n",
      "Dep. Variable:                 Salary   R-squared:                       0.234\n",
      "Model:                            OLS   Adj. R-squared:                  0.223\n",
      "Method:                 Least Squares   F-statistic:                     21.12\n",
      "Date:                Mon, 29 Nov 2021   Prob (F-statistic):           9.96e-09\n",
      "Time:                        16:56:53   Log-Likelihood:                -2054.7\n",
      "No. Observations:                 141   AIC:                             4115.\n",
      "Df Residuals:                     138   BIC:                             4124.\n",
      "Df Model:                           2                                         \n",
      "Covariance Type:            nonrobust                                         \n",
      "===================================================================================\n",
      "                      coef    std err          t      P>|t|      [0.025      0.975]\n",
      "-----------------------------------------------------------------------------------\n",
      "Intercept        2.668e+05   9.69e+04      2.754      0.007    7.52e+04    4.58e+05\n",
      "batting_average  1.903e+04   4409.440      4.315      0.000    1.03e+04    2.77e+04\n",
      "batting_strike    635.3041   1126.380      0.564      0.574   -1591.892    2862.500\n",
      "==============================================================================\n",
      "Omnibus:                       17.736   Durbin-Watson:                   2.061\n",
      "Prob(Omnibus):                  0.000   Jarque-Bera (JB):               20.405\n",
      "Skew:                           0.908   Prob(JB):                     3.71e-05\n",
      "Kurtosis:                       3.416   Cond. No.                         262.\n",
      "==============================================================================\n",
      "\n",
      "Notes:\n",
      "[1] Standard Errors assume that the covariance matrix of the errors is correctly specified.\n"
     ]
    }
   ],
   "source": [
    "reg_IPL6=sm.ols(formula = 'Salary ~ batting_average+batting_strike', data= IPLPlayer).fit()\n",
    "print(reg_IPL6.summary())"
   ]
  },
  {
   "cell_type": "markdown",
   "metadata": {},
   "source": [
    "### We will now turn to bowlers' performance.\n",
    "\n",
    "Again, we will first use number of runs conceded, number of balls bowled, and number of wickets taken to measure bowlers' performance."
   ]
  },
  {
   "cell_type": "code",
   "execution_count": 20,
   "metadata": {},
   "outputs": [
    {
     "name": "stdout",
     "output_type": "stream",
     "text": [
      "                            OLS Regression Results                            \n",
      "==============================================================================\n",
      "Dep. Variable:                 Salary   R-squared:                       0.023\n",
      "Model:                            OLS   Adj. R-squared:                  0.015\n",
      "Method:                 Least Squares   F-statistic:                     3.200\n",
      "Date:                Mon, 29 Nov 2021   Prob (F-statistic):             0.0758\n",
      "Time:                        16:57:57   Log-Likelihood:                -2072.0\n",
      "No. Observations:                 141   AIC:                             4148.\n",
      "Df Residuals:                     139   BIC:                             4154.\n",
      "Df Model:                           1                                         \n",
      "Covariance Type:            nonrobust                                         \n",
      "=================================================================================\n",
      "                    coef    std err          t      P>|t|      [0.025      0.975]\n",
      "---------------------------------------------------------------------------------\n",
      "Intercept      5.438e+05   6.53e+04      8.322      0.000    4.15e+05    6.73e+05\n",
      "runs_conceded   569.3099    318.271      1.789      0.076     -59.968    1198.587\n",
      "==============================================================================\n",
      "Omnibus:                       39.245   Durbin-Watson:                   2.073\n",
      "Prob(Omnibus):                  0.000   Jarque-Bera (JB):               62.394\n",
      "Skew:                           1.414   Prob(JB):                     2.83e-14\n",
      "Kurtosis:                       4.621   Cond. No.                         271.\n",
      "==============================================================================\n",
      "\n",
      "Notes:\n",
      "[1] Standard Errors assume that the covariance matrix of the errors is correctly specified.\n"
     ]
    }
   ],
   "source": [
    "reg_IPL7=sm.ols(formula = 'Salary ~ runs_conceded', data= IPLPlayer).fit()\n",
    "print(reg_IPL7.summary())"
   ]
  },
  {
   "cell_type": "code",
   "execution_count": 21,
   "metadata": {},
   "outputs": [
    {
     "name": "stdout",
     "output_type": "stream",
     "text": [
      "                            OLS Regression Results                            \n",
      "==============================================================================\n",
      "Dep. Variable:                 Salary   R-squared:                       0.042\n",
      "Model:                            OLS   Adj. R-squared:                  0.028\n",
      "Method:                 Least Squares   F-statistic:                     3.026\n",
      "Date:                Mon, 29 Nov 2021   Prob (F-statistic):             0.0518\n",
      "Time:                        17:02:01   Log-Likelihood:                -2070.5\n",
      "No. Observations:                 141   AIC:                             4147.\n",
      "Df Residuals:                     138   BIC:                             4156.\n",
      "Df Model:                           2                                         \n",
      "Covariance Type:            nonrobust                                         \n",
      "=================================================================================\n",
      "                    coef    std err          t      P>|t|      [0.025      0.975]\n",
      "---------------------------------------------------------------------------------\n",
      "Intercept      5.565e+05   6.54e+04      8.514      0.000    4.27e+05    6.86e+05\n",
      "runs_conceded -2749.4793   2004.845     -1.371      0.172   -6713.666    1214.707\n",
      "balls_bowled   4574.8787   2729.042      1.676      0.096    -821.265    9971.023\n",
      "==============================================================================\n",
      "Omnibus:                       41.062   Durbin-Watson:                   2.075\n",
      "Prob(Omnibus):                  0.000   Jarque-Bera (JB):               67.476\n",
      "Skew:                           1.449   Prob(JB):                     2.23e-15\n",
      "Kurtosis:                       4.756   Cond. No.                         336.\n",
      "==============================================================================\n",
      "\n",
      "Notes:\n",
      "[1] Standard Errors assume that the covariance matrix of the errors is correctly specified.\n"
     ]
    }
   ],
   "source": [
    "reg_IPL8=sm.ols(formula = 'Salary ~ runs_conceded+balls_bowled', data= IPLPlayer).fit()\n",
    "print(reg_IPL8.summary())"
   ]
  },
  {
   "cell_type": "code",
   "execution_count": 22,
   "metadata": {},
   "outputs": [
    {
     "name": "stdout",
     "output_type": "stream",
     "text": [
      "                            OLS Regression Results                            \n",
      "==============================================================================\n",
      "Dep. Variable:                 Salary   R-squared:                       0.049\n",
      "Model:                            OLS   Adj. R-squared:                  0.028\n",
      "Method:                 Least Squares   F-statistic:                     2.329\n",
      "Date:                Mon, 29 Nov 2021   Prob (F-statistic):             0.0772\n",
      "Time:                        20:47:06   Log-Likelihood:                -2070.1\n",
      "No. Observations:                 141   AIC:                             4148.\n",
      "Df Residuals:                     137   BIC:                             4160.\n",
      "Df Model:                           3                                         \n",
      "Covariance Type:            nonrobust                                         \n",
      "=================================================================================\n",
      "                    coef    std err          t      P>|t|      [0.025      0.975]\n",
      "---------------------------------------------------------------------------------\n",
      "Intercept      5.543e+05   6.54e+04      8.472      0.000    4.25e+05    6.84e+05\n",
      "runs_conceded -3049.2063   2029.065     -1.503      0.135   -7061.542     963.129\n",
      "balls_bowled   6343.2378   3284.524      1.931      0.056    -151.683    1.28e+04\n",
      "wickets       -2.737e+04   2.83e+04     -0.968      0.335   -8.33e+04    2.85e+04\n",
      "==============================================================================\n",
      "Omnibus:                       41.167   Durbin-Watson:                   2.050\n",
      "Prob(Omnibus):                  0.000   Jarque-Bera (JB):               67.717\n",
      "Skew:                           1.453   Prob(JB):                     1.97e-15\n",
      "Kurtosis:                       4.757   Cond. No.                         337.\n",
      "==============================================================================\n",
      "\n",
      "Notes:\n",
      "[1] Standard Errors assume that the covariance matrix of the errors is correctly specified.\n"
     ]
    }
   ],
   "source": [
    "reg_IPL9=sm.ols(formula = 'Salary ~ runs_conceded+balls_bowled+wickets', data= IPLPlayer).fit()\n",
    "print(reg_IPL9.summary())"
   ]
  },
  {
   "cell_type": "markdown",
   "metadata": {},
   "source": [
    "In the next regression, we will use the modified bowling average and bowling strike variables to measure player performance."
   ]
  },
  {
   "cell_type": "code",
   "execution_count": 23,
   "metadata": {},
   "outputs": [
    {
     "name": "stdout",
     "output_type": "stream",
     "text": [
      "                            OLS Regression Results                            \n",
      "==============================================================================\n",
      "Dep. Variable:                 Salary   R-squared:                       0.054\n",
      "Model:                            OLS   Adj. R-squared:                  0.040\n",
      "Method:                 Least Squares   F-statistic:                     3.912\n",
      "Date:                Mon, 29 Nov 2021   Prob (F-statistic):             0.0223\n",
      "Time:                        20:47:10   Log-Likelihood:                -2069.7\n",
      "No. Observations:                 141   AIC:                             4145.\n",
      "Df Residuals:                     138   BIC:                             4154.\n",
      "Df Model:                           2                                         \n",
      "Covariance Type:            nonrobust                                         \n",
      "===================================================================================\n",
      "                      coef    std err          t      P>|t|      [0.025      0.975]\n",
      "-----------------------------------------------------------------------------------\n",
      "Intercept        6.535e+05   7.33e+04      8.918      0.000    5.09e+05    7.98e+05\n",
      "bowling_average -3.415e+04   1.25e+04     -2.740      0.007   -5.88e+04   -9507.025\n",
      "bowling_strike   4.914e+04   1.95e+04      2.520      0.013    1.06e+04    8.77e+04\n",
      "==============================================================================\n",
      "Omnibus:                       33.704   Durbin-Watson:                   2.040\n",
      "Prob(Omnibus):                  0.000   Jarque-Bera (JB):               48.909\n",
      "Skew:                           1.293   Prob(JB):                     2.40e-11\n",
      "Kurtosis:                       4.280   Cond. No.                         42.4\n",
      "==============================================================================\n",
      "\n",
      "Notes:\n",
      "[1] Standard Errors assume that the covariance matrix of the errors is correctly specified.\n"
     ]
    }
   ],
   "source": [
    "reg_IPL10=sm.ols(formula = 'Salary ~ bowling_average+bowling_strike', data= IPLPlayer).fit()\n",
    "print(reg_IPL10.summary())"
   ]
  },
  {
   "cell_type": "markdown",
   "metadata": {},
   "source": [
    "### Lastly, we will incorporate performance measures of both batsman and bowler in the same regression.\n",
    "We will first use the original variables, total number of runs, number of not outs, number of balls faced, number of runs conceded, number of balls bowled, and number of wickets in the regression."
   ]
  },
  {
   "cell_type": "code",
   "execution_count": 24,
   "metadata": {},
   "outputs": [
    {
     "name": "stdout",
     "output_type": "stream",
     "text": [
      "                            OLS Regression Results                            \n",
      "==============================================================================\n",
      "Dep. Variable:                 Salary   R-squared:                       0.408\n",
      "Model:                            OLS   Adj. R-squared:                  0.382\n",
      "Method:                 Least Squares   F-statistic:                     15.41\n",
      "Date:                Mon, 29 Nov 2021   Prob (F-statistic):           2.20e-13\n",
      "Time:                        20:47:18   Log-Likelihood:                -2036.6\n",
      "No. Observations:                 141   AIC:                             4087.\n",
      "Df Residuals:                     134   BIC:                             4108.\n",
      "Df Model:                           6                                         \n",
      "Covariance Type:            nonrobust                                         \n",
      "=================================================================================\n",
      "                    coef    std err          t      P>|t|      [0.025      0.975]\n",
      "---------------------------------------------------------------------------------\n",
      "Intercept      1.458e+05   7.32e+04      1.993      0.048    1123.895    2.91e+05\n",
      "runs           2089.9774   1629.015      1.283      0.202   -1131.930    5311.885\n",
      "not_outs        5.95e+04   2.82e+04      2.110      0.037    3731.096    1.15e+05\n",
      "balls_faced    -354.0166   2412.450     -0.147      0.884   -5125.422    4417.389\n",
      "runs_conceded -1737.5721   1672.019     -1.039      0.301   -5044.535    1569.391\n",
      "balls_bowled   5030.2797   2648.309      1.899      0.060    -207.614    1.03e+04\n",
      "wickets       -2.231e+04   2.26e+04     -0.989      0.325   -6.69e+04    2.23e+04\n",
      "==============================================================================\n",
      "Omnibus:                       17.606   Durbin-Watson:                   2.049\n",
      "Prob(Omnibus):                  0.000   Jarque-Bera (JB):               23.546\n",
      "Skew:                           0.709   Prob(JB):                     7.71e-06\n",
      "Kurtosis:                       4.412   Cond. No.                         538.\n",
      "==============================================================================\n",
      "\n",
      "Notes:\n",
      "[1] Standard Errors assume that the covariance matrix of the errors is correctly specified.\n"
     ]
    }
   ],
   "source": [
    "reg_IPL11=sm.ols(formula = 'Salary ~ runs+not_outs+balls_faced+runs_conceded+balls_bowled+wickets', data= IPLPlayer).fit()\n",
    "print(reg_IPL11.summary())"
   ]
  },
  {
   "cell_type": "markdown",
   "metadata": {},
   "source": [
    "We will also use the modified batting average, batting strike, bowling average, and bowling strike variables to measure the player performance."
   ]
  },
  {
   "cell_type": "code",
   "execution_count": 25,
   "metadata": {},
   "outputs": [
    {
     "name": "stdout",
     "output_type": "stream",
     "text": [
      "                            OLS Regression Results                            \n",
      "==============================================================================\n",
      "Dep. Variable:                 Salary   R-squared:                       0.308\n",
      "Model:                            OLS   Adj. R-squared:                  0.288\n",
      "Method:                 Least Squares   F-statistic:                     15.16\n",
      "Date:                Mon, 29 Nov 2021   Prob (F-statistic):           2.85e-10\n",
      "Time:                        20:47:43   Log-Likelihood:                -2047.6\n",
      "No. Observations:                 141   AIC:                             4105.\n",
      "Df Residuals:                     136   BIC:                             4120.\n",
      "Df Model:                           4                                         \n",
      "Covariance Type:            nonrobust                                         \n",
      "===================================================================================\n",
      "                      coef    std err          t      P>|t|      [0.025      0.975]\n",
      "-----------------------------------------------------------------------------------\n",
      "Intercept         1.37e+05   1.14e+05      1.204      0.231   -8.81e+04    3.62e+05\n",
      "batting_average  2.418e+04   4617.989      5.237      0.000    1.51e+04    3.33e+04\n",
      "batting_strike    -61.2223   1094.543     -0.056      0.955   -2225.747    2103.303\n",
      "bowling_average -3.186e+04   1.08e+04     -2.951      0.004   -5.32e+04   -1.05e+04\n",
      "bowling_strike   5.941e+04    1.7e+04      3.492      0.001    2.58e+04    9.31e+04\n",
      "==============================================================================\n",
      "Omnibus:                       13.575   Durbin-Watson:                   2.103\n",
      "Prob(Omnibus):                  0.001   Jarque-Bera (JB):               14.473\n",
      "Skew:                           0.732   Prob(JB):                     0.000720\n",
      "Kurtosis:                       3.565   Cond. No.                         324.\n",
      "==============================================================================\n",
      "\n",
      "Notes:\n",
      "[1] Standard Errors assume that the covariance matrix of the errors is correctly specified.\n"
     ]
    }
   ],
   "source": [
    "reg_IPL12=sm.ols(formula = 'Salary ~ batting_average+batting_strike+bowling_average+bowling_strike', data= IPLPlayer).fit()\n",
    "print(reg_IPL12.summary())"
   ]
  },
  {
   "cell_type": "markdown",
   "metadata": {},
   "source": [
    "## Self Test\n",
    "- Run a regression of salary as a function of the interaction of batsman and runs and the interaction of bowler and wickets taken.\n",
    "- Interpret your regression results."
   ]
  },
  {
   "cell_type": "code",
   "execution_count": null,
   "metadata": {},
   "outputs": [],
   "source": []
  }
 ],
 "metadata": {
  "kernelspec": {
   "display_name": "Python 3",
   "language": "python",
   "name": "python3"
  },
  "language_info": {
   "codemirror_mode": {
    "name": "ipython",
    "version": 3
   },
   "file_extension": ".py",
   "mimetype": "text/x-python",
   "name": "python",
   "nbconvert_exporter": "python",
   "pygments_lexer": "ipython3",
   "version": "3.8.8"
  }
 },
 "nbformat": 4,
 "nbformat_minor": 4
}
