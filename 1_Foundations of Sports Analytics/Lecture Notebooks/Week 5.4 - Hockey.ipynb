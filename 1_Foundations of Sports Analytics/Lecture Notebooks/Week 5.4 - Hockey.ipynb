{
 "cells": [
  {
   "cell_type": "markdown",
   "metadata": {},
   "source": [
    "# Salaries and Performance in the National Hockey League (NHL)\n",
    "\n",
    "By looking at third league modeled on the North American system we can get a better understanding of the three variables we have used to explain win perecentage: salaries, lagged win percentage, and fixed effects.\n",
    "\n",
    "We follow the same steps as we did for both those leagues."
   ]
  },
  {
   "cell_type": "code",
   "execution_count": 1,
   "metadata": {},
   "outputs": [],
   "source": [
    "# As usual, we begin by loading the packages we will need\n",
    "\n",
    "import pandas as pd\n",
    "import numpy as np\n",
    "import matplotlib.pyplot as plt\n",
    "import seaborn as sns\n",
    "import statsmodels.formula.api as smf"
   ]
  },
  {
   "cell_type": "code",
   "execution_count": 2,
   "metadata": {},
   "outputs": [],
   "source": [
    "# Now we load the data\n",
    "\n",
    "Hockey=pd.read_excel(\"../Data/NHL pay and performance.xlsx\")"
   ]
  },
  {
   "cell_type": "code",
   "execution_count": 3,
   "metadata": {},
   "outputs": [
    {
     "data": {
      "text/html": [
       "<div>\n",
       "<style scoped>\n",
       "    .dataframe tbody tr th:only-of-type {\n",
       "        vertical-align: middle;\n",
       "    }\n",
       "\n",
       "    .dataframe tbody tr th {\n",
       "        vertical-align: top;\n",
       "    }\n",
       "\n",
       "    .dataframe thead th {\n",
       "        text-align: right;\n",
       "    }\n",
       "</style>\n",
       "<table border=\"1\" class=\"dataframe\">\n",
       "  <thead>\n",
       "    <tr style=\"text-align: right;\">\n",
       "      <th></th>\n",
       "      <th>season</th>\n",
       "      <th>wpc</th>\n",
       "      <th>salaries</th>\n",
       "    </tr>\n",
       "  </thead>\n",
       "  <tbody>\n",
       "    <tr>\n",
       "      <th>count</th>\n",
       "      <td>301.000000</td>\n",
       "      <td>301.000000</td>\n",
       "      <td>3.010000e+02</td>\n",
       "    </tr>\n",
       "    <tr>\n",
       "      <th>mean</th>\n",
       "      <td>2013.514950</td>\n",
       "      <td>0.500000</td>\n",
       "      <td>6.210188e+07</td>\n",
       "    </tr>\n",
       "    <tr>\n",
       "      <th>std</th>\n",
       "      <td>2.883969</td>\n",
       "      <td>0.091339</td>\n",
       "      <td>9.645558e+06</td>\n",
       "    </tr>\n",
       "    <tr>\n",
       "      <th>min</th>\n",
       "      <td>2009.000000</td>\n",
       "      <td>0.256098</td>\n",
       "      <td>2.972750e+07</td>\n",
       "    </tr>\n",
       "    <tr>\n",
       "      <th>25%</th>\n",
       "      <td>2011.000000</td>\n",
       "      <td>0.426829</td>\n",
       "      <td>5.640000e+07</td>\n",
       "    </tr>\n",
       "    <tr>\n",
       "      <th>50%</th>\n",
       "      <td>2014.000000</td>\n",
       "      <td>0.500000</td>\n",
       "      <td>6.409363e+07</td>\n",
       "    </tr>\n",
       "    <tr>\n",
       "      <th>75%</th>\n",
       "      <td>2016.000000</td>\n",
       "      <td>0.560976</td>\n",
       "      <td>6.955369e+07</td>\n",
       "    </tr>\n",
       "    <tr>\n",
       "      <th>max</th>\n",
       "      <td>2018.000000</td>\n",
       "      <td>0.750000</td>\n",
       "      <td>7.820526e+07</td>\n",
       "    </tr>\n",
       "  </tbody>\n",
       "</table>\n",
       "</div>"
      ],
      "text/plain": [
       "            season         wpc      salaries\n",
       "count   301.000000  301.000000  3.010000e+02\n",
       "mean   2013.514950    0.500000  6.210188e+07\n",
       "std       2.883969    0.091339  9.645558e+06\n",
       "min    2009.000000    0.256098  2.972750e+07\n",
       "25%    2011.000000    0.426829  5.640000e+07\n",
       "50%    2014.000000    0.500000  6.409363e+07\n",
       "75%    2016.000000    0.560976  6.955369e+07\n",
       "max    2018.000000    0.750000  7.820526e+07"
      ]
     },
     "execution_count": 3,
     "metadata": {},
     "output_type": "execute_result"
    }
   ],
   "source": [
    "Hockey.describe()"
   ]
  },
  {
   "cell_type": "code",
   "execution_count": 4,
   "metadata": {},
   "outputs": [
    {
     "name": "stdout",
     "output_type": "stream",
     "text": [
      "<class 'pandas.core.frame.DataFrame'>\n",
      "RangeIndex: 301 entries, 0 to 300\n",
      "Data columns (total 4 columns):\n",
      " #   Column    Non-Null Count  Dtype  \n",
      "---  ------    --------------  -----  \n",
      " 0   Team      301 non-null    object \n",
      " 1   season    301 non-null    int64  \n",
      " 2   wpc       301 non-null    float64\n",
      " 3   salaries  301 non-null    int64  \n",
      "dtypes: float64(1), int64(2), object(1)\n",
      "memory usage: 9.5+ KB\n"
     ]
    }
   ],
   "source": [
    "Hockey.info()"
   ]
  },
  {
   "cell_type": "markdown",
   "metadata": {},
   "source": [
    "We can see that we have 301 observations in total covering the seasons 2009 to 2018. This is somewhat more than we has in the NBA case, but much less than the MLB case. We can now look at the changes in total salary spending across the seasons:"
   ]
  },
  {
   "cell_type": "code",
   "execution_count": 5,
   "metadata": {
    "scrolled": true
   },
   "outputs": [
    {
     "data": {
      "text/html": [
       "<div>\n",
       "<style scoped>\n",
       "    .dataframe tbody tr th:only-of-type {\n",
       "        vertical-align: middle;\n",
       "    }\n",
       "\n",
       "    .dataframe tbody tr th {\n",
       "        vertical-align: top;\n",
       "    }\n",
       "\n",
       "    .dataframe thead th {\n",
       "        text-align: right;\n",
       "    }\n",
       "</style>\n",
       "<table border=\"1\" class=\"dataframe\">\n",
       "  <thead>\n",
       "    <tr style=\"text-align: right;\">\n",
       "      <th></th>\n",
       "      <th>season</th>\n",
       "      <th>allsal</th>\n",
       "    </tr>\n",
       "  </thead>\n",
       "  <tbody>\n",
       "    <tr>\n",
       "      <th>0</th>\n",
       "      <td>2009</td>\n",
       "      <td>1541615281</td>\n",
       "    </tr>\n",
       "    <tr>\n",
       "      <th>1</th>\n",
       "      <td>2010</td>\n",
       "      <td>1552508107</td>\n",
       "    </tr>\n",
       "    <tr>\n",
       "      <th>2</th>\n",
       "      <td>2011</td>\n",
       "      <td>1625195685</td>\n",
       "    </tr>\n",
       "    <tr>\n",
       "      <th>3</th>\n",
       "      <td>2012</td>\n",
       "      <td>2083240145</td>\n",
       "    </tr>\n",
       "    <tr>\n",
       "      <th>4</th>\n",
       "      <td>2013</td>\n",
       "      <td>1875078749</td>\n",
       "    </tr>\n",
       "    <tr>\n",
       "      <th>5</th>\n",
       "      <td>2014</td>\n",
       "      <td>1870670657</td>\n",
       "    </tr>\n",
       "    <tr>\n",
       "      <th>6</th>\n",
       "      <td>2015</td>\n",
       "      <td>1936588513</td>\n",
       "    </tr>\n",
       "    <tr>\n",
       "      <th>7</th>\n",
       "      <td>2016</td>\n",
       "      <td>2010863335</td>\n",
       "    </tr>\n",
       "    <tr>\n",
       "      <th>8</th>\n",
       "      <td>2017</td>\n",
       "      <td>2044256803</td>\n",
       "    </tr>\n",
       "    <tr>\n",
       "      <th>9</th>\n",
       "      <td>2018</td>\n",
       "      <td>2152647770</td>\n",
       "    </tr>\n",
       "  </tbody>\n",
       "</table>\n",
       "</div>"
      ],
      "text/plain": [
       "   season      allsal\n",
       "0    2009  1541615281\n",
       "1    2010  1552508107\n",
       "2    2011  1625195685\n",
       "3    2012  2083240145\n",
       "4    2013  1875078749\n",
       "5    2014  1870670657\n",
       "6    2015  1936588513\n",
       "7    2016  2010863335\n",
       "8    2017  2044256803\n",
       "9    2018  2152647770"
      ]
     },
     "execution_count": 5,
     "metadata": {},
     "output_type": "execute_result"
    }
   ],
   "source": [
    "Sumsal = Hockey.groupby(['season'])['salaries'].sum().reset_index().rename(columns={'salaries':'allsal'})\n",
    "Sumsal"
   ]
  },
  {
   "cell_type": "markdown",
   "metadata": {},
   "source": [
    "Salary inflation has not been as dramatic in the NHL as in other leagues we have looked at, but they have still increased by more than one third in a decade, which is very unlikely to be caused by improving player quality on average. As with the other leagues, the main driver of increasing salaries has been increasing team revenues and the capacity of the players to bargain for higher wages.\n",
    "\n",
    "As before, we use pd.merge() to add the aggregate salaries for each season to our original dataframe:"
   ]
  },
  {
   "cell_type": "code",
   "execution_count": 6,
   "metadata": {
    "scrolled": true
   },
   "outputs": [
    {
     "data": {
      "text/html": [
       "<div>\n",
       "<style scoped>\n",
       "    .dataframe tbody tr th:only-of-type {\n",
       "        vertical-align: middle;\n",
       "    }\n",
       "\n",
       "    .dataframe tbody tr th {\n",
       "        vertical-align: top;\n",
       "    }\n",
       "\n",
       "    .dataframe thead th {\n",
       "        text-align: right;\n",
       "    }\n",
       "</style>\n",
       "<table border=\"1\" class=\"dataframe\">\n",
       "  <thead>\n",
       "    <tr style=\"text-align: right;\">\n",
       "      <th></th>\n",
       "      <th>Team</th>\n",
       "      <th>season</th>\n",
       "      <th>wpc</th>\n",
       "      <th>salaries</th>\n",
       "      <th>allsal</th>\n",
       "    </tr>\n",
       "  </thead>\n",
       "  <tbody>\n",
       "    <tr>\n",
       "      <th>0</th>\n",
       "      <td>Anaheim Mighty Ducks</td>\n",
       "      <td>2009</td>\n",
       "      <td>0.512195</td>\n",
       "      <td>49838000</td>\n",
       "      <td>1541615281</td>\n",
       "    </tr>\n",
       "    <tr>\n",
       "      <th>1</th>\n",
       "      <td>Atlanta Flames/Thrashers</td>\n",
       "      <td>2009</td>\n",
       "      <td>0.426829</td>\n",
       "      <td>34262500</td>\n",
       "      <td>1541615281</td>\n",
       "    </tr>\n",
       "    <tr>\n",
       "      <th>2</th>\n",
       "      <td>Boston Bruins</td>\n",
       "      <td>2009</td>\n",
       "      <td>0.646341</td>\n",
       "      <td>51535000</td>\n",
       "      <td>1541615281</td>\n",
       "    </tr>\n",
       "    <tr>\n",
       "      <th>3</th>\n",
       "      <td>Buffalo Sabres</td>\n",
       "      <td>2009</td>\n",
       "      <td>0.500000</td>\n",
       "      <td>52225700</td>\n",
       "      <td>1541615281</td>\n",
       "    </tr>\n",
       "    <tr>\n",
       "      <th>4</th>\n",
       "      <td>Calgary Flames</td>\n",
       "      <td>2009</td>\n",
       "      <td>0.560976</td>\n",
       "      <td>63100000</td>\n",
       "      <td>1541615281</td>\n",
       "    </tr>\n",
       "    <tr>\n",
       "      <th>...</th>\n",
       "      <td>...</td>\n",
       "      <td>...</td>\n",
       "      <td>...</td>\n",
       "      <td>...</td>\n",
       "      <td>...</td>\n",
       "    </tr>\n",
       "    <tr>\n",
       "      <th>296</th>\n",
       "      <td>Tampa Bay Lightning</td>\n",
       "      <td>2018</td>\n",
       "      <td>0.658537</td>\n",
       "      <td>73324166</td>\n",
       "      <td>2152647770</td>\n",
       "    </tr>\n",
       "    <tr>\n",
       "      <th>297</th>\n",
       "      <td>Toronto Arenas/St. Patricks/Maple Leafs</td>\n",
       "      <td>2018</td>\n",
       "      <td>0.597561</td>\n",
       "      <td>63934167</td>\n",
       "      <td>2152647770</td>\n",
       "    </tr>\n",
       "    <tr>\n",
       "      <th>298</th>\n",
       "      <td>Vancouver Canucks</td>\n",
       "      <td>2018</td>\n",
       "      <td>0.378049</td>\n",
       "      <td>72819166</td>\n",
       "      <td>2152647770</td>\n",
       "    </tr>\n",
       "    <tr>\n",
       "      <th>299</th>\n",
       "      <td>Washington Capitals</td>\n",
       "      <td>2018</td>\n",
       "      <td>0.597561</td>\n",
       "      <td>74965962</td>\n",
       "      <td>2152647770</td>\n",
       "    </tr>\n",
       "    <tr>\n",
       "      <th>300</th>\n",
       "      <td>Winnipeg Jets</td>\n",
       "      <td>2018</td>\n",
       "      <td>0.634146</td>\n",
       "      <td>68507499</td>\n",
       "      <td>2152647770</td>\n",
       "    </tr>\n",
       "  </tbody>\n",
       "</table>\n",
       "<p>301 rows × 5 columns</p>\n",
       "</div>"
      ],
      "text/plain": [
       "                                        Team  season       wpc  salaries  \\\n",
       "0                       Anaheim Mighty Ducks    2009  0.512195  49838000   \n",
       "1                   Atlanta Flames/Thrashers    2009  0.426829  34262500   \n",
       "2                              Boston Bruins    2009  0.646341  51535000   \n",
       "3                             Buffalo Sabres    2009  0.500000  52225700   \n",
       "4                             Calgary Flames    2009  0.560976  63100000   \n",
       "..                                       ...     ...       ...       ...   \n",
       "296                      Tampa Bay Lightning    2018  0.658537  73324166   \n",
       "297  Toronto Arenas/St. Patricks/Maple Leafs    2018  0.597561  63934167   \n",
       "298                        Vancouver Canucks    2018  0.378049  72819166   \n",
       "299                      Washington Capitals    2018  0.597561  74965962   \n",
       "300                            Winnipeg Jets    2018  0.634146  68507499   \n",
       "\n",
       "         allsal  \n",
       "0    1541615281  \n",
       "1    1541615281  \n",
       "2    1541615281  \n",
       "3    1541615281  \n",
       "4    1541615281  \n",
       "..          ...  \n",
       "296  2152647770  \n",
       "297  2152647770  \n",
       "298  2152647770  \n",
       "299  2152647770  \n",
       "300  2152647770  \n",
       "\n",
       "[301 rows x 5 columns]"
      ]
     },
     "metadata": {},
     "output_type": "display_data"
    }
   ],
   "source": [
    "Hockey = pd.merge(Hockey, Sumsal, on=['season'], how='left')\n",
    "display(Hockey)"
   ]
  },
  {
   "cell_type": "markdown",
   "metadata": {},
   "source": [
    "We can now create a variable which we call 'relsal', which measures the share of a team's salary spend in the total spending of all teams in that season:"
   ]
  },
  {
   "cell_type": "code",
   "execution_count": 7,
   "metadata": {},
   "outputs": [],
   "source": [
    "Hockey['relsal']= Hockey['salaries']/Hockey['allsal']"
   ]
  },
  {
   "cell_type": "markdown",
   "metadata": {},
   "source": [
    "Before running a regression, it makes sense to look at the relationship between salaries and win percentage on a chart. To do this we use sns.reglot(). Since our argument is that higher relative salaries mean better players which in turns leads to more wins, we put relsal on the x axis and wpc on the y axis."
   ]
  },
  {
   "cell_type": "code",
   "execution_count": 8,
   "metadata": {},
   "outputs": [
    {
     "data": {
      "text/plain": [
       "<AxesSubplot:xlabel='relsal', ylabel='wpc'>"
      ]
     },
     "execution_count": 8,
     "metadata": {},
     "output_type": "execute_result"
    },
    {
     "data": {
      "image/png": "[encoded data removed]",
      "text/plain": [
       "<Figure size 432x288 with 1 Axes>"
      ]
     },
     "metadata": {
      "needs_background": "light"
     },
     "output_type": "display_data"
    }
   ],
   "source": [
    "sns.regplot(x=\"relsal\", y=\"wpc\", data = Hockey, ci=False)"
   ]
  },
  {
   "cell_type": "markdown",
   "metadata": {},
   "source": [
    "## Self Test\n",
    "\n",
    "Re-run the regplot with smaller dots so that there is no overlap."
   ]
  },
  {
   "cell_type": "markdown",
   "metadata": {},
   "source": [
    "Note that the values of relsal on the x axis tend to vary between around 0.02 and 0.045, while wpc on the y axis tends to vary between around .3 and .7. The variation in relsal is much more like the NBA, while the variation in wpc is more like MLB.\n",
    "\n",
    "As with all the other leagues it is clear from the data that there is a positive correlation between relsal and wpc, as shown by the regression line which regplot adds to the scatter diagram. We now run a regression using smf.ols() in order to derive the coefficients of the regression and other diagnostic statistics."
   ]
  },
  {
   "cell_type": "code",
   "execution_count": 9,
   "metadata": {},
   "outputs": [
    {
     "name": "stdout",
     "output_type": "stream",
     "text": [
      "                            OLS Regression Results                            \n",
      "==============================================================================\n",
      "Dep. Variable:                    wpc   R-squared:                       0.220\n",
      "Model:                            OLS   Adj. R-squared:                  0.217\n",
      "Method:                 Least Squares   F-statistic:                     84.33\n",
      "Date:                Wed, 01 Dec 2021   Prob (F-statistic):           7.17e-18\n",
      "Time:                        12:55:51   Log-Likelihood:                 331.14\n",
      "No. Observations:                 301   AIC:                            -658.3\n",
      "Df Residuals:                     299   BIC:                            -650.9\n",
      "Df Model:                           1                                         \n",
      "Covariance Type:            nonrobust                                         \n",
      "==============================================================================\n",
      "                 coef    std err          t      P>|t|      [0.025      0.975]\n",
      "------------------------------------------------------------------------------\n",
      "Intercept      0.1404      0.039      3.560      0.000       0.063       0.218\n",
      "relsal        10.8243      1.179      9.183      0.000       8.505      13.144\n",
      "==============================================================================\n",
      "Omnibus:                        4.060   Durbin-Watson:                   2.072\n",
      "Prob(Omnibus):                  0.131   Jarque-Bera (JB):                4.055\n",
      "Skew:                          -0.251   Prob(JB):                        0.132\n",
      "Kurtosis:                       2.732   Cond. No.                         253.\n",
      "==============================================================================\n",
      "\n",
      "Notes:\n",
      "[1] Standard Errors assume that the covariance matrix of the errors is correctly specified.\n"
     ]
    }
   ],
   "source": [
    "wpcsal1_lm = smf.ols(formula = 'wpc ~ relsal', data=Hockey).fit()\n",
    "print(wpcsal1_lm.summary())"
   ]
  },
  {
   "cell_type": "markdown",
   "metadata": {},
   "source": [
    "For the NHL we find that the coefficient of relsal is quite similar to that of the NBA. In fact, the regression looks quite similar in terms of the intercept (this is the value of win percentage if relsal were zero) and the R-squared. "
   ]
  },
  {
   "cell_type": "markdown",
   "metadata": {},
   "source": [
    "## Self Test\n",
    "\n",
    "Create a subset of the data which includes only the 2018 season and run the regression of wpc on relsal. How do the results compare to the results above? "
   ]
  },
  {
   "cell_type": "markdown",
   "metadata": {},
   "source": [
    "Let's see how the addition of the lagged dependent variable changes our relsal estimate."
   ]
  },
  {
   "cell_type": "code",
   "execution_count": 10,
   "metadata": {
    "scrolled": true
   },
   "outputs": [
    {
     "data": {
      "text/html": [
       "<div>\n",
       "<style scoped>\n",
       "    .dataframe tbody tr th:only-of-type {\n",
       "        vertical-align: middle;\n",
       "    }\n",
       "\n",
       "    .dataframe tbody tr th {\n",
       "        vertical-align: top;\n",
       "    }\n",
       "\n",
       "    .dataframe thead th {\n",
       "        text-align: right;\n",
       "    }\n",
       "</style>\n",
       "<table border=\"1\" class=\"dataframe\">\n",
       "  <thead>\n",
       "    <tr style=\"text-align: right;\">\n",
       "      <th></th>\n",
       "      <th>Team</th>\n",
       "      <th>season</th>\n",
       "      <th>wpc</th>\n",
       "      <th>salaries</th>\n",
       "      <th>allsal</th>\n",
       "      <th>relsal</th>\n",
       "    </tr>\n",
       "  </thead>\n",
       "  <tbody>\n",
       "    <tr>\n",
       "      <th>0</th>\n",
       "      <td>Anaheim Mighty Ducks</td>\n",
       "      <td>2009</td>\n",
       "      <td>0.512195</td>\n",
       "      <td>49838000</td>\n",
       "      <td>1541615281</td>\n",
       "      <td>0.032328</td>\n",
       "    </tr>\n",
       "    <tr>\n",
       "      <th>30</th>\n",
       "      <td>Anaheim Mighty Ducks</td>\n",
       "      <td>2010</td>\n",
       "      <td>0.475610</td>\n",
       "      <td>55207500</td>\n",
       "      <td>1552508107</td>\n",
       "      <td>0.035560</td>\n",
       "    </tr>\n",
       "    <tr>\n",
       "      <th>60</th>\n",
       "      <td>Anaheim Mighty Ducks</td>\n",
       "      <td>2011</td>\n",
       "      <td>0.573171</td>\n",
       "      <td>53977500</td>\n",
       "      <td>1625195685</td>\n",
       "      <td>0.033213</td>\n",
       "    </tr>\n",
       "    <tr>\n",
       "      <th>90</th>\n",
       "      <td>Anaheim Mighty Ducks</td>\n",
       "      <td>2012</td>\n",
       "      <td>0.414634</td>\n",
       "      <td>74655277</td>\n",
       "      <td>2083240145</td>\n",
       "      <td>0.035836</td>\n",
       "    </tr>\n",
       "    <tr>\n",
       "      <th>120</th>\n",
       "      <td>Anaheim Mighty Ducks</td>\n",
       "      <td>2013</td>\n",
       "      <td>0.625000</td>\n",
       "      <td>67064166</td>\n",
       "      <td>1875078749</td>\n",
       "      <td>0.035766</td>\n",
       "    </tr>\n",
       "    <tr>\n",
       "      <th>...</th>\n",
       "      <td>...</td>\n",
       "      <td>...</td>\n",
       "      <td>...</td>\n",
       "      <td>...</td>\n",
       "      <td>...</td>\n",
       "      <td>...</td>\n",
       "    </tr>\n",
       "    <tr>\n",
       "      <th>179</th>\n",
       "      <td>Winnipeg Jets</td>\n",
       "      <td>2014</td>\n",
       "      <td>0.451220</td>\n",
       "      <td>63682588</td>\n",
       "      <td>1870670657</td>\n",
       "      <td>0.034043</td>\n",
       "    </tr>\n",
       "    <tr>\n",
       "      <th>209</th>\n",
       "      <td>Winnipeg Jets</td>\n",
       "      <td>2015</td>\n",
       "      <td>0.524390</td>\n",
       "      <td>63322574</td>\n",
       "      <td>1936588513</td>\n",
       "      <td>0.032698</td>\n",
       "    </tr>\n",
       "    <tr>\n",
       "      <th>239</th>\n",
       "      <td>Winnipeg Jets</td>\n",
       "      <td>2016</td>\n",
       "      <td>0.426829</td>\n",
       "      <td>52338400</td>\n",
       "      <td>2010863335</td>\n",
       "      <td>0.026028</td>\n",
       "    </tr>\n",
       "    <tr>\n",
       "      <th>269</th>\n",
       "      <td>Winnipeg Jets</td>\n",
       "      <td>2017</td>\n",
       "      <td>0.487805</td>\n",
       "      <td>64113622</td>\n",
       "      <td>2044256803</td>\n",
       "      <td>0.031363</td>\n",
       "    </tr>\n",
       "    <tr>\n",
       "      <th>300</th>\n",
       "      <td>Winnipeg Jets</td>\n",
       "      <td>2018</td>\n",
       "      <td>0.634146</td>\n",
       "      <td>68507499</td>\n",
       "      <td>2152647770</td>\n",
       "      <td>0.031825</td>\n",
       "    </tr>\n",
       "  </tbody>\n",
       "</table>\n",
       "<p>301 rows × 6 columns</p>\n",
       "</div>"
      ],
      "text/plain": [
       "                     Team  season       wpc  salaries      allsal    relsal\n",
       "0    Anaheim Mighty Ducks    2009  0.512195  49838000  1541615281  0.032328\n",
       "30   Anaheim Mighty Ducks    2010  0.475610  55207500  1552508107  0.035560\n",
       "60   Anaheim Mighty Ducks    2011  0.573171  53977500  1625195685  0.033213\n",
       "90   Anaheim Mighty Ducks    2012  0.414634  74655277  2083240145  0.035836\n",
       "120  Anaheim Mighty Ducks    2013  0.625000  67064166  1875078749  0.035766\n",
       "..                    ...     ...       ...       ...         ...       ...\n",
       "179         Winnipeg Jets    2014  0.451220  63682588  1870670657  0.034043\n",
       "209         Winnipeg Jets    2015  0.524390  63322574  1936588513  0.032698\n",
       "239         Winnipeg Jets    2016  0.426829  52338400  2010863335  0.026028\n",
       "269         Winnipeg Jets    2017  0.487805  64113622  2044256803  0.031363\n",
       "300         Winnipeg Jets    2018  0.634146  68507499  2152647770  0.031825\n",
       "\n",
       "[301 rows x 6 columns]"
      ]
     },
     "execution_count": 10,
     "metadata": {},
     "output_type": "execute_result"
    }
   ],
   "source": [
    "# first we sort the values\n",
    "\n",
    "Hockey.sort_values(by=['Team','season'], ascending=True)"
   ]
  },
  {
   "cell_type": "code",
   "execution_count": null,
   "metadata": {
    "scrolled": true
   },
   "outputs": [],
   "source": [
    "# this will allow us to inspect all rows in the data\n",
    "\n",
    "pd.set_option('display.max_rows', 400)\n",
    "Hockey"
   ]
  },
  {
   "cell_type": "code",
   "execution_count": 11,
   "metadata": {
    "scrolled": true
   },
   "outputs": [
    {
     "data": {
      "text/html": [
       "<div>\n",
       "<style scoped>\n",
       "    .dataframe tbody tr th:only-of-type {\n",
       "        vertical-align: middle;\n",
       "    }\n",
       "\n",
       "    .dataframe tbody tr th {\n",
       "        vertical-align: top;\n",
       "    }\n",
       "\n",
       "    .dataframe thead th {\n",
       "        text-align: right;\n",
       "    }\n",
       "</style>\n",
       "<table border=\"1\" class=\"dataframe\">\n",
       "  <thead>\n",
       "    <tr style=\"text-align: right;\">\n",
       "      <th></th>\n",
       "      <th>Team</th>\n",
       "      <th>season</th>\n",
       "      <th>wpc</th>\n",
       "      <th>salaries</th>\n",
       "      <th>allsal</th>\n",
       "      <th>relsal</th>\n",
       "      <th>wpc_lag</th>\n",
       "    </tr>\n",
       "  </thead>\n",
       "  <tbody>\n",
       "    <tr>\n",
       "      <th>0</th>\n",
       "      <td>Anaheim Mighty Ducks</td>\n",
       "      <td>2009</td>\n",
       "      <td>0.512195</td>\n",
       "      <td>49838000</td>\n",
       "      <td>1541615281</td>\n",
       "      <td>0.032328</td>\n",
       "      <td>NaN</td>\n",
       "    </tr>\n",
       "    <tr>\n",
       "      <th>1</th>\n",
       "      <td>Atlanta Flames/Thrashers</td>\n",
       "      <td>2009</td>\n",
       "      <td>0.426829</td>\n",
       "      <td>34262500</td>\n",
       "      <td>1541615281</td>\n",
       "      <td>0.022225</td>\n",
       "      <td>NaN</td>\n",
       "    </tr>\n",
       "    <tr>\n",
       "      <th>2</th>\n",
       "      <td>Boston Bruins</td>\n",
       "      <td>2009</td>\n",
       "      <td>0.646341</td>\n",
       "      <td>51535000</td>\n",
       "      <td>1541615281</td>\n",
       "      <td>0.033429</td>\n",
       "      <td>NaN</td>\n",
       "    </tr>\n",
       "    <tr>\n",
       "      <th>3</th>\n",
       "      <td>Buffalo Sabres</td>\n",
       "      <td>2009</td>\n",
       "      <td>0.500000</td>\n",
       "      <td>52225700</td>\n",
       "      <td>1541615281</td>\n",
       "      <td>0.033877</td>\n",
       "      <td>NaN</td>\n",
       "    </tr>\n",
       "    <tr>\n",
       "      <th>4</th>\n",
       "      <td>Calgary Flames</td>\n",
       "      <td>2009</td>\n",
       "      <td>0.560976</td>\n",
       "      <td>63100000</td>\n",
       "      <td>1541615281</td>\n",
       "      <td>0.040931</td>\n",
       "      <td>NaN</td>\n",
       "    </tr>\n",
       "    <tr>\n",
       "      <th>...</th>\n",
       "      <td>...</td>\n",
       "      <td>...</td>\n",
       "      <td>...</td>\n",
       "      <td>...</td>\n",
       "      <td>...</td>\n",
       "      <td>...</td>\n",
       "      <td>...</td>\n",
       "    </tr>\n",
       "    <tr>\n",
       "      <th>296</th>\n",
       "      <td>Tampa Bay Lightning</td>\n",
       "      <td>2018</td>\n",
       "      <td>0.658537</td>\n",
       "      <td>73324166</td>\n",
       "      <td>2152647770</td>\n",
       "      <td>0.034062</td>\n",
       "      <td>0.512195</td>\n",
       "    </tr>\n",
       "    <tr>\n",
       "      <th>297</th>\n",
       "      <td>Toronto Arenas/St. Patricks/Maple Leafs</td>\n",
       "      <td>2018</td>\n",
       "      <td>0.597561</td>\n",
       "      <td>63934167</td>\n",
       "      <td>2152647770</td>\n",
       "      <td>0.029700</td>\n",
       "      <td>0.487805</td>\n",
       "    </tr>\n",
       "    <tr>\n",
       "      <th>298</th>\n",
       "      <td>Vancouver Canucks</td>\n",
       "      <td>2018</td>\n",
       "      <td>0.378049</td>\n",
       "      <td>72819166</td>\n",
       "      <td>2152647770</td>\n",
       "      <td>0.033828</td>\n",
       "      <td>0.365854</td>\n",
       "    </tr>\n",
       "    <tr>\n",
       "      <th>299</th>\n",
       "      <td>Washington Capitals</td>\n",
       "      <td>2018</td>\n",
       "      <td>0.597561</td>\n",
       "      <td>74965962</td>\n",
       "      <td>2152647770</td>\n",
       "      <td>0.034825</td>\n",
       "      <td>0.670732</td>\n",
       "    </tr>\n",
       "    <tr>\n",
       "      <th>300</th>\n",
       "      <td>Winnipeg Jets</td>\n",
       "      <td>2018</td>\n",
       "      <td>0.634146</td>\n",
       "      <td>68507499</td>\n",
       "      <td>2152647770</td>\n",
       "      <td>0.031825</td>\n",
       "      <td>0.487805</td>\n",
       "    </tr>\n",
       "  </tbody>\n",
       "</table>\n",
       "<p>301 rows × 7 columns</p>\n",
       "</div>"
      ],
      "text/plain": [
       "                                        Team  season       wpc  salaries  \\\n",
       "0                       Anaheim Mighty Ducks    2009  0.512195  49838000   \n",
       "1                   Atlanta Flames/Thrashers    2009  0.426829  34262500   \n",
       "2                              Boston Bruins    2009  0.646341  51535000   \n",
       "3                             Buffalo Sabres    2009  0.500000  52225700   \n",
       "4                             Calgary Flames    2009  0.560976  63100000   \n",
       "..                                       ...     ...       ...       ...   \n",
       "296                      Tampa Bay Lightning    2018  0.658537  73324166   \n",
       "297  Toronto Arenas/St. Patricks/Maple Leafs    2018  0.597561  63934167   \n",
       "298                        Vancouver Canucks    2018  0.378049  72819166   \n",
       "299                      Washington Capitals    2018  0.597561  74965962   \n",
       "300                            Winnipeg Jets    2018  0.634146  68507499   \n",
       "\n",
       "         allsal    relsal   wpc_lag  \n",
       "0    1541615281  0.032328       NaN  \n",
       "1    1541615281  0.022225       NaN  \n",
       "2    1541615281  0.033429       NaN  \n",
       "3    1541615281  0.033877       NaN  \n",
       "4    1541615281  0.040931       NaN  \n",
       "..          ...       ...       ...  \n",
       "296  2152647770  0.034062  0.512195  \n",
       "297  2152647770  0.029700  0.487805  \n",
       "298  2152647770  0.033828  0.365854  \n",
       "299  2152647770  0.034825  0.670732  \n",
       "300  2152647770  0.031825  0.487805  \n",
       "\n",
       "[301 rows x 7 columns]"
      ]
     },
     "execution_count": 11,
     "metadata": {},
     "output_type": "execute_result"
    }
   ],
   "source": [
    "# now we create the lagged dependend variable\n",
    "\n",
    "Hockey['wpc_lag'] = Hockey.groupby('Team')['wpc'].shift(1)\n",
    "Hockey"
   ]
  },
  {
   "cell_type": "markdown",
   "metadata": {},
   "source": [
    "We now run our regression again, but adding wpc_lag into the regression equation:"
   ]
  },
  {
   "cell_type": "code",
   "execution_count": 12,
   "metadata": {},
   "outputs": [
    {
     "name": "stdout",
     "output_type": "stream",
     "text": [
      "                            OLS Regression Results                            \n",
      "==============================================================================\n",
      "Dep. Variable:                    wpc   R-squared:                       0.285\n",
      "Model:                            OLS   Adj. R-squared:                  0.280\n",
      "Method:                 Least Squares   F-statistic:                     53.13\n",
      "Date:                Wed, 01 Dec 2021   Prob (F-statistic):           3.87e-20\n",
      "Time:                        12:56:25   Log-Likelihood:                 306.15\n",
      "No. Observations:                 269   AIC:                            -606.3\n",
      "Df Residuals:                     266   BIC:                            -595.5\n",
      "Df Model:                           2                                         \n",
      "Covariance Type:            nonrobust                                         \n",
      "==============================================================================\n",
      "                 coef    std err          t      P>|t|      [0.025      0.975]\n",
      "------------------------------------------------------------------------------\n",
      "Intercept      0.0716      0.043      1.656      0.099      -0.014       0.157\n",
      "wpc_lag        0.2966      0.057      5.205      0.000       0.184       0.409\n",
      "relsal         8.4201      1.352      6.228      0.000       5.758      11.082\n",
      "==============================================================================\n",
      "Omnibus:                        1.603   Durbin-Watson:                   2.188\n",
      "Prob(Omnibus):                  0.449   Jarque-Bera (JB):                1.696\n",
      "Skew:                          -0.168   Prob(JB):                        0.428\n",
      "Kurtosis:                       2.805   Cond. No.                         318.\n",
      "==============================================================================\n",
      "\n",
      "Notes:\n",
      "[1] Standard Errors assume that the covariance matrix of the errors is correctly specified.\n"
     ]
    }
   ],
   "source": [
    "wpcsal2_lm = smf.ols(formula = 'wpc ~wpc_lag + relsal', data=Hockey).fit()\n",
    "print(wpcsal2_lm.summary())"
   ]
  },
  {
   "cell_type": "markdown",
   "metadata": {},
   "source": [
    "Once again adding the lagged dependent variable is justified both in terms of the statistical significance of the variable and the addition to R-squared (whether adjusted or not). However, the impact on our main variable of interest, relsal, is relatively small. Its value has fallen from 10.8 to 8.4, which while it does suggest that there was some omitted variable bias, it is not as great as in the NBA case, while in the MLB case the coefficient of relsal was much smaller to begin with.\n",
    "\n",
    "Let's now see what changes if we include fixed effects:"
   ]
  },
  {
   "cell_type": "code",
   "execution_count": 13,
   "metadata": {},
   "outputs": [
    {
     "name": "stdout",
     "output_type": "stream",
     "text": [
      "                            OLS Regression Results                            \n",
      "==============================================================================\n",
      "Dep. Variable:                    wpc   R-squared:                       0.437\n",
      "Model:                            OLS   Adj. R-squared:                  0.360\n",
      "Method:                 Least Squares   F-statistic:                     5.715\n",
      "Date:                Wed, 01 Dec 2021   Prob (F-statistic):           4.55e-16\n",
      "Time:                        12:56:57   Log-Likelihood:                 338.12\n",
      "No. Observations:                 269   AIC:                            -610.2\n",
      "Df Residuals:                     236   BIC:                            -491.6\n",
      "Df Model:                          32                                         \n",
      "Covariance Type:            nonrobust                                         \n",
      "======================================================================================================================\n",
      "                                                         coef    std err          t      P>|t|      [0.025      0.975]\n",
      "----------------------------------------------------------------------------------------------------------------------\n",
      "Intercept                                              0.2527      0.064      3.980      0.000       0.128       0.378\n",
      "C(Team)[T.Atlanta Flames/Thrashers]                   -0.0608      0.059     -1.026      0.306      -0.178       0.056\n",
      "C(Team)[T.Boston Bruins]                              -0.0137      0.035     -0.394      0.694      -0.082       0.055\n",
      "C(Team)[T.Buffalo Sabres]                             -0.1332      0.036     -3.742      0.000      -0.203      -0.063\n",
      "C(Team)[T.Calgary Flames]                             -0.0823      0.035     -2.354      0.019      -0.151      -0.013\n",
      "C(Team)[T.Carolina Hurricanes]                        -0.0885      0.036     -2.458      0.015      -0.159      -0.018\n",
      "C(Team)[T.Chicago Blackhawks]                          0.0094      0.035      0.271      0.787      -0.059       0.078\n",
      "C(Team)[T.Colorado Rockies/Avalanche]                 -0.0707      0.036     -1.985      0.048      -0.141      -0.001\n",
      "C(Team)[T.Columbus Blue Jackets]                      -0.0608      0.035     -1.727      0.086      -0.130       0.009\n",
      "C(Team)[T.Dallas Stars]                               -0.0397      0.035     -1.134      0.258      -0.109       0.029\n",
      "C(Team)[T.Detroit Cougars/Red Wings]                  -0.0637      0.035     -1.834      0.068      -0.132       0.005\n",
      "C(Team)[T.Edmonton Oilers]                            -0.1441      0.036     -3.966      0.000      -0.216      -0.073\n",
      "C(Team)[T.Florida Panthers]                           -0.0854      0.036     -2.375      0.018      -0.156      -0.015\n",
      "C(Team)[T.Las Vegas Golden Knights]                -9.476e-18    1.5e-17     -0.634      0.527   -3.89e-17       2e-17\n",
      "C(Team)[T.Los Angeles Kings]                          -0.0217      0.035     -0.625      0.532      -0.090       0.047\n",
      "C(Team)[T.Minnesota North Stars/Wild]                 -0.0507      0.035     -1.454      0.147      -0.119       0.018\n",
      "C(Team)[T.Montreal Canadiens]                         -0.0580      0.035     -1.667      0.097      -0.126       0.011\n",
      "C(Team)[T.Nashville Predators]                        -0.0107      0.035     -0.306      0.760      -0.080       0.058\n",
      "C(Team)[T.New Jersey Devils ]                         -0.0804      0.035     -2.296      0.023      -0.149      -0.011\n",
      "C(Team)[T.New York Islanders]                         -0.0554      0.036     -1.550      0.122      -0.126       0.015\n",
      "C(Team)[T.New York Rangers]                           -0.0347      0.035     -0.993      0.322      -0.103       0.034\n",
      "C(Team)[T.Ottawa Eagles/Senators]                     -0.0705      0.035     -2.016      0.045      -0.139      -0.002\n",
      "C(Team)[T.Philadelphia Flyers]                        -0.0725      0.035     -2.069      0.040      -0.142      -0.003\n",
      "C(Team)[T.Phoenix Coyotes]                            -0.0685      0.036     -1.903      0.058      -0.139       0.002\n",
      "C(Team)[T.Pittsburgh Pirates/Penguins]                 0.0262      0.035      0.750      0.454      -0.043       0.095\n",
      "C(Team)[T.San Jose Sharks]                            -0.0038      0.035     -0.109      0.914      -0.072       0.065\n",
      "C(Team)[T.St. Louis Eagles/Blues]                      0.0286      0.035      0.821      0.413      -0.040       0.097\n",
      "C(Team)[T.Tampa Bay Lightning]                        -0.0217      0.035     -0.621      0.535      -0.091       0.047\n",
      "C(Team)[T.Toronto Arenas/St. Patricks/Maple Leafs]    -0.0858      0.036     -2.411      0.017      -0.156      -0.016\n",
      "C(Team)[T.Vancouver Canucks]                          -0.0673      0.035     -1.929      0.055      -0.136       0.001\n",
      "C(Team)[T.Washington Capitals]                         0.0100      0.035      0.286      0.775      -0.059       0.079\n",
      "C(Team)[T.Winnipeg Jets]                              -0.0255      0.039     -0.649      0.517      -0.103       0.052\n",
      "wpc_lag                                                0.0542      0.064      0.845      0.399      -0.072       0.181\n",
      "relsal                                                 8.0709      1.533      5.265      0.000       5.051      11.091\n",
      "==============================================================================\n",
      "Omnibus:                        0.072   Durbin-Watson:                   2.291\n",
      "Prob(Omnibus):                  0.965   Jarque-Bera (JB):                0.089\n",
      "Skew:                          -0.038   Prob(JB):                        0.956\n",
      "Kurtosis:                       2.954   Cond. No.                     4.24e+16\n",
      "==============================================================================\n",
      "\n",
      "Notes:\n",
      "[1] Standard Errors assume that the covariance matrix of the errors is correctly specified.\n",
      "[2] The smallest eigenvalue is 1.93e-31. This might indicate that there are\n",
      "strong multicollinearity problems or that the design matrix is singular.\n"
     ]
    }
   ],
   "source": [
    "wpcsal3_lm = smf.ols(formula = 'wpc ~wpc_lag + relsal +C(Team)', data=Hockey).fit()\n",
    "print(wpcsal3_lm.summary())"
   ]
  },
  {
   "cell_type": "markdown",
   "metadata": {},
   "source": [
    "Here we find ten fixed effects that are statistically significant. The fixed effects add considerably to the R-squared of the regression, and only marginally reduce the value of relsal. However, the most striking impact of the fixed effects is to reduce the value of of the lagged dependent variable to the point where it is statistically insignificant. This is in contrast to what we found in all three of the other other leagues. Because it is statistically insignificant in this version, and since we want to keep the fixed effects, we can drop the lagged dependent variable, which we do in this regression:  "
   ]
  },
  {
   "cell_type": "code",
   "execution_count": 14,
   "metadata": {
    "scrolled": true
   },
   "outputs": [
    {
     "name": "stdout",
     "output_type": "stream",
     "text": [
      "                            OLS Regression Results                            \n",
      "==============================================================================\n",
      "Dep. Variable:                    wpc   R-squared:                       0.432\n",
      "Model:                            OLS   Adj. R-squared:                  0.364\n",
      "Method:                 Least Squares   F-statistic:                     6.366\n",
      "Date:                Wed, 01 Dec 2021   Prob (F-statistic):           7.26e-19\n",
      "Time:                        13:00:40   Log-Likelihood:                 378.83\n",
      "No. Observations:                 301   AIC:                            -691.7\n",
      "Df Residuals:                     268   BIC:                            -569.3\n",
      "Df Model:                          32                                         \n",
      "Covariance Type:            nonrobust                                         \n",
      "======================================================================================================================\n",
      "                                                         coef    std err          t      P>|t|      [0.025      0.975]\n",
      "----------------------------------------------------------------------------------------------------------------------\n",
      "Intercept                                              0.2563      0.052      4.906      0.000       0.153       0.359\n",
      "C(Team)[T.Atlanta Flames/Thrashers]                   -0.0472      0.050     -0.950      0.343      -0.145       0.051\n",
      "C(Team)[T.Boston Bruins]                              -0.0006      0.033     -0.018      0.986      -0.065       0.064\n",
      "C(Team)[T.Buffalo Sabres]                             -0.1278      0.033     -3.917      0.000      -0.192      -0.064\n",
      "C(Team)[T.Calgary Flames]                             -0.0802      0.033     -2.460      0.015      -0.144      -0.016\n",
      "C(Team)[T.Carolina Hurricanes]                        -0.0784      0.033     -2.365      0.019      -0.144      -0.013\n",
      "C(Team)[T.Chicago Blackhawks]                          0.0137      0.033      0.421      0.674      -0.050       0.078\n",
      "C(Team)[T.Colorado Rockies/Avalanche]                 -0.0806      0.033     -2.459      0.015      -0.145      -0.016\n",
      "C(Team)[T.Columbus Blue Jackets]                      -0.0601      0.033     -1.840      0.067      -0.124       0.004\n",
      "C(Team)[T.Dallas Stars]                               -0.0482      0.033     -1.476      0.141      -0.113       0.016\n",
      "C(Team)[T.Detroit Cougars/Red Wings]                  -0.0518      0.033     -1.589      0.113      -0.116       0.012\n",
      "C(Team)[T.Edmonton Oilers]                            -0.1436      0.033     -4.392      0.000      -0.208      -0.079\n",
      "C(Team)[T.Florida Panthers]                           -0.0826      0.033     -2.505      0.013      -0.148      -0.018\n",
      "C(Team)[T.Las Vegas Golden Knights]                    0.0832      0.076      1.089      0.277      -0.067       0.234\n",
      "C(Team)[T.Los Angeles Kings]                          -0.0233      0.033     -0.714      0.476      -0.087       0.041\n",
      "C(Team)[T.Minnesota North Stars/Wild]                 -0.0527      0.033     -1.618      0.107      -0.117       0.011\n",
      "C(Team)[T.Montreal Canadiens]                         -0.0607      0.033     -1.861      0.064      -0.125       0.004\n",
      "C(Team)[T.Nashville Predators]                        -0.0096      0.033     -0.293      0.770      -0.074       0.055\n",
      "C(Team)[T.New Jersey Devils ]                         -0.0680      0.033     -2.088      0.038      -0.132      -0.004\n",
      "C(Team)[T.New York Islanders]                         -0.0624      0.033     -1.875      0.062      -0.128       0.003\n",
      "C(Team)[T.New York Rangers]                           -0.0408      0.033     -1.238      0.217      -0.106       0.024\n",
      "C(Team)[T.Ottawa Eagles/Senators]                     -0.0791      0.033     -2.427      0.016      -0.143      -0.015\n",
      "C(Team)[T.Philadelphia Flyers]                        -0.0729      0.033     -2.220      0.027      -0.137      -0.008\n",
      "C(Team)[T.Phoenix Coyotes]                            -0.0647      0.033     -1.934      0.054      -0.131       0.001\n",
      "C(Team)[T.Pittsburgh Pirates/Penguins]                 0.0243      0.033      0.741      0.459      -0.040       0.089\n",
      "C(Team)[T.San Jose Sharks]                             0.0070      0.033      0.216      0.829      -0.057       0.071\n",
      "C(Team)[T.St. Louis Eagles/Blues]                      0.0289      0.033      0.883      0.378      -0.036       0.093\n",
      "C(Team)[T.Tampa Bay Lightning]                        -0.0407      0.033     -1.248      0.213      -0.105       0.024\n",
      "C(Team)[T.Toronto Arenas/St. Patricks/Maple Leafs]    -0.0914      0.033     -2.797      0.006      -0.156      -0.027\n",
      "C(Team)[T.Vancouver Canucks]                          -0.0616      0.033     -1.883      0.061      -0.126       0.003\n",
      "C(Team)[T.Washington Capitals]                         0.0141      0.033      0.431      0.667      -0.050       0.079\n",
      "C(Team)[T.Winnipeg Jets]                              -0.0346      0.036     -0.959      0.339      -0.106       0.036\n",
      "relsal                                                 8.7600      1.380      6.350      0.000       6.044      11.476\n",
      "==============================================================================\n",
      "Omnibus:                        0.135   Durbin-Watson:                   2.235\n",
      "Prob(Omnibus):                  0.935   Jarque-Bera (JB):                0.252\n",
      "Skew:                          -0.028   Prob(JB):                        0.882\n",
      "Kurtosis:                       2.870   Cond. No.                         334.\n",
      "==============================================================================\n",
      "\n",
      "Notes:\n",
      "[1] Standard Errors assume that the covariance matrix of the errors is correctly specified.\n"
     ]
    }
   ],
   "source": [
    "wpcsal4_lm = smf.ols(formula = \"wpc ~ relsal +C(Team)\", data=Hockey).fit()\n",
    "print(wpcsal4_lm.summary())"
   ]
  },
  {
   "cell_type": "markdown",
   "metadata": {},
   "source": [
    "This model has a very simple interpretation: wpc = 0.256 + 8.76 x relsal + fixed effects. If we ignore fixed effects, we can identify the expected win percentage for low, average and high relative spending:"
   ]
  },
  {
   "cell_type": "code",
   "execution_count": 15,
   "metadata": {},
   "outputs": [
    {
     "name": "stdout",
     "output_type": "stream",
     "text": [
      "0.4312\n",
      "0.5407\n",
      "0.6502\n"
     ]
    }
   ],
   "source": [
    "print(0.256 + 8.76*0.02)\n",
    "print(0.256 + 8.76*0.0325)\n",
    "print(0.256 + 8.76*0.045)"
   ]
  },
  {
   "cell_type": "markdown",
   "metadata": {},
   "source": [
    "## Self Test\n",
    "\n",
    "Based on the fixed effects regression, calculate the win percentage of:\n",
    "\n",
    "(a) The Calgary Flames assuming the value of relsal for the team is 0.03\n",
    "(b) The Edmonton Oilers assuming the value of relsal for the team is 0.04\n",
    "(c) The Montreal Canadiens assuming the value of relsal for the team is 0.05"
   ]
  },
  {
   "cell_type": "markdown",
   "metadata": {},
   "source": [
    "Looking at this, we can see that the numbers are slightly skewed- the performance levels are higher than one might expect at each level, and this most likely reflects the impacts of the fixed effects. It's clear that most of the fixed effects are negative, and this would bring down teams to a lower level of performance. It suggests that those teams that are able to dominate, are capable of doing so (or at least were capable of doing so during this era) because of factors other than wage spending."
   ]
  },
  {
   "cell_type": "markdown",
   "metadata": {},
   "source": [
    "# Conclusion\n",
    "\n",
    "This week we have looked at four different leagues and used salary data to assess the impact of wage spending on team performance. In every case we found it had a significant impact, but that impact varied depending on the league. The league system also mattered, as we saw when contrasting the cases of the EPL with the NBA, MLB and NHL. \n",
    "\n",
    "We also introduced two issues which should always be considered when running regressions: omitted variable bias and heterogeneity. \n",
    "\n",
    "Finally, we should mention one issue which arises in the context of this type of exercise. The data we study here is \"observational\", meaning that we collect the data based on what actually happened, during events over which we had no control. This raises the question, \"How would outcomes have been different if some particular variable had had a different value?\" The regression coefficients produced some answers for us, but how can we be sure that there was not some other factor which we have omitted, which was what really mattered? We can't be sure.\n",
    "\n",
    "Scientists in laboratories typically don't have this problem - they use \"experimental data\" which they create in a controlled environment, so that they can control all observable factors. You can use that kind of data to measure the aerobic capacity of an athlete but, since you can't directly control the game, you can never use it to analyze game outcomes.\n",
    "\n",
    "Some experimental scientists would go so far as to say that we can infer nothing from observational data. This is the logic of a phrase you may have encountered: \"correlation is not causation\". We have observed correlations in the data using regression analysis, but that does not prove that the links were causal (you could go so far as to argue that win percentage causes salaries to increase, and not vice versa). \n",
    "\n",
    "We think that is too pessimistic a view. Observational data is certainly more challenging to work with, but it is possible for us to gain insight into the underlying relationships through careful study. It is important to be aware of the pitfalls, and it is important to focus on the logical coherence of the analysis rather than just running regressions. Another way to say this is that one should always have in mind a theory that one is trying to test, and be willing to discard that theory if the data renders it untenable. With careful thought and attention to details, it is possible to generate results which can enhance our understanding.\n",
    "\n",
    "\n",
    "\n"
   ]
  },
  {
   "cell_type": "code",
   "execution_count": null,
   "metadata": {},
   "outputs": [],
   "source": []
  }
 ],
 "metadata": {
  "kernelspec": {
   "display_name": "Python 3 (ipykernel)",
   "language": "python",
   "name": "python3"
  },
  "language_info": {
   "codemirror_mode": {
    "name": "ipython",
    "version": 3
   },
   "file_extension": ".py",
   "mimetype": "text/x-python",
   "name": "python",
   "nbconvert_exporter": "python",
   "pygments_lexer": "ipython3",
   "version": "3.8.12"
  }
 },
 "nbformat": 4,
 "nbformat_minor": 4
}
