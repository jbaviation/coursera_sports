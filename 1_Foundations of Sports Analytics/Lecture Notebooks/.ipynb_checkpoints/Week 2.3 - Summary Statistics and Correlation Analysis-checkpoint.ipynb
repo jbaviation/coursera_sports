{
 "cells": [
  {
   "cell_type": "markdown",
   "metadata": {},
   "source": [
    "### Import Updated NBA Game Data\n"
   ]
  },
  {
   "cell_type": "code",
   "execution_count": null,
   "metadata": {},
   "outputs": [],
   "source": [
    "import pandas as pd\n",
    "NBA_Games=pd.read_csv(\"../../Data/Week 2/NBA_Games2.csv\")\n",
    "NBA_Games.head()"
   ]
  },
  {
   "cell_type": "markdown",
   "metadata": {
    "scrolled": true
   },
   "source": [
    "## More on Summary Statistics\n",
    "### Central Tendency vs. Variation\n",
    "We will compare the success rates of two-point field goals and three-point field goals to demonstrate the difference between central tendency and variation. \n",
    "#### Calculate summary statistics for the percentages of two-point field goals and three-point field goals\n",
    "- Two-point field goals"
   ]
  },
  {
   "cell_type": "code",
   "execution_count": null,
   "metadata": {},
   "outputs": [],
   "source": [
    "NBA_Games['FG_PCT'].describe()"
   ]
  },
  {
   "cell_type": "markdown",
   "metadata": {},
   "source": [
    "- Three-point field goals\n"
   ]
  },
  {
   "cell_type": "code",
   "execution_count": null,
   "metadata": {},
   "outputs": [],
   "source": [
    "NBA_Games['FG3_PCT'].describe()"
   ]
  },
  {
   "cell_type": "markdown",
   "metadata": {},
   "source": [
    "_We can see that the average success rate of 2-point field goals is about 45.27% while the average success rate of 3-point field goals is 35.07%. That means that the overall success rate of 2-point field goals is about 10% higher than the overall success rate of 3-point field goals. The median of 2-point field goal success rate is 45.20%, while the median 3-point field goal success rate is 35.00%. This means half of the teams have 2-point field-goal success rates less than 45% and half of the teams have 3-point field goal success rate of less than 35%._\n",
    "\n",
    "_The standard deviation for 2-point field goal success rate is 0.056, while the standard deviation for 3-point field goal success rate is 0.09956. This means that there is a greater variation in 3-point field goals than 2-point field goals._ \n",
    "\n",
    "### Compare the distribution of two-point field goal percentage and three-point field goal percentage using a Histogram\n",
    "#### Plot two histograms side by side\n",
    "_The options \"sharex\" and \"sharey\" ask if we want to restrict the same range of x and same range of y for the two histograms_"
   ]
  },
  {
   "cell_type": "code",
   "execution_count": null,
   "metadata": {},
   "outputs": [],
   "source": [
    "NBA_Games.hist(column=['FG_PCT','FG3_PCT'], bins=20, sharex=True, sharey=True)"
   ]
  },
  {
   "cell_type": "markdown",
   "metadata": {},
   "source": [
    "#### Plot two histograms in the same graph in different colors\n",
    "\n",
    "#### We will first introduce a new library \"matplotlib\" that provides more useful functions to make plots.\n",
    "- We will use \"plot.hist\" instead of \"hist\" to make this plot\n",
    "- The option \"alpha\" specifies transparency, so that the two histograms would not block each other entirely (alpha=0: fully transparent; alpha=1: fully opaque)\n",
    "- We can also add a title and axis labels using \"plt.title,\" \"plt.xlabel\" and \"plt.ylabel\" commands\n",
    "- We can also export the graph as a png file using the \"plt.savefig\" command"
   ]
  },
  {
   "cell_type": "code",
   "execution_count": null,
   "metadata": {},
   "outputs": [],
   "source": [
    "import matplotlib.pyplot as plt\n",
    "\n",
    "NBA_Games[['FG_PCT','FG3_PCT']].plot.hist(alpha=0.3, bins=20)\n",
    "plt.xlabel('Field Goal Percentage')\n",
    "plt.ylabel('Frequency')\n",
    "plt.title(\"Distributions of Field Goal Percentages\", fontsize=15)\n",
    "plt.savefig('FG_PCT_Distributions.png')"
   ]
  },
  {
   "cell_type": "markdown",
   "metadata": {},
   "source": [
    "#### Histogram by the result of the game using the \"by\" option\n",
    "_We can also change the colors of the graphs using the \"color\" option_"
   ]
  },
  {
   "cell_type": "code",
   "execution_count": null,
   "metadata": {},
   "outputs": [],
   "source": [
    "NBA_Games.hist(by='WL', column='FG_PCT', color='red', bins=15, sharex=True, sharey=True)\n",
    "plt.savefig('FG_PCT_WL.png')"
   ]
  },
  {
   "cell_type": "markdown",
   "metadata": {},
   "source": [
    "## Self Test - 1\n",
    "1. Calculate summary statistics for the three-point field goal percentage by the result of the game\n",
    "2. Graph a histogram of the three-point field goal percentage by the result of the game and provide interpretation\n",
    "- Number of bins=10, the two subgraphs should have the same x and y ranges, color is green\n",
    "- Export the graph as \"FG3_PCT_Distribution\" in png format"
   ]
  },
  {
   "cell_type": "code",
   "execution_count": null,
   "metadata": {},
   "outputs": [],
   "source": [
    "#Your Code Here"
   ]
  },
  {
   "cell_type": "markdown",
   "metadata": {},
   "source": [
    "### Create time series graphs\n",
    "Let's first change the data type of \"GAME_DATE\" from object to datetime."
   ]
  },
  {
   "cell_type": "code",
   "execution_count": null,
   "metadata": {},
   "outputs": [],
   "source": [
    "import datetime\n",
    "NBA_Games['GAME_DATE']=pd.to_datetime(NBA_Games['GAME_DATE'])\n",
    "NBA_Games['GAME_DATE'].head()"
   ]
  },
  {
   "cell_type": "markdown",
   "metadata": {},
   "source": [
    "### Subsetting a dataset\n",
    "#### The dataset we are working with contains games of different NBA teams. Let's focus on one team to produce a time series graph.\n",
    "Extract Pistons' game data in the 2017-2018 season.\n",
    "\n",
    "_Note that for date variable, we can use the >, =, < operators. When we specify the condition of the date, we need to use \"\"_"
   ]
  },
  {
   "cell_type": "code",
   "execution_count": null,
   "metadata": {},
   "outputs": [],
   "source": [
    "Pistons_Games=NBA_Games[(NBA_Games.NICKNAME == 'Pistons')&(NBA_Games.SEASON_ID==22017)& (NBA_Games.GAME_DATE>='2017-10-17')]\n",
    "display(Pistons_Games)"
   ]
  },
  {
   "cell_type": "markdown",
   "metadata": {},
   "source": [
    "#### Now we can plot the points earned by the Pistons by time. \n"
   ]
  },
  {
   "cell_type": "code",
   "execution_count": null,
   "metadata": {},
   "outputs": [],
   "source": [
    "Pistons_Games.plot(x='GAME_DATE', y='PTS')\n",
    "plt.savefig('PISTONS_PTS_TIME.png')"
   ]
  },
  {
   "cell_type": "markdown",
   "metadata": {},
   "source": [
    "## Self Test - 2\n",
    "1. Graph Toronto Raptors' points in each game throughout the 2018-2019 seaon. \n",
    "(SEASON ID is 22018, and the regular season started on October 16, 2018.)\n",
    "2. Export the graph as \"RAPTORS_PTS_TIME\" in png format"
   ]
  },
  {
   "cell_type": "code",
   "execution_count": null,
   "metadata": {},
   "outputs": [],
   "source": [
    "#Your Code Here"
   ]
  },
  {
   "cell_type": "markdown",
   "metadata": {},
   "source": [
    "## Correlation Analysis\n",
    "### We can first detect the relationship between two variables in a scatterplot.\n",
    "#### Let's use the number of assists and the number of field goals made as an example.\n",
    "We can create a scatter plot using the \"plot.scatter\" function with the number of assists in the horizontal axis and the number of field goals made in the vertical axis."
   ]
  },
  {
   "cell_type": "code",
   "execution_count": null,
   "metadata": {},
   "outputs": [],
   "source": [
    "NBA_Games.plot.scatter(x='AST', y='FGM')"
   ]
  },
  {
   "cell_type": "markdown",
   "metadata": {},
   "source": [
    "#### We can use the functions in the \"seaborn\" library to graph the relationships between two variables\n",
    "\n",
    "#### We will use the function \"regplot\" to graph the two variables. This function graphs a scatterplot as well as a regression line.\n",
    "_We will learn about regression analysis more systematically in week 4_\n"
   ]
  },
  {
   "cell_type": "code",
   "execution_count": null,
   "metadata": {},
   "outputs": [],
   "source": [
    "import seaborn as sns\n",
    "sns.regplot(x='AST', y='FGM', data=NBA_Games,  marker='.')\n",
    "plt.xlabel('Assists')\n",
    "plt.ylabel('Field Goals Made')\n",
    "plt.title(\"Relationship between the Numbers of Assists and Field Goals Made\", fontsize=15)"
   ]
  },
  {
   "cell_type": "markdown",
   "metadata": {},
   "source": [
    "_As we can see from the graph, as the number of assists increase, the number of field goals made also increases. In this case, we say there is a positive relationship between the two variables, or a positive correlation._ \n",
    "\n",
    "\n",
    "\n",
    "### Correlation Coefficient\n",
    "#### We can quantify the linear correlation by a correlation coefficient. A correlation coefficient measures the joint variability of two random variables.  We can calculate correlation coefficient using the \"corr\" function.\n"
   ]
  },
  {
   "cell_type": "code",
   "execution_count": null,
   "metadata": {},
   "outputs": [],
   "source": [
    "NBA_Games['AST'].corr(NBA_Games['FGM'])"
   ]
  },
  {
   "cell_type": "markdown",
   "metadata": {},
   "source": [
    "_The correlation coefficient between the number of assist and field goal made is 0.70 so there is a positive correlation between the two._ \n",
    "\n",
    "#### Let's investigate the relationship between the number of assists and the number of field goals attempted.\n"
   ]
  },
  {
   "cell_type": "code",
   "execution_count": null,
   "metadata": {},
   "outputs": [],
   "source": [
    "sns.regplot(x='AST', y='FGA', data=NBA_Games,  marker='.')\n",
    "plt.xlabel('Assists')\n",
    "plt.ylabel('Field Goals Attempted')\n",
    "plt.title(\"Relationship between the Numbers of Assists and Field Goals Attempted\", fontsize=15)"
   ]
  },
  {
   "cell_type": "code",
   "execution_count": null,
   "metadata": {},
   "outputs": [],
   "source": [
    "NBA_Games['AST'].corr(NBA_Games['FGA'])"
   ]
  },
  {
   "cell_type": "markdown",
   "metadata": {},
   "source": [
    "_Both the graph and the correlation coefficient suggest that there is only a slight positive relationship between the two._\n"
   ]
  },
  {
   "cell_type": "markdown",
   "metadata": {},
   "source": [
    "### We can further graph the scatter plot by group using the \"hue\" option.\n",
    "#### Let's separate by the results of the game (win or lose), and produce scatter plots between number of assists and field goals made.\n",
    "_In this case, we can use lmplot() instead of regplot()._ \n",
    "- lmplot() combines regplot() and FacetGrid.\n",
    "- FacetGrid produces multi-plot grid for plotting conditional relationships. Thus, FacetGrid allows us to separate the dataset into multiple panels based on specified conditions to visualize the relationship between multiple variables. "
   ]
  },
  {
   "cell_type": "code",
   "execution_count": null,
   "metadata": {},
   "outputs": [],
   "source": [
    "sns.lmplot(x='AST', y='FGA', hue='WL', data=NBA_Games)\n",
    "plt.xlabel('Assists')\n",
    "plt.ylabel('Field Goals Made')\n",
    "plt.title(\"Relationship between the Numbers of Assists and Field Goals Made\", fontsize=15)"
   ]
  },
  {
   "cell_type": "markdown",
   "metadata": {},
   "source": [
    "### We can also find correlation coefficients for all the numerical variables.\n",
    "We will specify the method to be pearson. \n"
   ]
  },
  {
   "cell_type": "code",
   "execution_count": null,
   "metadata": {},
   "outputs": [],
   "source": [
    "NBA_Games.corr(method='pearson')"
   ]
  },
  {
   "cell_type": "code",
   "execution_count": null,
   "metadata": {},
   "outputs": [],
   "source": []
  }
 ],
 "metadata": {
  "kernelspec": {
   "display_name": "Python 3",
   "language": "python",
   "name": "python3"
  },
  "language_info": {
   "codemirror_mode": {
    "name": "ipython",
    "version": 3
   },
   "file_extension": ".py",
   "mimetype": "text/x-python",
   "name": "python",
   "nbconvert_exporter": "python",
   "pygments_lexer": "ipython3",
   "version": "3.7.4"
  }
 },
 "nbformat": 4,
 "nbformat_minor": 2
}
