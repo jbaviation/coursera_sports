{
 "cells": [
  {
   "cell_type": "markdown",
   "metadata": {},
   "source": [
    "# Week 2.1"
   ]
  },
  {
   "cell_type": "code",
   "execution_count": null,
   "metadata": {},
   "outputs": [],
   "source": [
    "#Pre-requisite Code to compute up to Self Test\n",
    "import pandas as pd\n",
    "import numpy as np\n",
    "NBA_Teams=pd.read_csv(\"../../Data/Week 2/nba_teams.csv\")\n",
    "NBA_Teams.rename(columns={'Unnamed: 0':'TEAM_NUMBER'}, inplace=True)\n",
    "NBA_Teams.rename(columns={'ID':'TEAM_ID'}, inplace=True)\n",
    "display(NBA_Teams)"
   ]
  },
  {
   "cell_type": "markdown",
   "metadata": {},
   "source": [
    "## Self Test - 1 Solution\n",
    "- Rename \"FULL_NAME\" to \"TEAM_NAME\" "
   ]
  },
  {
   "cell_type": "code",
   "execution_count": null,
   "metadata": {},
   "outputs": [],
   "source": [
    "NBA_Teams.rename(columns={'FULL_NAME':'TEAM_NAME'}, inplace=True)\n",
    "display(NBA_Teams)"
   ]
  },
  {
   "cell_type": "markdown",
   "metadata": {},
   "source": [
    "### Dropping Columns and Rows"
   ]
  },
  {
   "cell_type": "code",
   "execution_count": null,
   "metadata": {},
   "outputs": [],
   "source": [
    "#Pre-requisite Code to compute up to Self Test\n",
    "NBA_Teams.drop(['TEAM_NUMBER'], axis=1, inplace=True)\n",
    "display(NBA_Teams)\n",
    "Games=pd.read_csv(\"../../Data/Week 2/basketball_games.csv\")\n",
    "Games.drop([0], axis=0, inplace=True)\n",
    "Games=Games[Games.TEAM_NAME !=\"Las Vegas Aces\"]\n",
    "Games.head()"
   ]
  },
  {
   "cell_type": "markdown",
   "metadata": {},
   "source": [
    "## Self Test - 2 Solution\n",
    "- Drop all the Phoenix Mercury games"
   ]
  },
  {
   "cell_type": "code",
   "execution_count": null,
   "metadata": {},
   "outputs": [],
   "source": [
    "Games=Games[Games.TEAM_NAME !=\"Phoenix Mercury\"]\n",
    "Games.head()"
   ]
  },
  {
   "cell_type": "markdown",
   "metadata": {},
   "source": [
    "### Merging Dataframes"
   ]
  },
  {
   "cell_type": "code",
   "execution_count": null,
   "metadata": {},
   "outputs": [],
   "source": [
    "#Pre-requisite Code to compute up to Self Test\n",
    "NBA_Games=pd.merge(NBA_Teams, Games, on=['TEAM_ID', 'TEAM_NAME'])\n",
    "NBA_Games.head()\n",
    "NBA_Games.columns\n",
    "NBA_Games.drop(['ABBREVIATION'], axis=1, inplace=True, errors='ignore')"
   ]
  },
  {
   "cell_type": "markdown",
   "metadata": {},
   "source": [
    "## Self Test - 3 Solution\n",
    "- Find the number of observations and the number of variables in the dataset"
   ]
  },
  {
   "cell_type": "code",
   "execution_count": null,
   "metadata": {},
   "outputs": [],
   "source": [
    "NBA_Games.shape"
   ]
  },
  {
   "cell_type": "code",
   "execution_count": null,
   "metadata": {},
   "outputs": [],
   "source": [
    "NBA_Games.sort_values(by=['GAME_ID'], ascending=[False]).head(20)"
   ]
  },
  {
   "cell_type": "markdown",
   "metadata": {},
   "source": [
    "### Missing Values"
   ]
  },
  {
   "cell_type": "code",
   "execution_count": null,
   "metadata": {},
   "outputs": [],
   "source": [
    "#Pre-requisite Code to compute up to Self Test\n",
    "NBA_Games.info()\n",
    "NBA_Games.notnull()\n",
    "NBA_Games=NBA_Games[pd.notnull(NBA_Games[\"FG_PCT\"])]\n",
    "NBA_Games.shape\n",
    "NBA_Games=NBA_Games.fillna(NBA_Games.mean())\n",
    "NBA_Games.info()\n",
    "NBA_Games['GM']=NBA_Games['FGM']+NBA_Games['FG3M']+NBA_Games['FTM']"
   ]
  },
  {
   "cell_type": "markdown",
   "metadata": {},
   "source": [
    "## Self Test - 4 Solution\n",
    "- Create a variable called \"GA\" equals to the total number of goals attempted."
   ]
  },
  {
   "cell_type": "code",
   "execution_count": null,
   "metadata": {},
   "outputs": [],
   "source": [
    "NBA_Games['GA']=NBA_Games['FGA']+NBA_Games['FG3A']+NBA_Games['FTA']"
   ]
  },
  {
   "cell_type": "markdown",
   "metadata": {},
   "source": [
    "# Week 2.2"
   ]
  },
  {
   "cell_type": "code",
   "execution_count": null,
   "metadata": {},
   "outputs": [],
   "source": [
    "#Pre-requisite Code to compute up to Self Test\n",
    "import pandas as pd\n",
    "NBA_Games=pd.read_csv(\"../../Data/Week 2/NBA_Games.csv\")\n",
    "NBA_Games.head()\n",
    "NBA_Games.dtypes\n",
    "dummy=pd.get_dummies(NBA_Games, columns=['WL'])\n",
    "dummy.columns\n",
    "NBA_Games=pd.concat([NBA_Games, dummy['WL_W']], axis=1)\n",
    "NBA_Games.head() \n",
    "NBA_Games.rename(columns={'WL_W':'WIN'}, inplace=True)\n",
    "NBA_Games.head()\n",
    "NBA_Games['GAME_DATE'].dtype\n",
    "import datetime\n",
    "NBA_Games['GAME_DATE']=pd.to_datetime(NBA_Games['GAME_DATE'])\n",
    "NBA_Games['GAME_DATE'].head()\n",
    "NBA_Games.describe()\n",
    "NBA_Games.describe(include='all')\n",
    "NBA_Games['PTS'].describe()\n",
    "NBA_Games['FGM'].mean()\n",
    "NBA_Games['FGM'].median()\n",
    "NBA_Games['FGM'].std()"
   ]
  },
  {
   "cell_type": "markdown",
   "metadata": {},
   "source": [
    "## Self Test\n",
    "1. Find the mean of field goals attempted;\n",
    "\n",
    "2. Find the median of 3-point field goals made;\n",
    "\n",
    "3. Find the standard deviation of the number of rebounds"
   ]
  },
  {
   "cell_type": "code",
   "execution_count": null,
   "metadata": {},
   "outputs": [],
   "source": [
    "NBA_Games['FGA'].mean()\n",
    "NBA_Games['FG3M'].median()\n",
    "NBA_Games['REB'].std()"
   ]
  },
  {
   "cell_type": "markdown",
   "metadata": {},
   "source": [
    "# Week 2.3"
   ]
  },
  {
   "cell_type": "code",
   "execution_count": null,
   "metadata": {},
   "outputs": [],
   "source": [
    "#Pre-requisite Code to compute up to Self Test\n",
    "import pandas as pd\n",
    "NBA_Games=pd.read_csv(\"../../Data/Week 2/NBA_Games2.csv\")\n",
    "NBA_Games.head()\n",
    "NBA_Games['FG_PCT'].describe()\n",
    "NBA_Games['FG3_PCT'].describe()\n",
    "NBA_Games.hist(column=['FG_PCT','FG3_PCT'], bins=20, sharex=True, sharey=True)\n",
    "import matplotlib.pyplot as plt\n",
    "NBA_Games[['FG_PCT','FG3_PCT']].plot.hist(alpha=0.3, bins=20)\n",
    "plt.xlabel('Field Goal Percentage')\n",
    "plt.ylabel('Frequency')\n",
    "plt.title(\"Distributions of Field Goal Percentages\", fontsize=15)\n",
    "plt.savefig('FG_PCT_Distributions.png')\n",
    "NBA_Games.hist(by='WL', column='FG_PCT', color='red', bins=15, sharex=True, sharey=True)\n",
    "plt.savefig('FG_PCT_WL.png')"
   ]
  },
  {
   "cell_type": "markdown",
   "metadata": {},
   "source": [
    "## Self Test - 1 Solution\n",
    "1. Calculate summary statistics for the three-point field goal percentage by the result of the game\n",
    "2. Graph a histogram of the three-point field goal percentage by the result of the game and provide interpretation\n",
    "- Number of bins=10, the two subgraphs should have the same x and y ranges, color is green\n",
    "- Export the graph as \"FG3_PCT_Distribution\" in png format"
   ]
  },
  {
   "cell_type": "code",
   "execution_count": null,
   "metadata": {},
   "outputs": [],
   "source": [
    "NBA_Games.groupby(['WL'])['FG3_PCT'].describe()\n",
    "NBA_Games.hist(by='WL', column='FG3_PCT', bins=10, color='green', sharex=True, sharey=True)\n",
    "plt.savefig('FG3_PCT_Distribution.png')"
   ]
  },
  {
   "cell_type": "code",
   "execution_count": null,
   "metadata": {},
   "outputs": [],
   "source": [
    "#Pre-requisite Code to compute up to Self Test\n",
    "import datetime\n",
    "NBA_Games['GAME_DATE']=pd.to_datetime(NBA_Games['GAME_DATE'])\n",
    "NBA_Games['GAME_DATE'].head()\n",
    "Pistons_Games=NBA_Games[(NBA_Games.NICKNAME == 'Pistons')&(NBA_Games.SEASON_ID==22017)& (NBA_Games.GAME_DATE>='2017-10-17')]\n",
    "display(Pistons_Games)\n",
    "Pistons_Games.plot(x='GAME_DATE', y='PTS')\n",
    "plt.savefig('PISTONS_PTS_TIME.png')"
   ]
  },
  {
   "cell_type": "markdown",
   "metadata": {},
   "source": [
    "## Self Test - 2\n",
    "1. Graph Toronto Raptors' points in each game throughout the 2018-2019 seaon. \n",
    "(SEASON ID is 22018, and the regular season started on October 16, 2018.)\n",
    "2. Export the graph as \"RAPTORS_PTS_TIME\" in png format"
   ]
  },
  {
   "cell_type": "code",
   "execution_count": null,
   "metadata": {},
   "outputs": [],
   "source": [
    "Raptors_Games=NBA_Games[(NBA_Games.NICKNAME == 'Raptors')&(NBA_Games.SEASON_ID==22018)& (NBA_Games.GAME_DATE>='2018-10-16')]\n",
    "Raptors_Games.plot(x='GAME_DATE', y='PTS')\n",
    "plt.savefig('RAPTORS_PTS_TIME.png')"
   ]
  }
 ],
 "metadata": {
  "kernelspec": {
   "display_name": "Python 3",
   "language": "python",
   "name": "python3"
  },
  "language_info": {
   "codemirror_mode": {
    "name": "ipython",
    "version": 3
   },
   "file_extension": ".py",
   "mimetype": "text/x-python",
   "name": "python",
   "nbconvert_exporter": "python",
   "pygments_lexer": "ipython3",
   "version": "3.6.7"
  }
 },
 "nbformat": 4,
 "nbformat_minor": 2
}
