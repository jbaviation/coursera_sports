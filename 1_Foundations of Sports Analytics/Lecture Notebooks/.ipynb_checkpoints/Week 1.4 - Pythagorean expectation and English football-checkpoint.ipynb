{
 "cells": [
  {
   "cell_type": "markdown",
   "metadata": {},
   "source": [
    "# Pythagorean Expectation and English Soccer\n",
    "\n",
    "In soccer, teams score goals, and we can calculate Pythagorean Expectations based on goals scored and goals conceded.\n",
    "\n",
    "The structure of competition in soccer in most countries around the world is different from the sports we have looked at so far. Rather than leagues operating as independent entities, they are connected through a hierarchical system, sometimes called \"the pyramid\". In England, the English Premier League is at the top of the pyramid (it used to be called the First Division) and contains 20 teams. \n",
    "\n",
    "Beneath the Premier League is The Football League Championship (it used to be called Division Two) and it contains 24 teams. The Premier League and the Championship are linked via the system of promotion and relegation. At the end of each season, the three worst performing teams (measured by points won in competition) are relegated to play Championship soccer in the following season, to be replaced by the three best performing teams in the Championship. Beneath the Championship are two more leagues - League One (formerly Third Division) and League Two (formerly Fourth Division). These leagues are also linked, hierarchically, through promotion and relegation. Thus it makes sense to think of these four divisions as part of a common system. \n",
    "\n",
    "In any one season, there are 92 teams in the system. Even though teams compete in different divisions, we can define both win percentage and Pythagorean Expectation for each team, in order to see how well the data fits.\n",
    "\n",
    "In each of the four divisions, every team plays every other team twice in a season, once at home and once away. There is no playoff, so the champion is the team at the end of the season with the largest number of points (3 points for a win, one for a draw (tie)). Unlike the leagues we have looked at so far, draws are not only possible but are quite common. We need to adjust our definition of win percentage for this case. We could create a statistic such as the percentage of maximum possible points, but instead, we do something simpler- we give a value of 1 for a win, 0 for a loss, and 1/2 for a draw.\n",
    "\n",
    "We now follow the same procedure we have used to date."
   ]
  },
  {
   "cell_type": "code",
   "execution_count": null,
   "metadata": {},
   "outputs": [],
   "source": [
    "# Load the packages\n",
    "\n",
    "import pandas as pd\n",
    "import numpy as np\n",
    "import statsmodels.formula.api as smf\n",
    "import matplotlib.pyplot as plt\n",
    "import seaborn as sns"
   ]
  },
  {
   "cell_type": "code",
   "execution_count": null,
   "metadata": {},
   "outputs": [],
   "source": [
    "# Load the data. \n",
    "# Our data covers the 2017/18 season\n",
    "\n",
    "Eng18 = pd.read_excel('../../Data/Week 1/Engsoccer2017-18.xlsx')\n",
    "print(Eng18.columns.tolist())"
   ]
  },
  {
   "cell_type": "code",
   "execution_count": null,
   "metadata": {},
   "outputs": [],
   "source": [
    "# We can see what our dataframe looks like simply by typing its name\n",
    "\n",
    "Eng18"
   ]
  },
  {
   "cell_type": "code",
   "execution_count": null,
   "metadata": {},
   "outputs": [],
   "source": [
    "# Once again our data is in the form of game results. We first identify whether the result was a win for the home team (H),\n",
    "# the away team (A) or a draw (D). We also create the counting variable.\n",
    "\n",
    "Eng18['hwinvalue']=np.where(Eng18['FTR']=='H',1,np.where(Eng18['FTR']=='D',.5,0))\n",
    "Eng18['awinvalue']=np.where(Eng18['FTR']=='A',1,np.where(Eng18['FTR']=='D',.5,0))\n",
    "Eng18['count']=1"
   ]
  },
  {
   "cell_type": "code",
   "execution_count": null,
   "metadata": {},
   "outputs": [],
   "source": [
    "# Once again we have to create separate dfs to calculate home team and away team performance.\n",
    "# Here is the home team df, including only the variables we need.\n",
    "\n",
    "Enghome = Eng18.groupby(['HomeTeam','Div'])['count','hwinvalue', 'FTHG','FTAG'].sum().reset_index()\n",
    "Enghome = Enghome.rename(columns={'HomeTeam':'team','count':'Ph','FTHG':'FTHGh','FTAG':'FTAGh'})\n",
    "Enghome"
   ]
  },
  {
   "cell_type": "code",
   "execution_count": null,
   "metadata": {},
   "outputs": [],
   "source": [
    "# Now we create the mirror image df for the away team results.\n",
    "\n",
    "Engaway = Eng18.groupby('AwayTeam')['count','awinvalue', 'FTHG','FTAG'].sum().reset_index()\n",
    "Engaway = Engaway.rename(columns={'AwayTeam':'team','count':'Pa','FTHG':'FTHGa','FTAG':'FTAGa'})\n",
    "Engaway"
   ]
  },
  {
   "cell_type": "code",
   "execution_count": null,
   "metadata": {
    "scrolled": true
   },
   "outputs": [],
   "source": [
    "# Merge the home team and away team results\n",
    "\n",
    "Eng18 = pd.merge(Enghome, Engaway, on = ['team'])\n",
    "Eng18"
   ]
  },
  {
   "cell_type": "code",
   "execution_count": null,
   "metadata": {},
   "outputs": [],
   "source": [
    "# Sum the results by home and away measures to get the team overall performance for the season\n",
    "\n",
    "Eng18['W'] = Eng18['hwinvalue']+Eng18['awinvalue']\n",
    "Eng18['G'] = Eng18['Ph']+Eng18['Pa']\n",
    "Eng18['GF'] = Eng18['FTHGh']+Eng18['FTAGa']\n",
    "Eng18['GA'] = Eng18['FTAGh']+Eng18['FTHGa']\n",
    "Eng18"
   ]
  },
  {
   "cell_type": "code",
   "execution_count": null,
   "metadata": {},
   "outputs": [],
   "source": [
    "# Create the win percentage and Pythagorean Expectation\n",
    "\n",
    "Eng18['wpc'] = Eng18['W']/Eng18['G']\n",
    "Eng18['pyth'] = Eng18['GF']**2/(Eng18['GF']**2 + Eng18['GA']**2)\n",
    "Eng18"
   ]
  },
  {
   "cell_type": "code",
   "execution_count": null,
   "metadata": {},
   "outputs": [],
   "source": [
    "# Plot the data\n",
    "# Seaborn allow us to color code teams based on division\n",
    "\n",
    "sns.relplot(x=\"pyth\", y=\"wpc\", data =Eng18,hue='Div')"
   ]
  },
  {
   "cell_type": "markdown",
   "metadata": {},
   "source": [
    "## Self test\n",
    "\n",
    "run sns.relplot again, but this time write y=\"W\" instead of y=\"wpc\". What do you find? Does it make a difference?"
   ]
  },
  {
   "cell_type": "code",
   "execution_count": null,
   "metadata": {},
   "outputs": [],
   "source": [
    "# Run the regression\n",
    "\n",
    "pyth_lm = smf.ols(formula = 'wpc ~ pyth', data=Eng18).fit()\n",
    "pyth_lm.summary()"
   ]
  },
  {
   "cell_type": "markdown",
   "metadata": {},
   "source": [
    "## Self test\n",
    "\n",
    "Run the regression above but instead write 'wpc ~ result' instead of 'wpc ~ result' in the line starting pyth_lm. What difference does this make?"
   ]
  },
  {
   "cell_type": "markdown",
   "metadata": {},
   "source": [
    "# Conclusion\n",
    "\n",
    "Notwithstanding the different organizational structures of soccer, we have found the Pythagorean Expectation model fits the data well.\n",
    "\n",
    "We have now looked at league results from four different sports and found that the Pythagorean model fits the data well in three of the four. \n",
    "\n",
    "But we now want to consider a different question: does the Pythagorean model work as a forecasting model? We address this question in the next notebook. \n",
    "\n",
    "\n"
   ]
  },
  {
   "cell_type": "code",
   "execution_count": null,
   "metadata": {},
   "outputs": [],
   "source": []
  }
 ],
 "metadata": {
  "kernelspec": {
   "display_name": "Python 3",
   "language": "python",
   "name": "python3"
  },
  "language_info": {
   "codemirror_mode": {
    "name": "ipython",
    "version": 3
   },
   "file_extension": ".py",
   "mimetype": "text/x-python",
   "name": "python",
   "nbconvert_exporter": "python",
   "pygments_lexer": "ipython3",
   "version": "3.7.4"
  }
 },
 "nbformat": 4,
 "nbformat_minor": 2
}
