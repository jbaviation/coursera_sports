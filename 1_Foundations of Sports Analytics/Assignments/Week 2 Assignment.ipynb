{
 "cells": [
  {
   "cell_type": "markdown",
   "metadata": {},
   "source": [
    "## Part 1- Data Coding and Merging"
   ]
  },
  {
   "cell_type": "code",
   "execution_count": 17,
   "metadata": {
    "scrolled": true
   },
   "outputs": [],
   "source": [
    "#Import Libraries\n",
    "\n",
    "import pandas as pd\n",
    "import numpy as np\n",
    "import datetime\n",
    "import matplotlib.pyplot as plt\n",
    "import seaborn as sns"
   ]
  },
  {
   "cell_type": "code",
   "execution_count": 18,
   "metadata": {},
   "outputs": [
    {
     "data": {
      "text/html": [
       "<div>\n",
       "<style scoped>\n",
       "    .dataframe tbody tr th:only-of-type {\n",
       "        vertical-align: middle;\n",
       "    }\n",
       "\n",
       "    .dataframe tbody tr th {\n",
       "        vertical-align: top;\n",
       "    }\n",
       "\n",
       "    .dataframe thead th {\n",
       "        text-align: right;\n",
       "    }\n",
       "</style>\n",
       "<table border=\"1\" class=\"dataframe\">\n",
       "  <thead>\n",
       "    <tr style=\"text-align: right;\">\n",
       "      <th></th>\n",
       "      <th>tid</th>\n",
       "      <th>name</th>\n",
       "      <th>tricode</th>\n",
       "    </tr>\n",
       "  </thead>\n",
       "  <tbody>\n",
       "    <tr>\n",
       "      <th>0</th>\n",
       "      <td>1</td>\n",
       "      <td>Toronto Maple Leafs</td>\n",
       "      <td>TOR</td>\n",
       "    </tr>\n",
       "    <tr>\n",
       "      <th>1</th>\n",
       "      <td>2</td>\n",
       "      <td>Montréal Canadiens</td>\n",
       "      <td>MTL</td>\n",
       "    </tr>\n",
       "    <tr>\n",
       "      <th>2</th>\n",
       "      <td>4</td>\n",
       "      <td>Winnipeg Jets</td>\n",
       "      <td>WPG</td>\n",
       "    </tr>\n",
       "    <tr>\n",
       "      <th>3</th>\n",
       "      <td>5</td>\n",
       "      <td>Washington Capitals</td>\n",
       "      <td>WSH</td>\n",
       "    </tr>\n",
       "    <tr>\n",
       "      <th>4</th>\n",
       "      <td>6</td>\n",
       "      <td>Chicago Blackhawks</td>\n",
       "      <td>CHI</td>\n",
       "    </tr>\n",
       "  </tbody>\n",
       "</table>\n",
       "</div>"
      ],
      "text/plain": [
       "   tid                 name tricode\n",
       "0    1  Toronto Maple Leafs     TOR\n",
       "1    2   Montréal Canadiens     MTL\n",
       "2    4        Winnipeg Jets     WPG\n",
       "3    5  Washington Capitals     WSH\n",
       "4    6   Chicago Blackhawks     CHI"
      ]
     },
     "execution_count": 18,
     "metadata": {},
     "output_type": "execute_result"
    }
   ],
   "source": [
    "#Import NHL Team Data and Display\n",
    "NHL_Team=pd.read_csv(\"Assignment Data/NHL_team.csv\").drop(['abbr','tname','lname','sname'], axis=1).iloc[:,1:]\n",
    "NHL_Team.head()"
   ]
  },
  {
   "cell_type": "code",
   "execution_count": 19,
   "metadata": {},
   "outputs": [
    {
     "data": {
      "text/html": [
       "<div>\n",
       "<style scoped>\n",
       "    .dataframe tbody tr th:only-of-type {\n",
       "        vertical-align: middle;\n",
       "    }\n",
       "\n",
       "    .dataframe tbody tr th {\n",
       "        vertical-align: top;\n",
       "    }\n",
       "\n",
       "    .dataframe thead th {\n",
       "        text-align: right;\n",
       "    }\n",
       "</style>\n",
       "<table border=\"1\" class=\"dataframe\">\n",
       "  <thead>\n",
       "    <tr style=\"text-align: right;\">\n",
       "      <th></th>\n",
       "      <th>comp_id</th>\n",
       "      <th>year</th>\n",
       "      <th>type</th>\n",
       "      <th>competition_name</th>\n",
       "    </tr>\n",
       "  </thead>\n",
       "  <tbody>\n",
       "    <tr>\n",
       "      <th>0</th>\n",
       "      <td>1</td>\n",
       "      <td>2013</td>\n",
       "      <td>2</td>\n",
       "      <td>2013 NHL Regular Season</td>\n",
       "    </tr>\n",
       "    <tr>\n",
       "      <th>1</th>\n",
       "      <td>2</td>\n",
       "      <td>2017</td>\n",
       "      <td>2</td>\n",
       "      <td>2017 NHL Regular Season</td>\n",
       "    </tr>\n",
       "    <tr>\n",
       "      <th>2</th>\n",
       "      <td>2453</td>\n",
       "      <td>2013</td>\n",
       "      <td>3</td>\n",
       "      <td>2013 NHL Playoff</td>\n",
       "    </tr>\n",
       "    <tr>\n",
       "      <th>3</th>\n",
       "      <td>2541</td>\n",
       "      <td>2017</td>\n",
       "      <td>3</td>\n",
       "      <td>2017 NHL Playoff</td>\n",
       "    </tr>\n",
       "    <tr>\n",
       "      <th>4</th>\n",
       "      <td>2661</td>\n",
       "      <td>2012</td>\n",
       "      <td>2</td>\n",
       "      <td>2012 NHL Regular Season</td>\n",
       "    </tr>\n",
       "  </tbody>\n",
       "</table>\n",
       "</div>"
      ],
      "text/plain": [
       "   comp_id  year  type         competition_name\n",
       "0        1  2013     2  2013 NHL Regular Season\n",
       "1        2  2017     2  2017 NHL Regular Season\n",
       "2     2453  2013     3         2013 NHL Playoff\n",
       "3     2541  2017     3         2017 NHL Playoff\n",
       "4     2661  2012     2  2012 NHL Regular Season"
      ]
     },
     "execution_count": 19,
     "metadata": {},
     "output_type": "execute_result"
    }
   ],
   "source": [
    "#Import NHL Competition Data and Display Head\n",
    "NHL_Competition=(pd.read_csv(\"Assignment Data/NHL_competition.csv\")\n",
    "                   .drop(['tz','start','end'], axis=1)\n",
    "                   .iloc[:,1:]\n",
    "                   .rename({'name':'competition_name'}, axis=1))\n",
    "NHL_Competition.head()"
   ]
  },
  {
   "cell_type": "code",
   "execution_count": 20,
   "metadata": {},
   "outputs": [
    {
     "data": {
      "text/html": [
       "<div>\n",
       "<style scoped>\n",
       "    .dataframe tbody tr th:only-of-type {\n",
       "        vertical-align: middle;\n",
       "    }\n",
       "\n",
       "    .dataframe tbody tr th {\n",
       "        vertical-align: top;\n",
       "    }\n",
       "\n",
       "    .dataframe thead th {\n",
       "        text-align: right;\n",
       "    }\n",
       "</style>\n",
       "<table border=\"1\" class=\"dataframe\">\n",
       "  <thead>\n",
       "    <tr style=\"text-align: right;\">\n",
       "      <th></th>\n",
       "      <th>gid</th>\n",
       "      <th>comp_id</th>\n",
       "      <th>date</th>\n",
       "      <th>ascore</th>\n",
       "      <th>hscore</th>\n",
       "      <th>home_away</th>\n",
       "      <th>tid</th>\n",
       "    </tr>\n",
       "  </thead>\n",
       "  <tbody>\n",
       "    <tr>\n",
       "      <th>0</th>\n",
       "      <td>37</td>\n",
       "      <td>2</td>\n",
       "      <td>10/7/2017</td>\n",
       "      <td>NaN</td>\n",
       "      <td>NaN</td>\n",
       "      <td>away</td>\n",
       "      <td>25</td>\n",
       "    </tr>\n",
       "    <tr>\n",
       "      <th>1</th>\n",
       "      <td>67</td>\n",
       "      <td>2</td>\n",
       "      <td>10/9/2017</td>\n",
       "      <td>NaN</td>\n",
       "      <td>NaN</td>\n",
       "      <td>away</td>\n",
       "      <td>29</td>\n",
       "    </tr>\n",
       "    <tr>\n",
       "      <th>2</th>\n",
       "      <td>154</td>\n",
       "      <td>1</td>\n",
       "      <td>10/14/2013</td>\n",
       "      <td>NaN</td>\n",
       "      <td>NaN</td>\n",
       "      <td>away</td>\n",
       "      <td>29</td>\n",
       "    </tr>\n",
       "    <tr>\n",
       "      <th>3</th>\n",
       "      <td>278</td>\n",
       "      <td>1</td>\n",
       "      <td>10/24/2013</td>\n",
       "      <td>NaN</td>\n",
       "      <td>NaN</td>\n",
       "      <td>away</td>\n",
       "      <td>53</td>\n",
       "    </tr>\n",
       "    <tr>\n",
       "      <th>4</th>\n",
       "      <td>291</td>\n",
       "      <td>1</td>\n",
       "      <td>10/25/2013</td>\n",
       "      <td>NaN</td>\n",
       "      <td>NaN</td>\n",
       "      <td>away</td>\n",
       "      <td>5</td>\n",
       "    </tr>\n",
       "  </tbody>\n",
       "</table>\n",
       "</div>"
      ],
      "text/plain": [
       "   gid  comp_id        date  ascore  hscore home_away  tid\n",
       "0   37        2   10/7/2017     NaN     NaN      away   25\n",
       "1   67        2   10/9/2017     NaN     NaN      away   29\n",
       "2  154        1  10/14/2013     NaN     NaN      away   29\n",
       "3  278        1  10/24/2013     NaN     NaN      away   53\n",
       "4  291        1  10/25/2013     NaN     NaN      away    5"
      ]
     },
     "execution_count": 20,
     "metadata": {},
     "output_type": "execute_result"
    }
   ],
   "source": [
    "#Import NHL Game Data and Display Head\n",
    "NHL_Game=(pd.read_csv(\"Assignment Data/NHL_game.csv\")\n",
    "            .drop(['X','period','status'],axis=1))\n",
    "NHL_Game.head()"
   ]
  },
  {
   "cell_type": "code",
   "execution_count": 21,
   "metadata": {},
   "outputs": [],
   "source": [
    "# Merge dataframes (4)\n",
    "NHL_Game = NHL_Game.merge(NHL_Team, on='tid')"
   ]
  },
  {
   "cell_type": "code",
   "execution_count": 22,
   "metadata": {},
   "outputs": [],
   "source": [
    "# Merge dataframe (5)\n",
    "NHL_Game = NHL_Game.merge(NHL_Competition, on='comp_id')"
   ]
  },
  {
   "cell_type": "code",
   "execution_count": 23,
   "metadata": {},
   "outputs": [],
   "source": [
    "# Create hgd (6)\n",
    "NHL_Game['hgd'] = NHL_Game['hscore'] - NHL_Game['ascore']\n",
    "\n",
    "# Drop rows with missing hgd\n",
    "NHL_Game = NHL_Game[NHL_Game['hgd'].notna()]"
   ]
  },
  {
   "cell_type": "code",
   "execution_count": 24,
   "metadata": {},
   "outputs": [],
   "source": [
    "# drop any missing data (7)\n",
    "NHL_Game = NHL_Game.dropna()"
   ]
  },
  {
   "cell_type": "code",
   "execution_count": 25,
   "metadata": {},
   "outputs": [
    {
     "data": {
      "text/plain": [
       "(18506, 13)"
      ]
     },
     "execution_count": 25,
     "metadata": {},
     "output_type": "execute_result"
    }
   ],
   "source": [
    "NHL_Game.shape"
   ]
  },
  {
   "cell_type": "code",
   "execution_count": 26,
   "metadata": {},
   "outputs": [],
   "source": [
    "# convert date to datetime (8)\n",
    "NHL_Game['date'] = pd.to_datetime(NHL_Game['date'])"
   ]
  },
  {
   "cell_type": "code",
   "execution_count": 27,
   "metadata": {},
   "outputs": [
    {
     "name": "stdout",
     "output_type": "stream",
     "text": [
      "2018-06-08 00:00:00 2010-10-07 00:00:00\n"
     ]
    }
   ],
   "source": [
    "print(NHL_Game['date'].max(), NHL_Game['date'].min())"
   ]
  },
  {
   "cell_type": "code",
   "execution_count": 28,
   "metadata": {},
   "outputs": [
    {
     "data": {
      "text/plain": [
       "8814     5662\n",
       "10004    5668\n",
       "10276    5683\n",
       "Name: gid, dtype: int64"
      ]
     },
     "execution_count": 28,
     "metadata": {},
     "output_type": "execute_result"
    }
   ],
   "source": [
    "# sort NHL by date and show first 15 (9)\n",
    "NHL_Game.sort_values('date').iloc[[4,9,14],0]"
   ]
  },
  {
   "cell_type": "code",
   "execution_count": 29,
   "metadata": {},
   "outputs": [],
   "source": [
    "# (10) Create two dataframes that separate the “NHL_Game” dataframe by home and away games. Name them “NHL_Home” and “NHL_Away”, respectively.\n",
    "# a) Rename variables:\n",
    "#      i) For away games, rename “ascore” to “goals_for”; rename “hscore” to “goals_against”\n",
    "#      ii) For home games, rename “hscore” to “goals_for”; rename “ascore” to “goals_against” \n",
    "# b) Create a “win” variable that equals to 1 if the team won the game; 0 if the team lost the game; and 0.5 if it was a draw. \n",
    "NHL_Home = NHL_Game[NHL_Game['home_away']=='home']\n",
    "NHL_Away = NHL_Game[NHL_Game['home_away']=='away']\n",
    "\n",
    "NHL_Home = NHL_Home.rename({'hscore':'goals_for', 'ascore':'goals_against'}, axis=1)\n",
    "NHL_Away = NHL_Away.rename({'hscore':'goals_against', 'ascore':'goals_for'}, axis=1)\n",
    "\n",
    "NHL_Home['win'] = np.where(NHL_Home['goals_for']>NHL_Home['goals_against'],1,np.where(NHL_Home['goals_for']==NHL_Home['goals_against'],0.5,0))\n",
    "NHL_Away['win'] = np.where(NHL_Away['goals_for']>NHL_Away['goals_against'],1,np.where(NHL_Away['goals_for']==NHL_Away['goals_against'],0.5,0))"
   ]
  },
  {
   "cell_type": "code",
   "execution_count": 30,
   "metadata": {},
   "outputs": [
    {
     "data": {
      "text/html": [
       "<div>\n",
       "<style scoped>\n",
       "    .dataframe tbody tr th:only-of-type {\n",
       "        vertical-align: middle;\n",
       "    }\n",
       "\n",
       "    .dataframe tbody tr th {\n",
       "        vertical-align: top;\n",
       "    }\n",
       "\n",
       "    .dataframe thead th {\n",
       "        text-align: right;\n",
       "    }\n",
       "</style>\n",
       "<table border=\"1\" class=\"dataframe\">\n",
       "  <thead>\n",
       "    <tr style=\"text-align: right;\">\n",
       "      <th></th>\n",
       "      <th>gid</th>\n",
       "      <th>comp_id</th>\n",
       "      <th>date</th>\n",
       "      <th>goals_against</th>\n",
       "      <th>goals_for</th>\n",
       "      <th>home_away</th>\n",
       "      <th>tid</th>\n",
       "      <th>name</th>\n",
       "      <th>tricode</th>\n",
       "      <th>year</th>\n",
       "      <th>type</th>\n",
       "      <th>competition_name</th>\n",
       "      <th>hgd</th>\n",
       "      <th>win</th>\n",
       "    </tr>\n",
       "  </thead>\n",
       "  <tbody>\n",
       "    <tr>\n",
       "      <th>2594</th>\n",
       "      <td>2568</td>\n",
       "      <td>2541</td>\n",
       "      <td>2018-04-15</td>\n",
       "      <td>5.0</td>\n",
       "      <td>4.0</td>\n",
       "      <td>home</td>\n",
       "      <td>5</td>\n",
       "      <td>Washington Capitals</td>\n",
       "      <td>WSH</td>\n",
       "      <td>2017</td>\n",
       "      <td>3</td>\n",
       "      <td>2017 NHL Playoff</td>\n",
       "      <td>-1.0</td>\n",
       "      <td>0.0</td>\n",
       "    </tr>\n",
       "    <tr>\n",
       "      <th>2650</th>\n",
       "      <td>2583</td>\n",
       "      <td>2541</td>\n",
       "      <td>2018-04-15</td>\n",
       "      <td>5.0</td>\n",
       "      <td>1.0</td>\n",
       "      <td>home</td>\n",
       "      <td>14</td>\n",
       "      <td>Philadelphia Flyers</td>\n",
       "      <td>PHI</td>\n",
       "      <td>2017</td>\n",
       "      <td>3</td>\n",
       "      <td>2017 NHL Playoff</td>\n",
       "      <td>-4.0</td>\n",
       "      <td>0.0</td>\n",
       "    </tr>\n",
       "    <tr>\n",
       "      <th>2658</th>\n",
       "      <td>2609</td>\n",
       "      <td>2541</td>\n",
       "      <td>2018-04-15</td>\n",
       "      <td>2.0</td>\n",
       "      <td>6.0</td>\n",
       "      <td>home</td>\n",
       "      <td>35</td>\n",
       "      <td>Minnesota Wild</td>\n",
       "      <td>MIN</td>\n",
       "      <td>2017</td>\n",
       "      <td>3</td>\n",
       "      <td>2017 NHL Playoff</td>\n",
       "      <td>4.0</td>\n",
       "      <td>1.0</td>\n",
       "    </tr>\n",
       "    <tr>\n",
       "      <th>2686</th>\n",
       "      <td>2630</td>\n",
       "      <td>2541</td>\n",
       "      <td>2018-04-15</td>\n",
       "      <td>3.0</td>\n",
       "      <td>2.0</td>\n",
       "      <td>home</td>\n",
       "      <td>21</td>\n",
       "      <td>Anaheim Ducks</td>\n",
       "      <td>ANA</td>\n",
       "      <td>2017</td>\n",
       "      <td>3</td>\n",
       "      <td>2017 NHL Playoff</td>\n",
       "      <td>-1.0</td>\n",
       "      <td>0.0</td>\n",
       "    </tr>\n",
       "    <tr>\n",
       "      <th>2731</th>\n",
       "      <td>2554</td>\n",
       "      <td>2541</td>\n",
       "      <td>2018-04-15</td>\n",
       "      <td>3.0</td>\n",
       "      <td>7.0</td>\n",
       "      <td>home</td>\n",
       "      <td>20</td>\n",
       "      <td>Boston Bruins</td>\n",
       "      <td>BOS</td>\n",
       "      <td>2017</td>\n",
       "      <td>3</td>\n",
       "      <td>2017 NHL Playoff</td>\n",
       "      <td>4.0</td>\n",
       "      <td>1.0</td>\n",
       "    </tr>\n",
       "    <tr>\n",
       "      <th>2610</th>\n",
       "      <td>2554</td>\n",
       "      <td>2541</td>\n",
       "      <td>2018-04-15</td>\n",
       "      <td>7.0</td>\n",
       "      <td>3.0</td>\n",
       "      <td>away</td>\n",
       "      <td>1</td>\n",
       "      <td>Toronto Maple Leafs</td>\n",
       "      <td>TOR</td>\n",
       "      <td>2017</td>\n",
       "      <td>3</td>\n",
       "      <td>2017 NHL Playoff</td>\n",
       "      <td>4.0</td>\n",
       "      <td>0.0</td>\n",
       "    </tr>\n",
       "    <tr>\n",
       "      <th>2666</th>\n",
       "      <td>2609</td>\n",
       "      <td>2541</td>\n",
       "      <td>2018-04-15</td>\n",
       "      <td>6.0</td>\n",
       "      <td>2.0</td>\n",
       "      <td>away</td>\n",
       "      <td>4</td>\n",
       "      <td>Winnipeg Jets</td>\n",
       "      <td>WPG</td>\n",
       "      <td>2017</td>\n",
       "      <td>3</td>\n",
       "      <td>2017 NHL Playoff</td>\n",
       "      <td>4.0</td>\n",
       "      <td>0.0</td>\n",
       "    </tr>\n",
       "    <tr>\n",
       "      <th>2704</th>\n",
       "      <td>2568</td>\n",
       "      <td>2541</td>\n",
       "      <td>2018-04-15</td>\n",
       "      <td>4.0</td>\n",
       "      <td>5.0</td>\n",
       "      <td>away</td>\n",
       "      <td>52</td>\n",
       "      <td>Columbus Blue Jackets</td>\n",
       "      <td>CBJ</td>\n",
       "      <td>2017</td>\n",
       "      <td>3</td>\n",
       "      <td>2017 NHL Playoff</td>\n",
       "      <td>-1.0</td>\n",
       "      <td>1.0</td>\n",
       "    </tr>\n",
       "    <tr>\n",
       "      <th>2713</th>\n",
       "      <td>2630</td>\n",
       "      <td>2541</td>\n",
       "      <td>2018-04-15</td>\n",
       "      <td>2.0</td>\n",
       "      <td>3.0</td>\n",
       "      <td>away</td>\n",
       "      <td>16</td>\n",
       "      <td>San Jose Sharks</td>\n",
       "      <td>SJS</td>\n",
       "      <td>2017</td>\n",
       "      <td>3</td>\n",
       "      <td>2017 NHL Playoff</td>\n",
       "      <td>-1.0</td>\n",
       "      <td>1.0</td>\n",
       "    </tr>\n",
       "    <tr>\n",
       "      <th>2740</th>\n",
       "      <td>2583</td>\n",
       "      <td>2541</td>\n",
       "      <td>2018-04-15</td>\n",
       "      <td>1.0</td>\n",
       "      <td>5.0</td>\n",
       "      <td>away</td>\n",
       "      <td>8</td>\n",
       "      <td>Pittsburgh Penguins</td>\n",
       "      <td>PIT</td>\n",
       "      <td>2017</td>\n",
       "      <td>3</td>\n",
       "      <td>2017 NHL Playoff</td>\n",
       "      <td>-4.0</td>\n",
       "      <td>1.0</td>\n",
       "    </tr>\n",
       "  </tbody>\n",
       "</table>\n",
       "</div>"
      ],
      "text/plain": [
       "       gid  comp_id       date  goals_against  goals_for home_away  tid  \\\n",
       "2594  2568     2541 2018-04-15            5.0        4.0      home    5   \n",
       "2650  2583     2541 2018-04-15            5.0        1.0      home   14   \n",
       "2658  2609     2541 2018-04-15            2.0        6.0      home   35   \n",
       "2686  2630     2541 2018-04-15            3.0        2.0      home   21   \n",
       "2731  2554     2541 2018-04-15            3.0        7.0      home   20   \n",
       "2610  2554     2541 2018-04-15            7.0        3.0      away    1   \n",
       "2666  2609     2541 2018-04-15            6.0        2.0      away    4   \n",
       "2704  2568     2541 2018-04-15            4.0        5.0      away   52   \n",
       "2713  2630     2541 2018-04-15            2.0        3.0      away   16   \n",
       "2740  2583     2541 2018-04-15            1.0        5.0      away    8   \n",
       "\n",
       "                       name tricode  year  type  competition_name  hgd  win  \n",
       "2594    Washington Capitals     WSH  2017     3  2017 NHL Playoff -1.0  0.0  \n",
       "2650    Philadelphia Flyers     PHI  2017     3  2017 NHL Playoff -4.0  0.0  \n",
       "2658         Minnesota Wild     MIN  2017     3  2017 NHL Playoff  4.0  1.0  \n",
       "2686          Anaheim Ducks     ANA  2017     3  2017 NHL Playoff -1.0  0.0  \n",
       "2731          Boston Bruins     BOS  2017     3  2017 NHL Playoff  4.0  1.0  \n",
       "2610    Toronto Maple Leafs     TOR  2017     3  2017 NHL Playoff  4.0  0.0  \n",
       "2666          Winnipeg Jets     WPG  2017     3  2017 NHL Playoff  4.0  0.0  \n",
       "2704  Columbus Blue Jackets     CBJ  2017     3  2017 NHL Playoff -1.0  1.0  \n",
       "2713        San Jose Sharks     SJS  2017     3  2017 NHL Playoff -1.0  1.0  \n",
       "2740    Pittsburgh Penguins     PIT  2017     3  2017 NHL Playoff -4.0  1.0  "
      ]
     },
     "execution_count": 30,
     "metadata": {},
     "output_type": "execute_result"
    }
   ],
   "source": [
    "# (11) Append NHL_Home and NHL_Away\n",
    "NHL_Game = NHL_Home.append(NHL_Away)\n",
    "NHL_Game[NHL_Game['date']=='2018-04-15']"
   ]
  },
  {
   "cell_type": "code",
   "execution_count": 31,
   "metadata": {},
   "outputs": [
    {
     "data": {
      "text/html": [
       "<div>\n",
       "<style scoped>\n",
       "    .dataframe tbody tr th:only-of-type {\n",
       "        vertical-align: middle;\n",
       "    }\n",
       "\n",
       "    .dataframe tbody tr th {\n",
       "        vertical-align: top;\n",
       "    }\n",
       "\n",
       "    .dataframe thead th {\n",
       "        text-align: right;\n",
       "    }\n",
       "</style>\n",
       "<table border=\"1\" class=\"dataframe\">\n",
       "  <thead>\n",
       "    <tr style=\"text-align: right;\">\n",
       "      <th></th>\n",
       "      <th>tid</th>\n",
       "      <th>competition_name</th>\n",
       "      <th>type</th>\n",
       "      <th>goals_for</th>\n",
       "      <th>goals_against</th>\n",
       "      <th>win</th>\n",
       "      <th>game_count</th>\n",
       "      <th>name</th>\n",
       "      <th>tricode</th>\n",
       "    </tr>\n",
       "  </thead>\n",
       "  <tbody>\n",
       "    <tr>\n",
       "      <th>0</th>\n",
       "      <td>1</td>\n",
       "      <td>2010 NHL Regular Season</td>\n",
       "      <td>2</td>\n",
       "      <td>223.0</td>\n",
       "      <td>259.0</td>\n",
       "      <td>36.0</td>\n",
       "      <td>82</td>\n",
       "      <td>Toronto Maple Leafs</td>\n",
       "      <td>TOR</td>\n",
       "    </tr>\n",
       "    <tr>\n",
       "      <th>1</th>\n",
       "      <td>1</td>\n",
       "      <td>2011 NHL Regular Season</td>\n",
       "      <td>2</td>\n",
       "      <td>129.0</td>\n",
       "      <td>129.0</td>\n",
       "      <td>20.0</td>\n",
       "      <td>40</td>\n",
       "      <td>Toronto Maple Leafs</td>\n",
       "      <td>TOR</td>\n",
       "    </tr>\n",
       "    <tr>\n",
       "      <th>2</th>\n",
       "      <td>1</td>\n",
       "      <td>2012 NHL Playoff</td>\n",
       "      <td>3</td>\n",
       "      <td>18.0</td>\n",
       "      <td>22.0</td>\n",
       "      <td>3.0</td>\n",
       "      <td>7</td>\n",
       "      <td>Toronto Maple Leafs</td>\n",
       "      <td>TOR</td>\n",
       "    </tr>\n",
       "    <tr>\n",
       "      <th>3</th>\n",
       "      <td>1</td>\n",
       "      <td>2012 NHL Regular Season</td>\n",
       "      <td>2</td>\n",
       "      <td>144.0</td>\n",
       "      <td>129.0</td>\n",
       "      <td>25.0</td>\n",
       "      <td>46</td>\n",
       "      <td>Toronto Maple Leafs</td>\n",
       "      <td>TOR</td>\n",
       "    </tr>\n",
       "    <tr>\n",
       "      <th>4</th>\n",
       "      <td>1</td>\n",
       "      <td>2013 NHL Regular Season</td>\n",
       "      <td>2</td>\n",
       "      <td>231.0</td>\n",
       "      <td>250.0</td>\n",
       "      <td>38.0</td>\n",
       "      <td>79</td>\n",
       "      <td>Toronto Maple Leafs</td>\n",
       "      <td>TOR</td>\n",
       "    </tr>\n",
       "    <tr>\n",
       "      <th>...</th>\n",
       "      <td>...</td>\n",
       "      <td>...</td>\n",
       "      <td>...</td>\n",
       "      <td>...</td>\n",
       "      <td>...</td>\n",
       "      <td>...</td>\n",
       "      <td>...</td>\n",
       "      <td>...</td>\n",
       "      <td>...</td>\n",
       "    </tr>\n",
       "    <tr>\n",
       "      <th>364</th>\n",
       "      <td>66</td>\n",
       "      <td>2014 NHL Regular Season</td>\n",
       "      <td>2</td>\n",
       "      <td>191.0</td>\n",
       "      <td>228.0</td>\n",
       "      <td>30.0</td>\n",
       "      <td>82</td>\n",
       "      <td>Carolina Hurricanes</td>\n",
       "      <td>CAR</td>\n",
       "    </tr>\n",
       "    <tr>\n",
       "      <th>365</th>\n",
       "      <td>66</td>\n",
       "      <td>2015 NHL Regular Season</td>\n",
       "      <td>2</td>\n",
       "      <td>195.0</td>\n",
       "      <td>226.0</td>\n",
       "      <td>34.0</td>\n",
       "      <td>81</td>\n",
       "      <td>Carolina Hurricanes</td>\n",
       "      <td>CAR</td>\n",
       "    </tr>\n",
       "    <tr>\n",
       "      <th>366</th>\n",
       "      <td>66</td>\n",
       "      <td>2016 NHL Regular Season</td>\n",
       "      <td>2</td>\n",
       "      <td>219.0</td>\n",
       "      <td>243.0</td>\n",
       "      <td>35.5</td>\n",
       "      <td>82</td>\n",
       "      <td>Carolina Hurricanes</td>\n",
       "      <td>CAR</td>\n",
       "    </tr>\n",
       "    <tr>\n",
       "      <th>367</th>\n",
       "      <td>66</td>\n",
       "      <td>2017 NHL Regular Season</td>\n",
       "      <td>2</td>\n",
       "      <td>227.0</td>\n",
       "      <td>248.0</td>\n",
       "      <td>35.5</td>\n",
       "      <td>80</td>\n",
       "      <td>Carolina Hurricanes</td>\n",
       "      <td>CAR</td>\n",
       "    </tr>\n",
       "    <tr>\n",
       "      <th>368</th>\n",
       "      <td>11366</td>\n",
       "      <td>2010 NHL Regular Season</td>\n",
       "      <td>2</td>\n",
       "      <td>223.0</td>\n",
       "      <td>263.0</td>\n",
       "      <td>34.0</td>\n",
       "      <td>79</td>\n",
       "      <td>Atlanta Thrashers</td>\n",
       "      <td>ATL</td>\n",
       "    </tr>\n",
       "  </tbody>\n",
       "</table>\n",
       "<p>369 rows × 9 columns</p>\n",
       "</div>"
      ],
      "text/plain": [
       "       tid         competition_name  type  goals_for  goals_against   win  \\\n",
       "0        1  2010 NHL Regular Season     2      223.0          259.0  36.0   \n",
       "1        1  2011 NHL Regular Season     2      129.0          129.0  20.0   \n",
       "2        1         2012 NHL Playoff     3       18.0           22.0   3.0   \n",
       "3        1  2012 NHL Regular Season     2      144.0          129.0  25.0   \n",
       "4        1  2013 NHL Regular Season     2      231.0          250.0  38.0   \n",
       "..     ...                      ...   ...        ...            ...   ...   \n",
       "364     66  2014 NHL Regular Season     2      191.0          228.0  30.0   \n",
       "365     66  2015 NHL Regular Season     2      195.0          226.0  34.0   \n",
       "366     66  2016 NHL Regular Season     2      219.0          243.0  35.5   \n",
       "367     66  2017 NHL Regular Season     2      227.0          248.0  35.5   \n",
       "368  11366  2010 NHL Regular Season     2      223.0          263.0  34.0   \n",
       "\n",
       "     game_count                 name tricode  \n",
       "0            82  Toronto Maple Leafs     TOR  \n",
       "1            40  Toronto Maple Leafs     TOR  \n",
       "2             7  Toronto Maple Leafs     TOR  \n",
       "3            46  Toronto Maple Leafs     TOR  \n",
       "4            79  Toronto Maple Leafs     TOR  \n",
       "..          ...                  ...     ...  \n",
       "364          82  Carolina Hurricanes     CAR  \n",
       "365          81  Carolina Hurricanes     CAR  \n",
       "366          82  Carolina Hurricanes     CAR  \n",
       "367          80  Carolina Hurricanes     CAR  \n",
       "368          79    Atlanta Thrashers     ATL  \n",
       "\n",
       "[369 rows x 9 columns]"
      ]
     },
     "execution_count": 31,
     "metadata": {},
     "output_type": "execute_result"
    }
   ],
   "source": [
    "# (12-14) Generate a team level dataframe that aggregates the total number of games won, the total number of “goals_for” and “goals_against” for each team in each competition \n",
    "# (i.e. grouped by tid, competition_name and type). Name this new dataframe “NHL_Team_Stats”. Make sure to convert the indexes of the new dataframe back as  variables. \n",
    "NHL_Team_Stats = (NHL_Game.groupby(['tid','competition_name','type'])\n",
    "                          .agg({'goals_for':'sum','goals_against':'sum','win':'sum','gid':'count'})\n",
    "                          .rename({'gid':'game_count'},axis=1)\n",
    "                          .reset_index()\n",
    "                          .merge(NHL_Team, on='tid'))\n",
    "NHL_Team_Stats"
   ]
  },
  {
   "cell_type": "code",
   "execution_count": 32,
   "metadata": {},
   "outputs": [],
   "source": [
    "# (15) Import NHL PPPK Data and Display Head\n",
    "NHL_PPPK=pd.read_csv(\"Assignment Data/pp.pk.ppgf.csv\")\n",
    "NHL_Team_Stats = NHL_Team_Stats.merge(NHL_PPPK, on=['tricode','competition_name'])"
   ]
  },
  {
   "cell_type": "code",
   "execution_count": 33,
   "metadata": {},
   "outputs": [],
   "source": [
    "# (16) Create new variables in the “NHL_Team_Stats” dataframe.\n",
    "# a) Winning percentage (“win_pct”)=”win”/ total number of games played\n",
    "# b) Average goals for per game (“avg_gf”)=total number of goals for / total number of games played     \n",
    "# c) Average goals against per game (“avg_ga”)=total number of goals against / total number of games played\n",
    "NHL_Team_Stats['win_pct'] = NHL_Team_Stats['win'] / NHL_Team_Stats['game_count']\n",
    "NHL_Team_Stats['avg_gf'] = NHL_Team_Stats['goals_for'] / NHL_Team_Stats['game_count']\n",
    "NHL_Team_Stats['avg_ga'] = NHL_Team_Stats['goals_against'] / NHL_Team_Stats['game_count']"
   ]
  },
  {
   "cell_type": "code",
   "execution_count": 34,
   "metadata": {},
   "outputs": [],
   "source": [
    "# (17) In the “NHL_Competition” dataframe, the variable “type” indicates the type of competition: type=2 – regular season. \n",
    "# Create a dataframe that contains team statistics for games only during regular seasons. Name this dataframe “NHL_Team_R_Stats”. \n",
    "NHL_Team_R_Stats = NHL_Team_Stats[NHL_Team_Stats['type']==2]"
   ]
  },
  {
   "cell_type": "code",
   "execution_count": 35,
   "metadata": {},
   "outputs": [
    {
     "data": {
      "text/html": [
       "<div>\n",
       "<style scoped>\n",
       "    .dataframe tbody tr th:only-of-type {\n",
       "        vertical-align: middle;\n",
       "    }\n",
       "\n",
       "    .dataframe tbody tr th {\n",
       "        vertical-align: top;\n",
       "    }\n",
       "\n",
       "    .dataframe thead th {\n",
       "        text-align: right;\n",
       "    }\n",
       "</style>\n",
       "<table border=\"1\" class=\"dataframe\">\n",
       "  <thead>\n",
       "    <tr style=\"text-align: right;\">\n",
       "      <th></th>\n",
       "      <th>tid</th>\n",
       "      <th>competition_name</th>\n",
       "      <th>type</th>\n",
       "      <th>goals_for</th>\n",
       "      <th>goals_against</th>\n",
       "      <th>win</th>\n",
       "      <th>game_count</th>\n",
       "      <th>name</th>\n",
       "      <th>tricode</th>\n",
       "      <th>pp</th>\n",
       "      <th>pk</th>\n",
       "      <th>ppgf</th>\n",
       "      <th>win_pct</th>\n",
       "      <th>avg_gf</th>\n",
       "      <th>avg_ga</th>\n",
       "    </tr>\n",
       "  </thead>\n",
       "  <tbody>\n",
       "    <tr>\n",
       "      <th>0</th>\n",
       "      <td>1</td>\n",
       "      <td>2010 NHL Regular Season</td>\n",
       "      <td>2</td>\n",
       "      <td>223.0</td>\n",
       "      <td>259.0</td>\n",
       "      <td>36.0</td>\n",
       "      <td>82</td>\n",
       "      <td>Toronto Maple Leafs</td>\n",
       "      <td>TOR</td>\n",
       "      <td>368</td>\n",
       "      <td>426</td>\n",
       "      <td>46.0</td>\n",
       "      <td>0.439024</td>\n",
       "      <td>2.719512</td>\n",
       "      <td>3.158537</td>\n",
       "    </tr>\n",
       "    <tr>\n",
       "      <th>1</th>\n",
       "      <td>1</td>\n",
       "      <td>2011 NHL Regular Season</td>\n",
       "      <td>2</td>\n",
       "      <td>129.0</td>\n",
       "      <td>129.0</td>\n",
       "      <td>20.0</td>\n",
       "      <td>40</td>\n",
       "      <td>Toronto Maple Leafs</td>\n",
       "      <td>TOR</td>\n",
       "      <td>192</td>\n",
       "      <td>182</td>\n",
       "      <td>36.0</td>\n",
       "      <td>0.500000</td>\n",
       "      <td>3.225000</td>\n",
       "      <td>3.225000</td>\n",
       "    </tr>\n",
       "    <tr>\n",
       "      <th>3</th>\n",
       "      <td>1</td>\n",
       "      <td>2012 NHL Regular Season</td>\n",
       "      <td>2</td>\n",
       "      <td>144.0</td>\n",
       "      <td>129.0</td>\n",
       "      <td>25.0</td>\n",
       "      <td>46</td>\n",
       "      <td>Toronto Maple Leafs</td>\n",
       "      <td>TOR</td>\n",
       "      <td>234</td>\n",
       "      <td>230</td>\n",
       "      <td>39.0</td>\n",
       "      <td>0.543478</td>\n",
       "      <td>3.130435</td>\n",
       "      <td>2.804348</td>\n",
       "    </tr>\n",
       "    <tr>\n",
       "      <th>4</th>\n",
       "      <td>1</td>\n",
       "      <td>2013 NHL Regular Season</td>\n",
       "      <td>2</td>\n",
       "      <td>231.0</td>\n",
       "      <td>250.0</td>\n",
       "      <td>38.0</td>\n",
       "      <td>79</td>\n",
       "      <td>Toronto Maple Leafs</td>\n",
       "      <td>TOR</td>\n",
       "      <td>362</td>\n",
       "      <td>342</td>\n",
       "      <td>61.0</td>\n",
       "      <td>0.481013</td>\n",
       "      <td>2.924051</td>\n",
       "      <td>3.164557</td>\n",
       "    </tr>\n",
       "    <tr>\n",
       "      <th>5</th>\n",
       "      <td>1</td>\n",
       "      <td>2014 NHL Regular Season</td>\n",
       "      <td>2</td>\n",
       "      <td>209.0</td>\n",
       "      <td>258.0</td>\n",
       "      <td>29.0</td>\n",
       "      <td>78</td>\n",
       "      <td>Toronto Maple Leafs</td>\n",
       "      <td>TOR</td>\n",
       "      <td>319</td>\n",
       "      <td>343</td>\n",
       "      <td>54.0</td>\n",
       "      <td>0.371795</td>\n",
       "      <td>2.679487</td>\n",
       "      <td>3.307692</td>\n",
       "    </tr>\n",
       "    <tr>\n",
       "      <th>...</th>\n",
       "      <td>...</td>\n",
       "      <td>...</td>\n",
       "      <td>...</td>\n",
       "      <td>...</td>\n",
       "      <td>...</td>\n",
       "      <td>...</td>\n",
       "      <td>...</td>\n",
       "      <td>...</td>\n",
       "      <td>...</td>\n",
       "      <td>...</td>\n",
       "      <td>...</td>\n",
       "      <td>...</td>\n",
       "      <td>...</td>\n",
       "      <td>...</td>\n",
       "      <td>...</td>\n",
       "    </tr>\n",
       "    <tr>\n",
       "      <th>364</th>\n",
       "      <td>66</td>\n",
       "      <td>2014 NHL Regular Season</td>\n",
       "      <td>2</td>\n",
       "      <td>191.0</td>\n",
       "      <td>228.0</td>\n",
       "      <td>30.0</td>\n",
       "      <td>82</td>\n",
       "      <td>Carolina Hurricanes</td>\n",
       "      <td>CAR</td>\n",
       "      <td>239</td>\n",
       "      <td>289</td>\n",
       "      <td>55.0</td>\n",
       "      <td>0.365854</td>\n",
       "      <td>2.329268</td>\n",
       "      <td>2.780488</td>\n",
       "    </tr>\n",
       "    <tr>\n",
       "      <th>365</th>\n",
       "      <td>66</td>\n",
       "      <td>2015 NHL Regular Season</td>\n",
       "      <td>2</td>\n",
       "      <td>195.0</td>\n",
       "      <td>226.0</td>\n",
       "      <td>34.0</td>\n",
       "      <td>81</td>\n",
       "      <td>Carolina Hurricanes</td>\n",
       "      <td>CAR</td>\n",
       "      <td>247</td>\n",
       "      <td>281</td>\n",
       "      <td>48.0</td>\n",
       "      <td>0.419753</td>\n",
       "      <td>2.407407</td>\n",
       "      <td>2.790123</td>\n",
       "    </tr>\n",
       "    <tr>\n",
       "      <th>366</th>\n",
       "      <td>66</td>\n",
       "      <td>2016 NHL Regular Season</td>\n",
       "      <td>2</td>\n",
       "      <td>219.0</td>\n",
       "      <td>243.0</td>\n",
       "      <td>35.5</td>\n",
       "      <td>82</td>\n",
       "      <td>Carolina Hurricanes</td>\n",
       "      <td>CAR</td>\n",
       "      <td>224</td>\n",
       "      <td>258</td>\n",
       "      <td>57.0</td>\n",
       "      <td>0.432927</td>\n",
       "      <td>2.670732</td>\n",
       "      <td>2.963415</td>\n",
       "    </tr>\n",
       "    <tr>\n",
       "      <th>367</th>\n",
       "      <td>66</td>\n",
       "      <td>2017 NHL Regular Season</td>\n",
       "      <td>2</td>\n",
       "      <td>227.0</td>\n",
       "      <td>248.0</td>\n",
       "      <td>35.5</td>\n",
       "      <td>80</td>\n",
       "      <td>Carolina Hurricanes</td>\n",
       "      <td>CAR</td>\n",
       "      <td>218</td>\n",
       "      <td>255</td>\n",
       "      <td>51.0</td>\n",
       "      <td>0.443750</td>\n",
       "      <td>2.837500</td>\n",
       "      <td>3.100000</td>\n",
       "    </tr>\n",
       "    <tr>\n",
       "      <th>368</th>\n",
       "      <td>11366</td>\n",
       "      <td>2010 NHL Regular Season</td>\n",
       "      <td>2</td>\n",
       "      <td>223.0</td>\n",
       "      <td>263.0</td>\n",
       "      <td>34.0</td>\n",
       "      <td>79</td>\n",
       "      <td>Atlanta Thrashers</td>\n",
       "      <td>ATL</td>\n",
       "      <td>338</td>\n",
       "      <td>341</td>\n",
       "      <td>35.0</td>\n",
       "      <td>0.430380</td>\n",
       "      <td>2.822785</td>\n",
       "      <td>3.329114</td>\n",
       "    </tr>\n",
       "  </tbody>\n",
       "</table>\n",
       "<p>241 rows × 15 columns</p>\n",
       "</div>"
      ],
      "text/plain": [
       "       tid         competition_name  type  goals_for  goals_against   win  \\\n",
       "0        1  2010 NHL Regular Season     2      223.0          259.0  36.0   \n",
       "1        1  2011 NHL Regular Season     2      129.0          129.0  20.0   \n",
       "3        1  2012 NHL Regular Season     2      144.0          129.0  25.0   \n",
       "4        1  2013 NHL Regular Season     2      231.0          250.0  38.0   \n",
       "5        1  2014 NHL Regular Season     2      209.0          258.0  29.0   \n",
       "..     ...                      ...   ...        ...            ...   ...   \n",
       "364     66  2014 NHL Regular Season     2      191.0          228.0  30.0   \n",
       "365     66  2015 NHL Regular Season     2      195.0          226.0  34.0   \n",
       "366     66  2016 NHL Regular Season     2      219.0          243.0  35.5   \n",
       "367     66  2017 NHL Regular Season     2      227.0          248.0  35.5   \n",
       "368  11366  2010 NHL Regular Season     2      223.0          263.0  34.0   \n",
       "\n",
       "     game_count                 name tricode   pp   pk  ppgf   win_pct  \\\n",
       "0            82  Toronto Maple Leafs     TOR  368  426  46.0  0.439024   \n",
       "1            40  Toronto Maple Leafs     TOR  192  182  36.0  0.500000   \n",
       "3            46  Toronto Maple Leafs     TOR  234  230  39.0  0.543478   \n",
       "4            79  Toronto Maple Leafs     TOR  362  342  61.0  0.481013   \n",
       "5            78  Toronto Maple Leafs     TOR  319  343  54.0  0.371795   \n",
       "..          ...                  ...     ...  ...  ...   ...       ...   \n",
       "364          82  Carolina Hurricanes     CAR  239  289  55.0  0.365854   \n",
       "365          81  Carolina Hurricanes     CAR  247  281  48.0  0.419753   \n",
       "366          82  Carolina Hurricanes     CAR  224  258  57.0  0.432927   \n",
       "367          80  Carolina Hurricanes     CAR  218  255  51.0  0.443750   \n",
       "368          79    Atlanta Thrashers     ATL  338  341  35.0  0.430380   \n",
       "\n",
       "       avg_gf    avg_ga  \n",
       "0    2.719512  3.158537  \n",
       "1    3.225000  3.225000  \n",
       "3    3.130435  2.804348  \n",
       "4    2.924051  3.164557  \n",
       "5    2.679487  3.307692  \n",
       "..        ...       ...  \n",
       "364  2.329268  2.780488  \n",
       "365  2.407407  2.790123  \n",
       "366  2.670732  2.963415  \n",
       "367  2.837500  3.100000  \n",
       "368  2.822785  3.329114  \n",
       "\n",
       "[241 rows x 15 columns]"
      ]
     },
     "execution_count": 35,
     "metadata": {},
     "output_type": "execute_result"
    }
   ],
   "source": [
    "NHL_Team_R_Stats"
   ]
  },
  {
   "cell_type": "markdown",
   "metadata": {},
   "source": [
    "## Part 2 - Calculating Summary Statistics\n",
    "1. In the “NHL_Game” dataframe, calculate summary statistics for the  “goals_for” variable; calculate summary statistics for the “goals_against” variable based on whether it is home or away game.\n",
    "\n",
    "2. Create a histogram of the “goals_against” variable by whether the game is home or away \n",
    "   1. Make the color of the histogram green\n",
    "   2. Set the number of bins to be 20\n",
    "   3. Make sure the two sub-histograms share the same ranges for the x-axis and y-axis."
   ]
  },
  {
   "cell_type": "code",
   "execution_count": 37,
   "metadata": {},
   "outputs": [
    {
     "name": "stdout",
     "output_type": "stream",
     "text": [
      "2.825894304549876 1.6547285368384588\n"
     ]
    }
   ],
   "source": [
    "# (1) Mean and std\n",
    "print(NHL_Game['goals_for'].mean(), NHL_Game['goals_for'].std())"
   ]
  },
  {
   "cell_type": "code",
   "execution_count": 40,
   "metadata": {},
   "outputs": [
    {
     "name": "stdout",
     "output_type": "stream",
     "text": [
      "2.6898303252999027\n",
      "2.9619582837998486\n"
     ]
    }
   ],
   "source": [
    "# (2) What is the mean of the total number of goals against for home games? \n",
    "# What is the mean of the total number of goals against for away games?\n",
    "print(NHL_Game[NHL_Game['home_away']=='home']['goals_against'].mean())\n",
    "print(NHL_Game[NHL_Game['home_away']=='away']['goals_against'].mean())"
   ]
  },
  {
   "cell_type": "code",
   "execution_count": 47,
   "metadata": {},
   "outputs": [
    {
     "data": {
      "image/png": "[encoded data removed]",
      "text/plain": [
       "<Figure size 432x288 with 1 Axes>"
      ]
     },
     "metadata": {
      "needs_background": "light"
     },
     "output_type": "display_data"
    }
   ],
   "source": [
    "plt.hist(NHL_Game[NHL_Game['home_away']=='home']['goals_against'], bins=20)\n",
    "plt.title('home')\n",
    "_ = plt.show()"
   ]
  },
  {
   "cell_type": "code",
   "execution_count": 48,
   "metadata": {},
   "outputs": [
    {
     "data": {
      "image/png": "[encoded data removed]",
      "text/plain": [
       "<Figure size 432x288 with 1 Axes>"
      ]
     },
     "metadata": {
      "needs_background": "light"
     },
     "output_type": "display_data"
    }
   ],
   "source": [
    "plt.hist(NHL_Game[NHL_Game['home_away']=='away']['goals_against'], bins=20)\n",
    "plt.title('away')\n",
    "_ = plt.show()"
   ]
  },
  {
   "cell_type": "markdown",
   "metadata": {},
   "source": [
    "## Part 3 - Correlation Analyses\n"
   ]
  },
  {
   "cell_type": "markdown",
   "metadata": {},
   "source": [
    "1. In the “NHL_Team_R_Stats” dataframe, make a scatter plot to depict the relationship between the total number of goals for and the winning percentage. \n",
    "   1. Plot the total number of goals for on the x-axis and winning percentage on the y-axis.\n",
    "   2. Add a regression line to the scatter plot.\n",
    "   3. Make the title of the graph “Relationship between Goals for and Winning Percentage” and make the font size 11.\n",
    "   4. Label the x-axis “Total Goals for” and label the y-axis “Winning Percentage”."
   ]
  },
  {
   "cell_type": "code",
   "execution_count": 49,
   "metadata": {},
   "outputs": [
    {
     "data": {
      "text/plain": [
       "Text(0.5, 1.0, 'Relationship between Goals For and Winning Percentage')"
      ]
     },
     "execution_count": 49,
     "metadata": {},
     "output_type": "execute_result"
    },
    {
     "data": {
      "image/png": "[encoded data removed]",
      "text/plain": [
       "<Figure size 360x360 with 1 Axes>"
      ]
     },
     "metadata": {
      "needs_background": "light"
     },
     "output_type": "display_data"
    }
   ],
   "source": [
    "sns.lmplot(x='goals_for',y='win_pct',data=NHL_Team_R_Stats,fit_reg=True)\n",
    "plt.xlabel('Total Goals For')\n",
    "plt.ylabel('Winning Percentage')\n",
    "plt.title('Relationship between Goals For and Winning Percentage', fontsize=11)"
   ]
  },
  {
   "cell_type": "markdown",
   "metadata": {},
   "source": [
    "2. In the “NHL_Team_R_Stats” dataframe, calculate the correlation coefficient between total number of goals for and winning percentage."
   ]
  },
  {
   "cell_type": "code",
   "execution_count": 50,
   "metadata": {},
   "outputs": [
    {
     "data": {
      "text/plain": [
       "0.31566456280848143"
      ]
     },
     "execution_count": 50,
     "metadata": {},
     "output_type": "execute_result"
    }
   ],
   "source": [
    "NHL_Team_R_Stats['goals_for'].corr(NHL_Team_R_Stats['win_pct'])"
   ]
  },
  {
   "cell_type": "markdown",
   "metadata": {},
   "source": [
    "3. Create a scatter plot of the total number of goals for and winning percentage similar to step 1 for regular season games. In this graph, group observations by “competition_name”.\n",
    "   1. Plot the total number of goals for on the x-axis and winning percentage on the y-axis.\n",
    "   2. Add a regression line to the scatter plot.\n",
    "   3. Make the title of the graph “Relationship between Goals for and Winning Percentage” and make the font size 11.\n",
    "   4. Label the x-axis “Total Goals for” and label the y-axis “Winning Percentage”."
   ]
  },
  {
   "cell_type": "code",
   "execution_count": 51,
   "metadata": {},
   "outputs": [
    {
     "data": {
      "text/plain": [
       "Text(0.5, 1.0, 'Relationship between Goals For and Winning Percentage')"
      ]
     },
     "execution_count": 51,
     "metadata": {},
     "output_type": "execute_result"
    },
    {
     "data": {
      "image/png": "[encoded data removed]",
      "text/plain": [
       "<Figure size 525.875x360 with 1 Axes>"
      ]
     },
     "metadata": {
      "needs_background": "light"
     },
     "output_type": "display_data"
    }
   ],
   "source": [
    "sns.lmplot(x='goals_for',y='win_pct',data=NHL_Team_R_Stats,fit_reg=True,hue='competition_name')\n",
    "plt.xlabel('Total Goals For')\n",
    "plt.ylabel('Winning Percentage')\n",
    "plt.title('Relationship between Goals For and Winning Percentage', fontsize=11)"
   ]
  },
  {
   "cell_type": "markdown",
   "metadata": {},
   "source": [
    "4. For the “NHL_Team_R_Stats” dataframe, delete observations of 2011 and 2012 seasons. Continue to name the dataframe “NHL_Team_R_Stats”."
   ]
  },
  {
   "cell_type": "code",
   "execution_count": 57,
   "metadata": {},
   "outputs": [],
   "source": [
    "inds = NHL_Team_R_Stats[(NHL_Team_R_Stats['competition_name']=='2011 NHL Regular Season')|(NHL_Team_R_Stats['competition_name']=='2012 NHL Regular Season')].index\n",
    "NHL_Team_R_Stats = NHL_Team_R_Stats.drop(inds)"
   ]
  },
  {
   "cell_type": "markdown",
   "metadata": {},
   "source": [
    "5. In the new “NHL_Team_R_Stats” dataframe, create a scatter plot of total number of goals for and winning percentage.\n",
    "   1. Plot the total number of goals for on the x-axis and winning percentage on the y-axis.\n",
    "   2. Add a regression line to the scatter plot.\n",
    "   3. Make the title of the graph “Relationship between Goals for and Winning Percentage” and make the font size 11.\n",
    "   4. Label the x-axis “Total Goals for” and label the y-axis “Winning Percentage”."
   ]
  },
  {
   "cell_type": "code",
   "execution_count": 58,
   "metadata": {},
   "outputs": [
    {
     "data": {
      "text/plain": [
       "Text(0.5, 1.0, 'Relationship between Goals For and Winning Percentage')"
      ]
     },
     "execution_count": 58,
     "metadata": {},
     "output_type": "execute_result"
    },
    {
     "data": {
      "image/png": "[encoded data removed]",
      "text/plain": [
       "<Figure size 360x360 with 1 Axes>"
      ]
     },
     "metadata": {
      "needs_background": "light"
     },
     "output_type": "display_data"
    }
   ],
   "source": [
    "sns.lmplot(x='goals_for',y='win_pct',data=NHL_Team_R_Stats,fit_reg=True)\n",
    "plt.xlabel('Total Goals For')\n",
    "plt.ylabel('Winning Percentage')\n",
    "plt.title('Relationship between Goals For and Winning Percentage', fontsize=11)"
   ]
  },
  {
   "cell_type": "markdown",
   "metadata": {},
   "source": [
    "6. Calculate the correlation coefficient between total number of goals for and winning percentage in the updated “NHL_Team_R_Stats” dataframe."
   ]
  },
  {
   "cell_type": "code",
   "execution_count": 59,
   "metadata": {},
   "outputs": [
    {
     "data": {
      "text/plain": [
       "0.7706255321801442"
      ]
     },
     "execution_count": 59,
     "metadata": {},
     "output_type": "execute_result"
    }
   ],
   "source": [
    "NHL_Team_R_Stats['goals_for'].corr(NHL_Team_R_Stats['win_pct'])"
   ]
  },
  {
   "cell_type": "markdown",
   "metadata": {},
   "source": [
    "## Uncomment this Section once your assignment is complete"
   ]
  },
  {
   "cell_type": "code",
   "execution_count": null,
   "metadata": {},
   "outputs": [],
   "source": [
    "#Save Dataframes as .csv files\n",
    "#NHL_Game.to_csv(\"NHL_Game2.csv\", index=False)\n",
    "#NHL_Team_Stats.to_csv(\"NHL_Team_Stats.csv\", index=False)\n",
    "#NHL_Team_R_Stats.to_csv(\"NHL_Team_R_Stats.csv\", index=False)"
   ]
  }
 ],
 "metadata": {
  "kernelspec": {
   "display_name": "Python 3",
   "language": "python",
   "name": "python3"
  },
  "language_info": {
   "codemirror_mode": {
    "name": "ipython",
    "version": 3
   },
   "file_extension": ".py",
   "mimetype": "text/x-python",
   "name": "python",
   "nbconvert_exporter": "python",
   "pygments_lexer": "ipython3",
   "version": "3.8.8"
  }
 },
 "nbformat": 4,
 "nbformat_minor": 4
}
