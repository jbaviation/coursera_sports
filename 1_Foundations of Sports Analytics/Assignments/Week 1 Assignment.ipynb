{
 "cells": [
  {
   "cell_type": "markdown",
   "metadata": {},
   "source": [
    "# English Premier League (EPL) Pythagorean Predictor"
   ]
  },
  {
   "cell_type": "markdown",
   "metadata": {},
   "source": [
    "## Assignment Overview\n",
    "In week 1 we have looked at the relationship between team win percentage and Pythagorean expectation in four different professional team sport leagues. We concluded the week by comparing the predictive value of Pythagorean expectation and win percentage from one half of a season to the second half of the season win percentage. We did this using Major League Baseball data. The assignment is to repeat this exercise using data for the English Premier League (EPL). For this you are provided with an Excel datafile (EPL2018-18.xlsx) containing all match results for the 2017/18 season (380 games). You will need to load the datafile and then adapt the code we used for Major League Baseball to the case of the EPL.\n",
    "\n",
    "**Beware:** even though your code might get you to the correct answer at a given point, it is sometimes possible that the way you write it might interfere with completing a further step. So even if you get the answer right, you should look at the code we supply to check if you are going the same way. In practice, there are often many ways to get to answer in Python, and we do not insist that you follow our approach exactly – but simply warn you to be aware that differences could turn out to be problematic later.  \n",
    "\n",
    "As much as possible, copy and paste lines of code from Notebook 5: “Pythagorean expectation as predictor in MLB”, and then adapt the text to this context.\n",
    "\n",
    "These are the steps you need to take to complete the assignment:\n",
    "\n",
    "1. Load the datafile (this contains 6 variables: the date, home team, away team, goals scored (FTHG), goals against (FTAG) andthe result (H- home win, D- draw, A – away win).\n",
    "2. Create a value for a home wins (win= 1, draw=0.5, loss= 0) and away wins and a count variable for each game (=1).\n",
    "3. Create a file for games played in 2017 (before date 20180000) and another one for games played in 2018 (after date 20180000). For the 2017 games, **use .groupby to create a dataframe aggregating by home team** the variables for count, home wins, goals for and goals against.  Then, **use .groupby to create a separate dataframe aggregating by away team** the variables for count, away wins, goals for and goals against. Rename the variables to denote whether they are aggregates for home team or away team.\n",
    "4. Then merge the home and away dataframes.\n",
    "5. Sum the values of home and away wins, games, goals for and goals against, then create the values for win percentage (wpc) and the Pythagorean expectation (pyth). \n",
    "6. Now repeat steps 4-6 for the 2018 games. Be sure to give different names for wpc and pyth in 2017 and 2018.\n",
    "7. Now merge 2017 and 2018 summary files.\n",
    "8. Now generate a correlation matrix for the wpc and pyth variables for 2017 and 2018"
   ]
  },
  {
   "cell_type": "markdown",
   "metadata": {},
   "source": [
    "## Step 1"
   ]
  },
  {
   "cell_type": "code",
   "execution_count": 3,
   "metadata": {},
   "outputs": [],
   "source": [
    "# Load the packages\n",
    "import pandas as pd\n",
    "import numpy as np\n",
    "import statsmodels.formula.api as smf\n",
    "import matplotlib.pyplot as plt\n",
    "import seaborn as sns\n",
    "import os"
   ]
  },
  {
   "cell_type": "code",
   "execution_count": 26,
   "metadata": {},
   "outputs": [
    {
     "data": {
      "text/html": [
       "<div>\n",
       "<style scoped>\n",
       "    .dataframe tbody tr th:only-of-type {\n",
       "        vertical-align: middle;\n",
       "    }\n",
       "\n",
       "    .dataframe tbody tr th {\n",
       "        vertical-align: top;\n",
       "    }\n",
       "\n",
       "    .dataframe thead th {\n",
       "        text-align: right;\n",
       "    }\n",
       "</style>\n",
       "<table border=\"1\" class=\"dataframe\">\n",
       "  <thead>\n",
       "    <tr style=\"text-align: right;\">\n",
       "      <th></th>\n",
       "      <th>Date</th>\n",
       "      <th>HomeTeam</th>\n",
       "      <th>AwayTeam</th>\n",
       "      <th>FTHG</th>\n",
       "      <th>FTAG</th>\n",
       "      <th>FTR</th>\n",
       "    </tr>\n",
       "  </thead>\n",
       "  <tbody>\n",
       "    <tr>\n",
       "      <th>0</th>\n",
       "      <td>20170811</td>\n",
       "      <td>Arsenal</td>\n",
       "      <td>Leicester</td>\n",
       "      <td>4</td>\n",
       "      <td>3</td>\n",
       "      <td>H</td>\n",
       "    </tr>\n",
       "    <tr>\n",
       "      <th>1</th>\n",
       "      <td>20170812</td>\n",
       "      <td>Brighton</td>\n",
       "      <td>Man City</td>\n",
       "      <td>0</td>\n",
       "      <td>2</td>\n",
       "      <td>A</td>\n",
       "    </tr>\n",
       "    <tr>\n",
       "      <th>2</th>\n",
       "      <td>20170812</td>\n",
       "      <td>Chelsea</td>\n",
       "      <td>Burnley</td>\n",
       "      <td>2</td>\n",
       "      <td>3</td>\n",
       "      <td>A</td>\n",
       "    </tr>\n",
       "    <tr>\n",
       "      <th>3</th>\n",
       "      <td>20170812</td>\n",
       "      <td>Crystal Palace</td>\n",
       "      <td>Huddersfield</td>\n",
       "      <td>0</td>\n",
       "      <td>3</td>\n",
       "      <td>A</td>\n",
       "    </tr>\n",
       "    <tr>\n",
       "      <th>4</th>\n",
       "      <td>20170812</td>\n",
       "      <td>Everton</td>\n",
       "      <td>Stoke</td>\n",
       "      <td>1</td>\n",
       "      <td>0</td>\n",
       "      <td>H</td>\n",
       "    </tr>\n",
       "  </tbody>\n",
       "</table>\n",
       "</div>"
      ],
      "text/plain": [
       "       Date        HomeTeam      AwayTeam  FTHG  FTAG FTR\n",
       "0  20170811         Arsenal     Leicester     4     3   H\n",
       "1  20170812        Brighton      Man City     0     2   A\n",
       "2  20170812         Chelsea       Burnley     2     3   A\n",
       "3  20170812  Crystal Palace  Huddersfield     0     3   A\n",
       "4  20170812         Everton         Stoke     1     0   H"
      ]
     },
     "execution_count": 26,
     "metadata": {},
     "output_type": "execute_result"
    }
   ],
   "source": [
    "# Load the data. \n",
    "# EPL results for the 2017/18 season\n",
    "\n",
    "EPL = pd.read_excel('Assignment Data/EPL2017-18.xlsx')\n",
    "EPL.head()"
   ]
  },
  {
   "cell_type": "markdown",
   "metadata": {},
   "source": [
    "## Step 2"
   ]
  },
  {
   "cell_type": "code",
   "execution_count": 33,
   "metadata": {},
   "outputs": [
    {
     "data": {
      "text/html": [
       "<div>\n",
       "<style scoped>\n",
       "    .dataframe tbody tr th:only-of-type {\n",
       "        vertical-align: middle;\n",
       "    }\n",
       "\n",
       "    .dataframe tbody tr th {\n",
       "        vertical-align: top;\n",
       "    }\n",
       "\n",
       "    .dataframe thead th {\n",
       "        text-align: right;\n",
       "    }\n",
       "</style>\n",
       "<table border=\"1\" class=\"dataframe\">\n",
       "  <thead>\n",
       "    <tr style=\"text-align: right;\">\n",
       "      <th></th>\n",
       "      <th>Date</th>\n",
       "      <th>HomeTeam</th>\n",
       "      <th>AwayTeam</th>\n",
       "      <th>FTHG</th>\n",
       "      <th>FTAG</th>\n",
       "      <th>FTR</th>\n",
       "      <th>HWins</th>\n",
       "      <th>AWins</th>\n",
       "      <th>count</th>\n",
       "    </tr>\n",
       "  </thead>\n",
       "  <tbody>\n",
       "    <tr>\n",
       "      <th>0</th>\n",
       "      <td>2017-08-11</td>\n",
       "      <td>Arsenal</td>\n",
       "      <td>Leicester</td>\n",
       "      <td>4</td>\n",
       "      <td>3</td>\n",
       "      <td>H</td>\n",
       "      <td>1.0</td>\n",
       "      <td>0.0</td>\n",
       "      <td>1</td>\n",
       "    </tr>\n",
       "    <tr>\n",
       "      <th>1</th>\n",
       "      <td>2017-08-12</td>\n",
       "      <td>Brighton</td>\n",
       "      <td>Man City</td>\n",
       "      <td>0</td>\n",
       "      <td>2</td>\n",
       "      <td>A</td>\n",
       "      <td>0.0</td>\n",
       "      <td>1.0</td>\n",
       "      <td>1</td>\n",
       "    </tr>\n",
       "    <tr>\n",
       "      <th>2</th>\n",
       "      <td>2017-08-12</td>\n",
       "      <td>Chelsea</td>\n",
       "      <td>Burnley</td>\n",
       "      <td>2</td>\n",
       "      <td>3</td>\n",
       "      <td>A</td>\n",
       "      <td>0.0</td>\n",
       "      <td>1.0</td>\n",
       "      <td>1</td>\n",
       "    </tr>\n",
       "    <tr>\n",
       "      <th>3</th>\n",
       "      <td>2017-08-12</td>\n",
       "      <td>Crystal Palace</td>\n",
       "      <td>Huddersfield</td>\n",
       "      <td>0</td>\n",
       "      <td>3</td>\n",
       "      <td>A</td>\n",
       "      <td>0.0</td>\n",
       "      <td>1.0</td>\n",
       "      <td>1</td>\n",
       "    </tr>\n",
       "    <tr>\n",
       "      <th>4</th>\n",
       "      <td>2017-08-12</td>\n",
       "      <td>Everton</td>\n",
       "      <td>Stoke</td>\n",
       "      <td>1</td>\n",
       "      <td>0</td>\n",
       "      <td>H</td>\n",
       "      <td>1.0</td>\n",
       "      <td>0.0</td>\n",
       "      <td>1</td>\n",
       "    </tr>\n",
       "    <tr>\n",
       "      <th>...</th>\n",
       "      <td>...</td>\n",
       "      <td>...</td>\n",
       "      <td>...</td>\n",
       "      <td>...</td>\n",
       "      <td>...</td>\n",
       "      <td>...</td>\n",
       "      <td>...</td>\n",
       "      <td>...</td>\n",
       "      <td>...</td>\n",
       "    </tr>\n",
       "    <tr>\n",
       "      <th>375</th>\n",
       "      <td>2018-05-13</td>\n",
       "      <td>Newcastle</td>\n",
       "      <td>Chelsea</td>\n",
       "      <td>3</td>\n",
       "      <td>0</td>\n",
       "      <td>H</td>\n",
       "      <td>1.0</td>\n",
       "      <td>0.0</td>\n",
       "      <td>1</td>\n",
       "    </tr>\n",
       "    <tr>\n",
       "      <th>376</th>\n",
       "      <td>2018-05-13</td>\n",
       "      <td>Southampton</td>\n",
       "      <td>Man City</td>\n",
       "      <td>0</td>\n",
       "      <td>1</td>\n",
       "      <td>A</td>\n",
       "      <td>0.0</td>\n",
       "      <td>1.0</td>\n",
       "      <td>1</td>\n",
       "    </tr>\n",
       "    <tr>\n",
       "      <th>377</th>\n",
       "      <td>2018-05-13</td>\n",
       "      <td>Swansea</td>\n",
       "      <td>Stoke</td>\n",
       "      <td>1</td>\n",
       "      <td>2</td>\n",
       "      <td>A</td>\n",
       "      <td>0.0</td>\n",
       "      <td>1.0</td>\n",
       "      <td>1</td>\n",
       "    </tr>\n",
       "    <tr>\n",
       "      <th>378</th>\n",
       "      <td>2018-05-13</td>\n",
       "      <td>Tottenham</td>\n",
       "      <td>Leicester</td>\n",
       "      <td>5</td>\n",
       "      <td>4</td>\n",
       "      <td>H</td>\n",
       "      <td>1.0</td>\n",
       "      <td>0.0</td>\n",
       "      <td>1</td>\n",
       "    </tr>\n",
       "    <tr>\n",
       "      <th>379</th>\n",
       "      <td>2018-05-13</td>\n",
       "      <td>West Ham</td>\n",
       "      <td>Everton</td>\n",
       "      <td>3</td>\n",
       "      <td>1</td>\n",
       "      <td>H</td>\n",
       "      <td>1.0</td>\n",
       "      <td>0.0</td>\n",
       "      <td>1</td>\n",
       "    </tr>\n",
       "  </tbody>\n",
       "</table>\n",
       "<p>380 rows × 9 columns</p>\n",
       "</div>"
      ],
      "text/plain": [
       "          Date        HomeTeam      AwayTeam  FTHG  FTAG FTR  HWins  AWins  \\\n",
       "0   2017-08-11         Arsenal     Leicester     4     3   H    1.0    0.0   \n",
       "1   2017-08-12        Brighton      Man City     0     2   A    0.0    1.0   \n",
       "2   2017-08-12         Chelsea       Burnley     2     3   A    0.0    1.0   \n",
       "3   2017-08-12  Crystal Palace  Huddersfield     0     3   A    0.0    1.0   \n",
       "4   2017-08-12         Everton         Stoke     1     0   H    1.0    0.0   \n",
       "..         ...             ...           ...   ...   ...  ..    ...    ...   \n",
       "375 2018-05-13       Newcastle       Chelsea     3     0   H    1.0    0.0   \n",
       "376 2018-05-13     Southampton      Man City     0     1   A    0.0    1.0   \n",
       "377 2018-05-13         Swansea         Stoke     1     2   A    0.0    1.0   \n",
       "378 2018-05-13       Tottenham     Leicester     5     4   H    1.0    0.0   \n",
       "379 2018-05-13        West Ham       Everton     3     1   H    1.0    0.0   \n",
       "\n",
       "     count  \n",
       "0        1  \n",
       "1        1  \n",
       "2        1  \n",
       "3        1  \n",
       "4        1  \n",
       "..     ...  \n",
       "375      1  \n",
       "376      1  \n",
       "377      1  \n",
       "378      1  \n",
       "379      1  \n",
       "\n",
       "[380 rows x 9 columns]"
      ]
     },
     "execution_count": 33,
     "metadata": {},
     "output_type": "execute_result"
    }
   ],
   "source": [
    "hwins = {'H': 1, 'A': 0, 'D': 0.5}\n",
    "awins = {'H': 0, 'A': 1, 'D': 0.5}\n",
    "\n",
    "EPL['HWins'] = EPL.apply(lambda row: hwins[row['FTR']], axis=1)\n",
    "EPL['AWins'] = EPL.apply(lambda row: awins[row['FTR']], axis=1)\n",
    "EPL['count'] = 1\n",
    "EPL['Date'] = pd.to_datetime(EPL['Date'], format='%Y%m%d')\n",
    "EPL"
   ]
  },
  {
   "cell_type": "markdown",
   "metadata": {},
   "source": [
    "## Step 3"
   ]
  },
  {
   "cell_type": "code",
   "execution_count": 72,
   "metadata": {
    "scrolled": true
   },
   "outputs": [],
   "source": [
    "# Break into seasons\n",
    "EPL17 = EPL[EPL['Date']<'2018-01-01']\n",
    "EPL18 = EPL[EPL['Date']>'2018-01-01']\n",
    "\n",
    "# Groupby home and away teams for count, wins, goals for and goals against\n",
    "EPL17hm = (EPL17.groupby('HomeTeam').sum().loc[:,['count','HWins','FTHG','FTAG']].reset_index()\n",
    "                .rename({'HomeTeam':'team','count':'Ph','FTHG':'FTHGh','FTAG':'FTAGh'},axis=1))\n",
    "EPL17aw = (EPL17.groupby('AwayTeam').sum().loc[:,['count','AWins','FTAG','FTHG']].reset_index()\n",
    "               .rename({'AwayTeam':'team','count':'Pa','FTHG':'FTHGa','FTAG':'FTAGa'},axis=1))\n"
   ]
  },
  {
   "cell_type": "code",
   "execution_count": 42,
   "metadata": {},
   "outputs": [
    {
     "data": {
      "text/html": [
       "<div>\n",
       "<style scoped>\n",
       "    .dataframe tbody tr th:only-of-type {\n",
       "        vertical-align: middle;\n",
       "    }\n",
       "\n",
       "    .dataframe tbody tr th {\n",
       "        vertical-align: top;\n",
       "    }\n",
       "\n",
       "    .dataframe thead th {\n",
       "        text-align: right;\n",
       "    }\n",
       "</style>\n",
       "<table border=\"1\" class=\"dataframe\">\n",
       "  <thead>\n",
       "    <tr style=\"text-align: right;\">\n",
       "      <th></th>\n",
       "      <th>team</th>\n",
       "      <th>Pa</th>\n",
       "      <th>AWins</th>\n",
       "      <th>FTAGa</th>\n",
       "      <th>FTHGa</th>\n",
       "    </tr>\n",
       "  </thead>\n",
       "  <tbody>\n",
       "    <tr>\n",
       "      <th>0</th>\n",
       "      <td>Arsenal</td>\n",
       "      <td>11</td>\n",
       "      <td>5.0</td>\n",
       "      <td>13</td>\n",
       "      <td>16</td>\n",
       "    </tr>\n",
       "    <tr>\n",
       "      <th>1</th>\n",
       "      <td>Bournemouth</td>\n",
       "      <td>10</td>\n",
       "      <td>3.0</td>\n",
       "      <td>6</td>\n",
       "      <td>15</td>\n",
       "    </tr>\n",
       "    <tr>\n",
       "      <th>2</th>\n",
       "      <td>Brighton</td>\n",
       "      <td>11</td>\n",
       "      <td>3.0</td>\n",
       "      <td>5</td>\n",
       "      <td>13</td>\n",
       "    </tr>\n",
       "    <tr>\n",
       "      <th>3</th>\n",
       "      <td>Burnley</td>\n",
       "      <td>11</td>\n",
       "      <td>6.5</td>\n",
       "      <td>11</td>\n",
       "      <td>11</td>\n",
       "    </tr>\n",
       "    <tr>\n",
       "      <th>4</th>\n",
       "      <td>Chelsea</td>\n",
       "      <td>10</td>\n",
       "      <td>7.0</td>\n",
       "      <td>18</td>\n",
       "      <td>7</td>\n",
       "    </tr>\n",
       "  </tbody>\n",
       "</table>\n",
       "</div>"
      ],
      "text/plain": [
       "          team  Pa  AWins  FTAGa  FTHGa\n",
       "0      Arsenal  11    5.0     13     16\n",
       "1  Bournemouth  10    3.0      6     15\n",
       "2     Brighton  11    3.0      5     13\n",
       "3      Burnley  11    6.5     11     11\n",
       "4      Chelsea  10    7.0     18      7"
      ]
     },
     "execution_count": 42,
     "metadata": {},
     "output_type": "execute_result"
    }
   ],
   "source": [
    "EPL17aw.head()"
   ]
  },
  {
   "cell_type": "markdown",
   "metadata": {},
   "source": [
    "## Step 4 (home team)"
   ]
  },
  {
   "cell_type": "code",
   "execution_count": 46,
   "metadata": {},
   "outputs": [
    {
     "data": {
      "text/html": [
       "<div>\n",
       "<style scoped>\n",
       "    .dataframe tbody tr th:only-of-type {\n",
       "        vertical-align: middle;\n",
       "    }\n",
       "\n",
       "    .dataframe tbody tr th {\n",
       "        vertical-align: top;\n",
       "    }\n",
       "\n",
       "    .dataframe thead th {\n",
       "        text-align: right;\n",
       "    }\n",
       "</style>\n",
       "<table border=\"1\" class=\"dataframe\">\n",
       "  <thead>\n",
       "    <tr style=\"text-align: right;\">\n",
       "      <th></th>\n",
       "      <th>team</th>\n",
       "      <th>Ph</th>\n",
       "      <th>HWins</th>\n",
       "      <th>FTHGh</th>\n",
       "      <th>FTAGh</th>\n",
       "      <th>Pa</th>\n",
       "      <th>AWins</th>\n",
       "      <th>FTAGa</th>\n",
       "      <th>FTHGa</th>\n",
       "    </tr>\n",
       "  </thead>\n",
       "  <tbody>\n",
       "    <tr>\n",
       "      <th>0</th>\n",
       "      <td>Arsenal</td>\n",
       "      <td>10</td>\n",
       "      <td>8.5</td>\n",
       "      <td>25</td>\n",
       "      <td>10</td>\n",
       "      <td>11</td>\n",
       "      <td>5.0</td>\n",
       "      <td>13</td>\n",
       "      <td>16</td>\n",
       "    </tr>\n",
       "    <tr>\n",
       "      <th>1</th>\n",
       "      <td>Bournemouth</td>\n",
       "      <td>11</td>\n",
       "      <td>4.5</td>\n",
       "      <td>14</td>\n",
       "      <td>17</td>\n",
       "      <td>10</td>\n",
       "      <td>3.0</td>\n",
       "      <td>6</td>\n",
       "      <td>15</td>\n",
       "    </tr>\n",
       "    <tr>\n",
       "      <th>2</th>\n",
       "      <td>Brighton</td>\n",
       "      <td>10</td>\n",
       "      <td>5.5</td>\n",
       "      <td>10</td>\n",
       "      <td>12</td>\n",
       "      <td>11</td>\n",
       "      <td>3.0</td>\n",
       "      <td>5</td>\n",
       "      <td>13</td>\n",
       "    </tr>\n",
       "    <tr>\n",
       "      <th>3</th>\n",
       "      <td>Burnley</td>\n",
       "      <td>10</td>\n",
       "      <td>6.0</td>\n",
       "      <td>7</td>\n",
       "      <td>6</td>\n",
       "      <td>11</td>\n",
       "      <td>6.5</td>\n",
       "      <td>11</td>\n",
       "      <td>11</td>\n",
       "    </tr>\n",
       "    <tr>\n",
       "      <th>4</th>\n",
       "      <td>Chelsea</td>\n",
       "      <td>11</td>\n",
       "      <td>8.5</td>\n",
       "      <td>21</td>\n",
       "      <td>7</td>\n",
       "      <td>10</td>\n",
       "      <td>7.0</td>\n",
       "      <td>18</td>\n",
       "      <td>7</td>\n",
       "    </tr>\n",
       "  </tbody>\n",
       "</table>\n",
       "</div>"
      ],
      "text/plain": [
       "          team  Ph  HWins  FTHGh  FTAGh  Pa  AWins  FTAGa  FTHGa\n",
       "0      Arsenal  10    8.5     25     10  11    5.0     13     16\n",
       "1  Bournemouth  11    4.5     14     17  10    3.0      6     15\n",
       "2     Brighton  10    5.5     10     12  11    3.0      5     13\n",
       "3      Burnley  10    6.0      7      6  11    6.5     11     11\n",
       "4      Chelsea  11    8.5     21      7  10    7.0     18      7"
      ]
     },
     "execution_count": 46,
     "metadata": {},
     "output_type": "execute_result"
    }
   ],
   "source": [
    "EPL17_sum = EPL17hm.merge(EPL17aw, on='team')\n",
    "EPL17_sum.head()"
   ]
  },
  {
   "cell_type": "markdown",
   "metadata": {},
   "source": [
    "## Step 5 (home team)"
   ]
  },
  {
   "cell_type": "code",
   "execution_count": 47,
   "metadata": {
    "scrolled": true
   },
   "outputs": [],
   "source": [
    "# Sum the values of home and away wins, games, goals for and goals against, then create the values for win percentage (wpc) and the Pythagorean expectation (pyth).\n",
    "def get_sums(df, wpc_name, pyth_name):\n",
    "    df['W'] = df['HWins'] + df['AWins']\n",
    "    df['G'] = df['Ph'] + df['Pa']\n",
    "    df['Gf'] = df['FTHGh'] + df['FTAGa']\n",
    "    df['Ga'] = df['FTAGh'] + df['FTHGa']\n",
    "    df[wpc_name] = df['W'] / df['G']\n",
    "    df[pyth_name] = df['Gf']**2/(df['Gf']**2 + df['Ga']**2)\n",
    "    return df\n",
    "\n",
    "EPL17_sum = get_sums(EPL17_sum, 'wpc17', 'pyth17')"
   ]
  },
  {
   "cell_type": "markdown",
   "metadata": {},
   "source": [
    "## Step 6 (home team)"
   ]
  },
  {
   "cell_type": "code",
   "execution_count": 48,
   "metadata": {},
   "outputs": [],
   "source": [
    "# Groupby home and away teams for count, wins, goals for and goals against\n",
    "EPL18hm = (EPL18.groupby('HomeTeam').sum().loc[:,['count','HWins','FTHG','FTAG']].reset_index()\n",
    "                .rename({'HomeTeam':'team','count':'Ph','FTHG':'FTHGh','FTAG':'FTAGh'},axis=1))\n",
    "EPL18aw = (EPL18.groupby('AwayTeam').sum().loc[:,['count','AWins','FTAG','FTHG']].reset_index()\n",
    "               .rename({'AwayTeam':'team','count':'Pa','FTHG':'FTHGa','FTAG':'FTAGa'},axis=1))\n",
    "\n",
    "# Merge and create summary dataframe\n",
    "EPL18_sum = get_sums(EPL18hm.merge(EPL18aw, on='team'), 'wpc18', 'pyth18')"
   ]
  },
  {
   "cell_type": "markdown",
   "metadata": {},
   "source": [
    "## Optional steps, not required for Assessment \n",
    "### (Uncomment to run)"
   ]
  },
  {
   "cell_type": "code",
   "execution_count": 52,
   "metadata": {},
   "outputs": [
    {
     "data": {
      "text/plain": [
       "<seaborn.axisgrid.FacetGrid at 0x22c0a5bec70>"
      ]
     },
     "execution_count": 52,
     "metadata": {},
     "output_type": "execute_result"
    },
    {
     "data": {
      "image/png": "[encoded data removed]",
      "text/plain": [
       "<Figure size 360x360 with 1 Axes>"
      ]
     },
     "metadata": {
      "needs_background": "light"
     },
     "output_type": "display_data"
    }
   ],
   "source": [
    "# Plot the data\n",
    "EPL17=EPL17_sum\n",
    "EPL18=EPL18_sum\n",
    "sns.relplot(x=\"pyth17\", y=\"wpc17\", data =EPL17)"
   ]
  },
  {
   "cell_type": "code",
   "execution_count": 51,
   "metadata": {},
   "outputs": [
    {
     "data": {
      "text/html": [
       "<table class=\"simpletable\">\n",
       "<caption>OLS Regression Results</caption>\n",
       "<tr>\n",
       "  <th>Dep. Variable:</th>          <td>wpc17</td>      <th>  R-squared:         </th> <td>   0.937</td>\n",
       "</tr>\n",
       "<tr>\n",
       "  <th>Model:</th>                   <td>OLS</td>       <th>  Adj. R-squared:    </th> <td>   0.934</td>\n",
       "</tr>\n",
       "<tr>\n",
       "  <th>Method:</th>             <td>Least Squares</td>  <th>  F-statistic:       </th> <td>   269.6</td>\n",
       "</tr>\n",
       "<tr>\n",
       "  <th>Date:</th>             <td>Fri, 19 Nov 2021</td> <th>  Prob (F-statistic):</th> <td>2.81e-12</td>\n",
       "</tr>\n",
       "<tr>\n",
       "  <th>Time:</th>                 <td>16:04:19</td>     <th>  Log-Likelihood:    </th> <td>  33.822</td>\n",
       "</tr>\n",
       "<tr>\n",
       "  <th>No. Observations:</th>      <td>    20</td>      <th>  AIC:               </th> <td>  -63.64</td>\n",
       "</tr>\n",
       "<tr>\n",
       "  <th>Df Residuals:</th>          <td>    18</td>      <th>  BIC:               </th> <td>  -61.65</td>\n",
       "</tr>\n",
       "<tr>\n",
       "  <th>Df Model:</th>              <td>     1</td>      <th>                     </th>     <td> </td>   \n",
       "</tr>\n",
       "<tr>\n",
       "  <th>Covariance Type:</th>      <td>nonrobust</td>    <th>                     </th>     <td> </td>   \n",
       "</tr>\n",
       "</table>\n",
       "<table class=\"simpletable\">\n",
       "<tr>\n",
       "      <td></td>         <th>coef</th>     <th>std err</th>      <th>t</th>      <th>P>|t|</th>  <th>[0.025</th>    <th>0.975]</th>  \n",
       "</tr>\n",
       "<tr>\n",
       "  <th>Intercept</th> <td>    0.1978</td> <td>    0.021</td> <td>    9.335</td> <td> 0.000</td> <td>    0.153</td> <td>    0.242</td>\n",
       "</tr>\n",
       "<tr>\n",
       "  <th>pyth17</th>    <td>    0.6551</td> <td>    0.040</td> <td>   16.420</td> <td> 0.000</td> <td>    0.571</td> <td>    0.739</td>\n",
       "</tr>\n",
       "</table>\n",
       "<table class=\"simpletable\">\n",
       "<tr>\n",
       "  <th>Omnibus:</th>       <td> 6.775</td> <th>  Durbin-Watson:     </th> <td>   2.095</td>\n",
       "</tr>\n",
       "<tr>\n",
       "  <th>Prob(Omnibus):</th> <td> 0.034</td> <th>  Jarque-Bera (JB):  </th> <td>   4.322</td>\n",
       "</tr>\n",
       "<tr>\n",
       "  <th>Skew:</th>          <td> 1.048</td> <th>  Prob(JB):          </th> <td>   0.115</td>\n",
       "</tr>\n",
       "<tr>\n",
       "  <th>Kurtosis:</th>      <td> 3.891</td> <th>  Cond. No.          </th> <td>    4.65</td>\n",
       "</tr>\n",
       "</table><br/><br/>Notes:<br/>[1] Standard Errors assume that the covariance matrix of the errors is correctly specified."
      ],
      "text/plain": [
       "<class 'statsmodels.iolib.summary.Summary'>\n",
       "\"\"\"\n",
       "                            OLS Regression Results                            \n",
       "==============================================================================\n",
       "Dep. Variable:                  wpc17   R-squared:                       0.937\n",
       "Model:                            OLS   Adj. R-squared:                  0.934\n",
       "Method:                 Least Squares   F-statistic:                     269.6\n",
       "Date:                Fri, 19 Nov 2021   Prob (F-statistic):           2.81e-12\n",
       "Time:                        16:04:19   Log-Likelihood:                 33.822\n",
       "No. Observations:                  20   AIC:                            -63.64\n",
       "Df Residuals:                      18   BIC:                            -61.65\n",
       "Df Model:                           1                                         \n",
       "Covariance Type:            nonrobust                                         \n",
       "==============================================================================\n",
       "                 coef    std err          t      P>|t|      [0.025      0.975]\n",
       "------------------------------------------------------------------------------\n",
       "Intercept      0.1978      0.021      9.335      0.000       0.153       0.242\n",
       "pyth17         0.6551      0.040     16.420      0.000       0.571       0.739\n",
       "==============================================================================\n",
       "Omnibus:                        6.775   Durbin-Watson:                   2.095\n",
       "Prob(Omnibus):                  0.034   Jarque-Bera (JB):                4.322\n",
       "Skew:                           1.048   Prob(JB):                        0.115\n",
       "Kurtosis:                       3.891   Cond. No.                         4.65\n",
       "==============================================================================\n",
       "\n",
       "Notes:\n",
       "[1] Standard Errors assume that the covariance matrix of the errors is correctly specified.\n",
       "\"\"\""
      ]
     },
     "execution_count": 51,
     "metadata": {},
     "output_type": "execute_result"
    }
   ],
   "source": [
    "# Run the regression\n",
    "\n",
    "pyth_lm = smf.ols(formula = 'wpc17 ~ pyth17', data=EPL17).fit()\n",
    "pyth_lm.summary()"
   ]
  },
  {
   "cell_type": "markdown",
   "metadata": {},
   "source": [
    "## Step 7 (=Step 4 (away team))"
   ]
  },
  {
   "cell_type": "code",
   "execution_count": null,
   "metadata": {},
   "outputs": [],
   "source": []
  },
  {
   "cell_type": "markdown",
   "metadata": {},
   "source": [
    "## Step 7 (=Step 5 (away team))"
   ]
  },
  {
   "cell_type": "code",
   "execution_count": null,
   "metadata": {},
   "outputs": [],
   "source": []
  },
  {
   "cell_type": "markdown",
   "metadata": {},
   "source": [
    "## Step 7 (=Step 6 (away team))"
   ]
  },
  {
   "cell_type": "code",
   "execution_count": null,
   "metadata": {},
   "outputs": [],
   "source": []
  },
  {
   "cell_type": "markdown",
   "metadata": {},
   "source": [
    "## Optional steps, not required for Assessment\n",
    "### (Uncomment to run)"
   ]
  },
  {
   "cell_type": "code",
   "execution_count": null,
   "metadata": {},
   "outputs": [],
   "source": [
    "# Plot the data\n",
    "\n",
    "#sns.relplot(x=\"pyth18\", y=\"wpc18\", data =EPL2018)"
   ]
  },
  {
   "cell_type": "code",
   "execution_count": null,
   "metadata": {},
   "outputs": [],
   "source": [
    "# Run the regression\n",
    "\n",
    "#pyth_lm = smf.ols(formula = 'wpc18 ~ pyth18', data=EPL2018).fit()\n",
    "#pyth_lm.summary()"
   ]
  },
  {
   "cell_type": "markdown",
   "metadata": {},
   "source": [
    "## Step 8"
   ]
  },
  {
   "cell_type": "code",
   "execution_count": 74,
   "metadata": {},
   "outputs": [
    {
     "data": {
      "text/plain": [
       "HomeTeam    Man CitySouthamptonSwanseaWest HamArsenalTotte...\n",
       "AwayTeam    WatfordCrystal PalaceTottenhamWest BromChelsea...\n",
       "FTHG                                                      268\n",
       "FTAG                                                      182\n",
       "FTR         HAAHDDDHADHDHHHHHAADHHHDDHAHDAHHDDDHHHHDDHADDH...\n",
       "HWins                                                   101.0\n",
       "AWins                                                    65.0\n",
       "count                                                     166\n",
       "dtype: object"
      ]
     },
     "execution_count": 74,
     "metadata": {},
     "output_type": "execute_result"
    }
   ],
   "source": [
    "EPL18.sum()"
   ]
  },
  {
   "cell_type": "markdown",
   "metadata": {},
   "source": [
    "## Step 9"
   ]
  },
  {
   "cell_type": "markdown",
   "metadata": {},
   "source": [
    "1. 380, 190, 171\n",
    "2. Man City\n",
    "3. Stoke\n",
    "4. Man City\n",
    "5. Leicester\n",
    "6. West Ham\n",
    "7. Arsenal\n",
    "8. 0.968\n",
    "9. 0.796, 0.757\n",
    "10. 0.796"
   ]
  },
  {
   "cell_type": "markdown",
   "metadata": {},
   "source": [
    "## Optional steps, not required for Assessment\n",
    "### (Uncomment to run)"
   ]
  },
  {
   "cell_type": "code",
   "execution_count": null,
   "metadata": {},
   "outputs": [],
   "source": [
    "#sns.relplot(x=\"pyth17\", y=\"wpc18\", data =Half2predictor)"
   ]
  },
  {
   "cell_type": "code",
   "execution_count": null,
   "metadata": {},
   "outputs": [],
   "source": [
    "#sns.relplot(x=\"wpc17\", y=\"wpc18\", data =Half2predictor)"
   ]
  },
  {
   "cell_type": "markdown",
   "metadata": {},
   "source": [
    "Now you have completed the assignment, are these results consistent with those we found for Major League Baseball?"
   ]
  }
 ],
 "metadata": {
  "kernelspec": {
   "display_name": "Python 3",
   "language": "python",
   "name": "python3"
  },
  "language_info": {
   "codemirror_mode": {
    "name": "ipython",
    "version": 3
   },
   "file_extension": ".py",
   "mimetype": "text/x-python",
   "name": "python",
   "nbconvert_exporter": "python",
   "pygments_lexer": "ipython3",
   "version": "3.8.8"
  }
 },
 "nbformat": 4,
 "nbformat_minor": 4
}
