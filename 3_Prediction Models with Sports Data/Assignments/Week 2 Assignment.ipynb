{
 "cells": [
  {
   "cell_type": "code",
   "execution_count": 20,
   "metadata": {},
   "outputs": [],
   "source": [
    "# install the packages we need\n",
    "\n",
    "import pandas as pd\n",
    "import numpy as np\n",
    "import matplotlib.pyplot as plt\n",
    "import seaborn as sns\n",
    "\n",
    "NBA19 = pd.read_excel(\"Assignment Data/NBA2019odds.xlsx\")"
   ]
  },
  {
   "cell_type": "code",
   "execution_count": 29,
   "metadata": {},
   "outputs": [],
   "source": [
    "# Step (1)\n",
    "# load the data\n",
    "nba19 = NBA19.copy()\n",
    "\n",
    "# Step (2)\n",
    "nba19['winprob'] = nba19.apply(lambda x: x.winodds**-1 / (x.winodds**-1 + x.loseodds**-1), axis=1)\n",
    "nba19 = nba19.drop('win prob', axis=1)  # remove win prob that came with data\n",
    "\n",
    "# Step (3)\n",
    "nba19 = nba19[nba19['home']==1]\n",
    "\n",
    "# Step (4a)\n",
    "nba_gt9 = nba19[nba19['diff'] > 9]\n",
    "nba_lt9 = nba19[nba19['diff'] <9]\n",
    "\n",
    "# Step (4b)\n",
    "nba_ot = nba19[nba19['overtime']==1]\n",
    "nba_noot = nba19[nba19['overtime']==0]\n",
    "\n",
    "# Step (4c)\n",
    "nba_18 = nba19[nba19['year']==2018]\n",
    "nba_19 = nba19[nba19['year']==2019]\n",
    "\n",
    "# Step (4d)\n",
    "nba_mos = [nba19[nba19['month']==month] for month in nba19.month.unique()]\n",
    "jan, feb, mar, apr, oct_, nov, dec = nba_mos"
   ]
  },
  {
   "cell_type": "code",
   "execution_count": 26,
   "metadata": {},
   "outputs": [
    {
     "data": {
      "text/plain": [
       "0.3965288682303832"
      ]
     },
     "execution_count": 26,
     "metadata": {},
     "output_type": "execute_result"
    }
   ],
   "source": [
    "# Quiz Q1\n",
    "nba19['win'].corr(nba19['winprob'])"
   ]
  },
  {
   "cell_type": "code",
   "execution_count": 30,
   "metadata": {},
   "outputs": [
    {
     "data": {
      "text/plain": [
       "0.19811648014344058"
      ]
     },
     "execution_count": 30,
     "metadata": {},
     "output_type": "execute_result"
    }
   ],
   "source": [
    "# Q2\n",
    "nba_lt9['win'].corr(nba_lt9['winprob'])"
   ]
  },
  {
   "cell_type": "code",
   "execution_count": 31,
   "metadata": {},
   "outputs": [
    {
     "data": {
      "text/plain": [
       "0.5764720608613116"
      ]
     },
     "execution_count": 31,
     "metadata": {},
     "output_type": "execute_result"
    }
   ],
   "source": [
    "# Q3\n",
    "nba_gt9['win'].corr(nba_gt9['winprob'])"
   ]
  },
  {
   "cell_type": "code",
   "execution_count": 32,
   "metadata": {},
   "outputs": [],
   "source": [
    "# Q4\n",
    "# Uncertain games ..."
   ]
  },
  {
   "cell_type": "code",
   "execution_count": 34,
   "metadata": {},
   "outputs": [
    {
     "data": {
      "text/plain": [
       "0.0322585296974044"
      ]
     },
     "execution_count": 34,
     "metadata": {},
     "output_type": "execute_result"
    }
   ],
   "source": [
    "# Q5\n",
    "nba_ot['win'].corr(nba_ot['winprob'])"
   ]
  },
  {
   "cell_type": "code",
   "execution_count": 36,
   "metadata": {},
   "outputs": [
    {
     "data": {
      "text/plain": [
       "0.41443469573048897"
      ]
     },
     "execution_count": 36,
     "metadata": {},
     "output_type": "execute_result"
    }
   ],
   "source": [
    "# Q6\n",
    "nba_noot['win'].corr(nba_noot['winprob'])"
   ]
  },
  {
   "cell_type": "code",
   "execution_count": 37,
   "metadata": {},
   "outputs": [
    {
     "data": {
      "text/plain": [
       "0.33824656512757934"
      ]
     },
     "execution_count": 37,
     "metadata": {},
     "output_type": "execute_result"
    }
   ],
   "source": [
    "# Q7\n",
    "nba_18['win'].corr(nba_18['winprob'])"
   ]
  },
  {
   "cell_type": "code",
   "execution_count": 38,
   "metadata": {},
   "outputs": [
    {
     "data": {
      "text/plain": [
       "0.4379760130458398"
      ]
     },
     "execution_count": 38,
     "metadata": {},
     "output_type": "execute_result"
    }
   ],
   "source": [
    "# Q8\n",
    "nba_19['win'].corr(nba_19['winprob'])"
   ]
  },
  {
   "cell_type": "code",
   "execution_count": 40,
   "metadata": {},
   "outputs": [
    {
     "name": "stdout",
     "output_type": "stream",
     "text": [
      "1\n",
      "0.5035297031511201\n",
      "2\n",
      "0.3792800728400271\n",
      "3\n",
      "0.41270835902083153\n",
      "4\n",
      "0.4554355039974143\n",
      "10\n",
      "0.4132172955401343\n",
      "11\n",
      "0.3188901681703326\n",
      "12\n",
      "0.3218384323878671\n"
     ]
    }
   ],
   "source": [
    "# Q9\n",
    "for df in nba_mos:\n",
    "    print(df.reset_index().loc[0, 'month'])\n",
    "    print(df['win'].corr(df['winprob']))\n",
    "    "
   ]
  },
  {
   "cell_type": "code",
   "execution_count": null,
   "metadata": {},
   "outputs": [],
   "source": []
  }
 ],
 "metadata": {
  "kernelspec": {
   "display_name": "Python 3 (ipykernel)",
   "language": "python",
   "name": "python3"
  },
  "language_info": {
   "codemirror_mode": {
    "name": "ipython",
    "version": 3
   },
   "file_extension": ".py",
   "mimetype": "text/x-python",
   "name": "python",
   "nbconvert_exporter": "python",
   "pygments_lexer": "ipython3",
   "version": "3.8.12"
  }
 },
 "nbformat": 4,
 "nbformat_minor": 4
}
