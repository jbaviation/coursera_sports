{
 "cells": [
  {
   "cell_type": "markdown",
   "metadata": {},
   "source": [
    "# Week 4 Assignment\n",
    "In this week, we extended the notion of forecasting model (introduced in Week 3) in the context of North American Team Sports Leagues (i.e., NHL, NBA, MLB). We also compared its performance to that of the bookmakers’ odds and observed the similar results as with EPL case in that bookmakers’ predictions were slightly better, the difference was not great, whether measured by number of correct predictions of the result, or Brier score which measures the overall accuracy of the probabilities. It should be noted that we adopted the “within forecast” approach to check the validity of the forecast model to be used for “out-of-sample forecast”. \n",
    "\n",
    "\n",
    "For the assignment we will produce the out-of-sample forecast by using NBA 2018/2019 data. To do that, we will split the data into two different strata so that we can use one of the subsets for generating the forecasting model (i.e., training dataset) and we will apply the forecasting model to generate the results for the remainder of the dataset. More specifically, we will use the games played in 2018 as a basis for forecasting and apply the regression model to generate the game results played in 2019. \n",
    "\n",
    "This exercise is slightly easier than the EPL case, since there are no ties, and two possible outcomes for each game, win or lose. This also means that we can use the logit model (allowing for only two possible outcomes introduced in week 1, rather the ordered logit model (which we only need when there are more than two possible outcomes).\n",
    "\n",
    "**NOTE**: We don’t use the NBA dataset covered in the instructional video. The data set for the assignment compiled all the necessary variables including 1) book maker’s odds, salary for two teams, and the game results. So, you don’t need three different datasets as we did in the session."
   ]
  },
  {
   "cell_type": "code",
   "execution_count": 15,
   "metadata": {},
   "outputs": [],
   "source": [
    "import pandas as pd\n",
    "import numpy as np\n",
    "NBAmod = pd.read_excel(\"Assignment Data/NBA prediction model (Assignment).xlsx\")"
   ]
  },
  {
   "cell_type": "markdown",
   "metadata": {},
   "source": [
    "#### Step 1: Data preparation\n",
    "1. Load the data \n",
    "2. Define variables for the probabilities of a home win and away win associated with bookmaker odds\n",
    "3. Define a dummy variable = 1 if the home team loses, and zero otherwise\n",
    "4. Define a variable equal to H if the home team wins and A if the visiting team wins\n",
    "5. Define a variable equal to H if the home team win probability is greater than 0.5 according to the bookmaker odds and A otherwise\n",
    "6. Define a variable equal to the logarithm of the ratio of the home team salaries to the visiting team salaries."
   ]
  },
  {
   "cell_type": "code",
   "execution_count": 16,
   "metadata": {
    "scrolled": true
   },
   "outputs": [],
   "source": [
    "# Step 1\n",
    "nba = NBAmod.copy()\n",
    "\n",
    "# Step 2\n",
    "nba['HwinBmPr'] = (nba['hwinodds']**-1) / ((nba['hwinodds']**-1) + (nba['hloseodds']**-1))\n",
    "nba['HloseBmPr'] = (nba['hloseodds']**-1) / ((nba['hwinodds']**-1) + (nba['hloseodds']**-1))\n",
    "\n",
    "# Step 3\n",
    "nba['HwinBm'] = np.where(nba['HwinBmPr']>nba['HloseBmPr'], 1, 0)\n",
    "\n",
    "# Step 4\n",
    "# Skip for now\n",
    "\n",
    "# Step 5\n",
    "# Skip for now\n",
    "\n",
    "# Step 6\n",
    "nba['lgSalRat'] = np.log(nba['hteamsal'] / nba['opposal'])"
   ]
  },
  {
   "cell_type": "markdown",
   "metadata": {},
   "source": [
    "#### Step 2: Estimate a logit model of home time wins depending on the log salary ratio, using the data for calendar year 2018 as the “training data”.\n",
    "1. Define a subset for the calendar year 2018 data \n",
    "2. Import the logistic regression package (copy the code for this from Week 1)\n",
    "3. Run the logistic regression of hwin on the log salary ratio (copy the code for this from Week 1 while changing the variable names to the ones required here)"
   ]
  },
  {
   "cell_type": "code",
   "execution_count": 17,
   "metadata": {},
   "outputs": [
    {
     "data": {
      "text/html": [
       "<table class=\"simpletable\">\n",
       "<caption>Generalized Linear Model Regression Results</caption>\n",
       "<tr>\n",
       "  <th>Dep. Variable:</th>         <td>hwin</td>       <th>  No. Observations:  </th>  <td>   542</td> \n",
       "</tr>\n",
       "<tr>\n",
       "  <th>Model:</th>                  <td>GLM</td>       <th>  Df Residuals:      </th>  <td>   540</td> \n",
       "</tr>\n",
       "<tr>\n",
       "  <th>Model Family:</th>        <td>Binomial</td>     <th>  Df Model:          </th>  <td>     1</td> \n",
       "</tr>\n",
       "<tr>\n",
       "  <th>Link Function:</th>         <td>Logit</td>      <th>  Scale:             </th> <td>  1.0000</td>\n",
       "</tr>\n",
       "<tr>\n",
       "  <th>Method:</th>                <td>IRLS</td>       <th>  Log-Likelihood:    </th> <td> -359.61</td>\n",
       "</tr>\n",
       "<tr>\n",
       "  <th>Date:</th>            <td>Tue, 11 Jan 2022</td> <th>  Deviance:          </th> <td>  719.21</td>\n",
       "</tr>\n",
       "<tr>\n",
       "  <th>Time:</th>                <td>22:27:31</td>     <th>  Pearson chi2:      </th>  <td>  543.</td> \n",
       "</tr>\n",
       "<tr>\n",
       "  <th>No. Iterations:</th>          <td>4</td>        <th>  Pseudo R-squ. (CS):</th>  <td>0.01149</td>\n",
       "</tr>\n",
       "<tr>\n",
       "  <th>Covariance Type:</th>     <td>nonrobust</td>    <th>                     </th>     <td> </td>   \n",
       "</tr>\n",
       "</table>\n",
       "<table class=\"simpletable\">\n",
       "<tr>\n",
       "      <td></td>         <th>coef</th>     <th>std err</th>      <th>z</th>      <th>P>|z|</th>  <th>[0.025</th>    <th>0.975]</th>  \n",
       "</tr>\n",
       "<tr>\n",
       "  <th>Intercept</th> <td>    0.4452</td> <td>    0.089</td> <td>    5.026</td> <td> 0.000</td> <td>    0.272</td> <td>    0.619</td>\n",
       "</tr>\n",
       "<tr>\n",
       "  <th>lgSalRat</th>  <td>    1.1216</td> <td>    0.452</td> <td>    2.482</td> <td> 0.013</td> <td>    0.236</td> <td>    2.007</td>\n",
       "</tr>\n",
       "</table>"
      ],
      "text/plain": [
       "<class 'statsmodels.iolib.summary.Summary'>\n",
       "\"\"\"\n",
       "                 Generalized Linear Model Regression Results                  \n",
       "==============================================================================\n",
       "Dep. Variable:                   hwin   No. Observations:                  542\n",
       "Model:                            GLM   Df Residuals:                      540\n",
       "Model Family:                Binomial   Df Model:                            1\n",
       "Link Function:                  Logit   Scale:                          1.0000\n",
       "Method:                          IRLS   Log-Likelihood:                -359.61\n",
       "Date:                Tue, 11 Jan 2022   Deviance:                       719.21\n",
       "Time:                        22:27:31   Pearson chi2:                     543.\n",
       "No. Iterations:                     4   Pseudo R-squ. (CS):            0.01149\n",
       "Covariance Type:            nonrobust                                         \n",
       "==============================================================================\n",
       "                 coef    std err          z      P>|z|      [0.025      0.975]\n",
       "------------------------------------------------------------------------------\n",
       "Intercept      0.4452      0.089      5.026      0.000       0.272       0.619\n",
       "lgSalRat       1.1216      0.452      2.482      0.013       0.236       2.007\n",
       "==============================================================================\n",
       "\"\"\""
      ]
     },
     "metadata": {},
     "output_type": "display_data"
    }
   ],
   "source": [
    "# Step 1\n",
    "train = nba[nba.year==2018]\n",
    "\n",
    "# Step 2\n",
    "import statsmodels.formula.api as smf\n",
    "import statsmodels.api as sm\n",
    "\n",
    "# Step 3\n",
    "logit_mod = smf.glm(formula='hwin~lgSalRat', data=train, family=sm.families.Binomial())\n",
    "logit_result = logit_mod.fit()\n",
    "display(logit_result.summary())"
   ]
  },
  {
   "cell_type": "markdown",
   "metadata": {},
   "source": [
    "#### Step 3: Define the predicted probabilities and the predicted results, using the entire data set\n",
    "1. The predicted probability of home win can be defined using the formula:\n",
    "\n",
    "$$\\frac{1}{1+\\frac{1}{exp(b0 + b1*logsalaryratio)}}$$\n",
    "\n",
    "> where b0 is the constant (the intercept) in the logistic regression and b1 is the coefficient for logsalaryratio.\n",
    "\n",
    "2. Based on the predicted probability, define the predicted result H as the outcome where the predicted home win probability is greater than 0.5, and A otherwise."
   ]
  },
  {
   "cell_type": "code",
   "execution_count": 19,
   "metadata": {},
   "outputs": [
    {
     "name": "stderr",
     "output_type": "stream",
     "text": [
      "C:\\Users\\jborman\\AppData\\Local\\Temp\\1/ipykernel_16704/1120380950.py:2: SettingWithCopyWarning: \n",
      "A value is trying to be set on a copy of a slice from a DataFrame.\n",
      "Try using .loc[row_indexer,col_indexer] = value instead\n",
      "\n",
      "See the caveats in the documentation: https://pandas.pydata.org/pandas-docs/stable/user_guide/indexing.html#returning-a-view-versus-a-copy\n",
      "  train['lgSalRatWinProbs'] = logit_result.predict()  # or\n",
      "C:\\Users\\jborman\\AppData\\Local\\Temp\\1/ipykernel_16704/1120380950.py:6: SettingWithCopyWarning: \n",
      "A value is trying to be set on a copy of a slice from a DataFrame.\n",
      "Try using .loc[row_indexer,col_indexer] = value instead\n",
      "\n",
      "See the caveats in the documentation: https://pandas.pydata.org/pandas-docs/stable/user_guide/indexing.html#returning-a-view-versus-a-copy\n",
      "  train['lgSalRatHwin'] = np.where(train['lgSalRatWinProbs']>0.5, 1, 0)  # or\n"
     ]
    }
   ],
   "source": [
    "# Step 1\n",
    "train['lgSalRatWinProbs'] = logit_result.predict()  # or\n",
    "nba['lgSalRatWinProbs'] = logit_result.predict(nba)\n",
    "\n",
    "# Step 2\n",
    "train['lgSalRatHwin'] = np.where(train['lgSalRatWinProbs']>0.5, 1, 0)  # or\n",
    "nba['lgSalRatHwin'] = np.where(nba['lgSalRatWinProbs']>0.5, 1, 0)"
   ]
  },
  {
   "cell_type": "markdown",
   "metadata": {},
   "source": [
    "#### Step 4: For games played in 2019, compare the bookmaker probabilities and model probabilities in terms of the mean number of successfully predicted outcomes and the Brier scores.\n",
    "\n",
    "1. Define the subset of games played in calendar year 2019\n",
    "2. Define a dummy variable equal to 1 when the bookmaker result prediction is correct, and zero otherwise. Define the equivalent variable for the logit model prediction.\n",
    "3. Calculate the means for each of these variables\n",
    "4. Define the Brier score for the bookmaker probabilities and the Brier score for the logit model probabilities\n",
    "5. Calculate the mean of each Brier score"
   ]
  },
  {
   "cell_type": "code",
   "execution_count": 25,
   "metadata": {},
   "outputs": [
    {
     "name": "stdout",
     "output_type": "stream",
     "text": [
      "Bookmaker Acc = 0.6918604651162791\n",
      "Logit Acc = 0.5872093023255814\n",
      "Bookmaker Brier = 0.42005813953488375\n",
      "Logit Brier = 0.42005813953488375\n"
     ]
    }
   ],
   "source": [
    "# Step 1\n",
    "nba19 = nba[nba.year==2019].copy()\n",
    "nba19 = nba19.drop(columns=['day','month','Game(home-away)'])\n",
    "\n",
    "# Step 2\n",
    "nba19['BmTrue'] = np.where(nba19['hwin']==nba19['HwinBm'], 1, 0)\n",
    "nba19['LgTrue'] = np.where(nba19['hwin']==nba19['lgSalRatHwin'], 1, 0)\n",
    "\n",
    "# Step 3\n",
    "Bm_mean = nba19['BmTrue'].mean()\n",
    "Lg_mean = nba19['LgTrue'].mean()\n",
    "print(f'Bookmaker Acc = {Bm_mean}\\nLogit Acc = {Lg_mean}')\n",
    "\n",
    "# Step 4\n",
    "from sklearn.metrics import brier_score_loss\n",
    "brierBm = brier_score_loss(nba19['BmTrue'], nba19['HwinBm'])  # Mult by 2 accounts for True Wins and True Losses\n",
    "brierLg = brier_score_loss(nba19['LgTrue'], nba19['lgSalRatHwin'])\n",
    "print(f'Bookmaker Brier = {brierBm}\\nLogit Brier = {brierLg}')\n",
    "\n",
    "# Step 5\n",
    "# Unknown"
   ]
  },
  {
   "cell_type": "code",
   "execution_count": 27,
   "metadata": {},
   "outputs": [],
   "source": [
    "# Quiz\n",
    "# Q1\n",
    "# 542\n",
    "\n",
    "# Q2\n",
    "# 1.1216\n",
    "\n",
    "# Q3\n",
    "# Both are at 5%\n",
    "\n",
    "# Q4\n",
    "# It is the predicted prob of home win (WRONG)\n",
    "# No natural interpretation (WRONG)\n",
    "# It reflects value of home advantage\n",
    "\n",
    "# Q5\n",
    "# 69%\n",
    "\n",
    "# Q6\n",
    "# 59%\n",
    "\n",
    "# Q7\n",
    "# 0.394\n",
    "\n",
    "# Q8\n",
    "# 0.399 (WRONG)\n",
    "# 0.477\n",
    "\n",
    "# Q9\n",
    "# Probs closer to actual\n",
    "\n",
    "# Q10\n",
    "# Logistic more reliable"
   ]
  }
 ],
 "metadata": {
  "kernelspec": {
   "display_name": "Python 3 (ipykernel)",
   "language": "python",
   "name": "python3"
  },
  "language_info": {
   "codemirror_mode": {
    "name": "ipython",
    "version": 3
   },
   "file_extension": ".py",
   "mimetype": "text/x-python",
   "name": "python",
   "nbconvert_exporter": "python",
   "pygments_lexer": "ipython3",
   "version": "3.8.12"
  }
 },
 "nbformat": 4,
 "nbformat_minor": 4
}
