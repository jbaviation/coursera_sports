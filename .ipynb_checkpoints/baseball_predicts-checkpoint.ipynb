{
 "cells": [
  {
   "cell_type": "markdown",
   "id": "d35bcfb6-4652-49ef-a636-d0d5af2387f3",
   "metadata": {},
   "source": [
    "# Predict 2022 MLB Baseball Season"
   ]
  },
  {
   "cell_type": "code",
   "execution_count": null,
   "id": "6a439045-2934-4103-99c8-ee8422ef0d79",
   "metadata": {},
   "outputs": [],
   "source": []
  }
 ],
 "metadata": {
  "kernelspec": {
   "display_name": "Python 3 (ipykernel)",
   "language": "python",
   "name": "python3"
  },
  "language_info": {
   "codemirror_mode": {
    "name": "ipython",
    "version": 3
   },
   "file_extension": ".py",
   "mimetype": "text/x-python",
   "name": "python",
   "nbconvert_exporter": "python",
   "pygments_lexer": "ipython3",
   "version": "3.8.12"
  }
 },
 "nbformat": 4,
 "nbformat_minor": 5
}
