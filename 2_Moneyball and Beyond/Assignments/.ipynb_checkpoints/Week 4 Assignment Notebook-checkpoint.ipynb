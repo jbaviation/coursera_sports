{
 "cells": [
  {
   "cell_type": "code",
   "execution_count": 2,
   "metadata": {},
   "outputs": [],
   "source": [
    "#Load packages\n",
    "import pandas as pd\n",
    "import numpy as np\n",
    "\n",
    "nrows = 40\n",
    "pd.set_option('display.min_rows', nrows)\n",
    "pd.set_option('display.max_rows', nrows)\n",
    "pd.set_option('display.max_columns', 50)"
   ]
  },
  {
   "cell_type": "markdown",
   "metadata": {},
   "source": [
    "# I. Coding Run Expectancy Dataset (2017)"
   ]
  },
  {
   "cell_type": "code",
   "execution_count": 3,
   "metadata": {},
   "outputs": [],
   "source": [
    "# Read in MLBAM Data for 2017\n",
    "\n",
    "MLBAM17 = pd.read_csv(\"../Data/MLBAM17.csv\")"
   ]
  },
  {
   "cell_type": "code",
   "execution_count": 10,
   "metadata": {},
   "outputs": [],
   "source": [
    "# Run thru all steps in a function\n",
    "def calc_run_expectancy(data):\n",
    "    # Step 2\n",
    "    df = data[['batterName','batterId','event', 'start1B', 'start2B', 'start3B', 'end1B', 'end2B', 'end3B',\\\n",
    "               'startOuts','endOuts','runsFuture','runsOnPlay','outsInInning','stand', 'throws','venueId', \\\n",
    "               'stadium', 'batterPos']].copy()\n",
    "    \n",
    "    # Step 3\n",
    "    df['1B_st'] = np.where(df['start1B'].isna(), 0, 1)\n",
    "    df['2B_st'] = np.where(df['start2B'].isna(), 0, 1)\n",
    "    df['3B_st'] = np.where(df['start3B'].isna(), 0, 1)\n",
    "    \n",
    "    # Step 4\n",
    "    df['start'] = df['1B_st'].astype(str) + df['2B_st'].astype(str) + df['3B_st'].astype(str) + \" \" + df['startOuts'].astype(str)\n",
    "    \n",
    "    # Step 5\n",
    "    df['1B_en'] = np.where(df['end1B'].isna(), 0, 1)\n",
    "    df['2B_en'] = np.where(df['end2B'].isna(), 0, 1)\n",
    "    df['3B_en'] = np.where(df['end3B'].isna(), 0, 1)\n",
    "    \n",
    "    # Step 6\n",
    "    df['end'] = df['1B_en'].astype(str) + df['2B_en'].astype(str) + df['3B_en'].astype(str) + \" \" + df['endOuts'].astype(str)\n",
    "\n",
    "    # Step 7\n",
    "    df = df[((df['start'] != df['end']) | (df['runsOnPlay']>0)) & (df['outsInInning']==3)]\n",
    "    \n",
    "    # Step 8\n",
    "    run_exp = df.groupby('start')['runsFuture'].mean().reset_index().rename({'runsFuture':'startRE'},axis=1)\n",
    "    df = df.merge(run_exp, on='start', how='left')\n",
    "    \n",
    "    # Step 9\n",
    "    run_exp = run_exp.rename({'start':'state','startRE':'RE'},axis=1)\n",
    "    re_tuples = list(run_exp.to_records(index=False))  # convert run_exp into list of tuples\n",
    "    re_tuples = re_tuples + [(str(st)+\" 3\", 0) for st in run_exp.state.str[:3].unique()]\n",
    "    run_exp = pd.DataFrame.from_records(re_tuples, columns=run_exp.columns)\n",
    "    \n",
    "    # Step 10\n",
    "    df = (df.merge(run_exp, left_on='end', right_on='state', how='left')\n",
    "            .drop(['state','1B_st','2B_st','3B_st','1B_en','2B_en','3B_en','start1B','start2B','start3B',\n",
    "                   'end1B','end2B','end3B'], axis=1)\n",
    "            .rename({'RE': 'endRE'}, axis=1))\n",
    "    \n",
    "    # Step 11\n",
    "    df['RV'] = df['runsOnPlay'] + (df['endRE'] - df['startRE'])\n",
    "    \n",
    "    return df\n",
    "\n",
    "re17=calc_run_expectancy(MLBAM17)"
   ]
  },
  {
   "cell_type": "code",
   "execution_count": 22,
   "metadata": {},
   "outputs": [
    {
     "data": {
      "text/plain": [
       "Strikeout               21.571737\n",
       "Groundout               17.910593\n",
       "Single                  14.434022\n",
       "Flyout                  10.697100\n",
       "Walk                     7.975600\n",
       "Lineout                  6.078452\n",
       "Pop Out                  4.682519\n",
       "Double                   4.487662\n",
       "Home Run                 3.256275\n",
       "Grounded Into DP         2.056822\n",
       "Forceout                 1.970219\n",
       "Hit By Pitch             0.946680\n",
       "Field Error              0.850334\n",
       "Sac Fly                  0.613799\n",
       "Intent Walk              0.500674\n",
       "Sac Bunt                 0.490931\n",
       "Triple                   0.427061\n",
       "Double Play              0.228957\n",
       "Runner Out               0.214343\n",
       "Fielders Choice Out      0.165087\n",
       "Bunt Groundout           0.151555\n",
       "Strikeout - DP           0.080108\n",
       "Bunt Pop Out             0.070906\n",
       "Fielders Choice          0.049255\n",
       "Fan interference         0.023816\n",
       "Catcher Interference     0.023275\n",
       "Batter Interference      0.018944\n",
       "Sac Fly DP               0.011908\n",
       "Bunt Lineout             0.007578\n",
       "Triple Play              0.003789\n",
       "Name: event, dtype: float64"
      ]
     },
     "execution_count": 22,
     "metadata": {},
     "output_type": "execute_result"
    }
   ],
   "source": [
    "# Quiz Q1\n",
    "re17['event'].value_counts(normalize=True)*100"
   ]
  },
  {
   "cell_type": "code",
   "execution_count": 27,
   "metadata": {},
   "outputs": [
    {
     "data": {
      "text/plain": [
       "4364"
      ]
     },
     "execution_count": 27,
     "metadata": {},
     "output_type": "execute_result"
    }
   ],
   "source": [
    "# Quiz Q2\n",
    "re17['start'].value_counts().filter(regex='111').sum()"
   ]
  },
  {
   "cell_type": "code",
   "execution_count": 36,
   "metadata": {},
   "outputs": [
    {
     "data": {
      "text/plain": [
       "batterPos\n",
       "PH       1\n",
       "P     1872\n",
       "DH    2354\n",
       "UN    2594\n",
       "2B    3710\n",
       "SS    3734\n",
       "3B    4023\n",
       "C     4090\n",
       "LF    4317\n",
       "CF    4374\n",
       "RF    4386\n",
       "1B    4399\n",
       "Name: batterName, dtype: int64"
      ]
     },
     "execution_count": 36,
     "metadata": {},
     "output_type": "execute_result"
    }
   ],
   "source": [
    "# Quiz Q3\n",
    "re17[re17['event']=='Strikeout'].groupby('batterPos')['batterName'].count().sort_values()"
   ]
  },
  {
   "cell_type": "markdown",
   "metadata": {},
   "source": [
    "# II. Coding Run Expectancy Dataset (2016)"
   ]
  },
  {
   "cell_type": "code",
   "execution_count": 37,
   "metadata": {},
   "outputs": [],
   "source": [
    "# Read in MLBAM Data for 2016\n",
    "\n",
    "MLBAM16 = pd.read_csv(\"../Data/MLBAM16.csv\")"
   ]
  },
  {
   "cell_type": "code",
   "execution_count": 38,
   "metadata": {},
   "outputs": [],
   "source": [
    "re16=calc_run_expectancy(MLBAM16)"
   ]
  },
  {
   "cell_type": "code",
   "execution_count": 43,
   "metadata": {},
   "outputs": [
    {
     "data": {
      "text/plain": [
       "Strikeout               0.210505\n",
       "Groundout               0.184451\n",
       "Single                  0.148367\n",
       "Flyout                  0.110479\n",
       "Walk                    0.076279\n",
       "Lineout                 0.058300\n",
       "Pop Out                 0.046326\n",
       "Double                  0.044257\n",
       "Home Run                0.030062\n",
       "Forceout                0.020966\n",
       "Grounded Into DP        0.020168\n",
       "Hit By Pitch            0.008884\n",
       "Field Error             0.008634\n",
       "Sac Fly                 0.006402\n",
       "Sac Bunt                0.005414\n",
       "Intent Walk             0.004838\n",
       "Triple                  0.004703\n",
       "Double Play             0.002427\n",
       "Runner Out              0.002292\n",
       "Bunt Groundout          0.001808\n",
       "Fielders Choice Out     0.001553\n",
       "Bunt Pop Out            0.000755\n",
       "Strikeout - DP          0.000733\n",
       "Fielders Choice         0.000521\n",
       "Fan interference        0.000239\n",
       "Batter Interference     0.000206\n",
       "Catcher Interference    0.000206\n",
       "Sac Fly DP              0.000130\n",
       "Bunt Lineout            0.000049\n",
       "Triple Play             0.000038\n",
       "Sacrifice Bunt DP       0.000005\n",
       "Name: event, dtype: float64"
      ]
     },
     "execution_count": 43,
     "metadata": {},
     "output_type": "execute_result"
    }
   ],
   "source": [
    "# Quiz Q1\n",
    "re16['event'].value_counts(normalize=True)"
   ]
  },
  {
   "cell_type": "code",
   "execution_count": 47,
   "metadata": {},
   "outputs": [
    {
     "data": {
      "text/plain": [
       "80387"
      ]
     },
     "execution_count": 47,
     "metadata": {},
     "output_type": "execute_result"
    }
   ],
   "source": [
    "# Quiz Q2\n",
    "re16['start'].count()-re16['start'].value_counts().filter(regex='000').sum()"
   ]
  },
  {
   "cell_type": "code",
   "execution_count": 50,
   "metadata": {},
   "outputs": [
    {
     "data": {
      "text/plain": [
       "batterPos\n",
       "P      22\n",
       "UN    178\n",
       "DH    424\n",
       "SS    486\n",
       "CF    532\n",
       "C     541\n",
       "2B    576\n",
       "LF    576\n",
       "RF    694\n",
       "3B    710\n",
       "1B    797\n",
       "Name: batterName, dtype: int64"
      ]
     },
     "execution_count": 50,
     "metadata": {},
     "output_type": "execute_result"
    }
   ],
   "source": [
    "# Quiz Q3\n",
    "re16[re16['event']==\"Home Run\"].groupby('batterPos')['batterName'].count().sort_values()"
   ]
  },
  {
   "cell_type": "markdown",
   "metadata": {},
   "source": [
    "# III. Comparing 2016 vs. 2017"
   ]
  },
  {
   "cell_type": "code",
   "execution_count": 58,
   "metadata": {},
   "outputs": [],
   "source": [
    "# Step 1\n",
    "rv_events16 = re16.groupby('event',as_index=False)['RV'].mean().rename({'RV':'RV16'},axis=1)\n",
    "rv_events17 = re17.groupby('event',as_index=False)['RV'].mean().rename({'RV':'RV17'},axis=1)\n",
    "\n",
    "# Step 2\n",
    "rv_events = rv_events16.merge(rv_events17, on='event')\n",
    "\n",
    "# Step 3\n",
    "rv_batter16 = re16.groupby('batterName',as_index=False)['RV'].sum().rename({'RV':'RV16'},axis=1)\n",
    "rv_batter17 = re17.groupby('batterName',as_index=False)['RV'].sum().rename({'RV':'RV17'},axis=1)\n",
    "\n",
    "# Step 4\n",
    "rv_batter = rv_batter16.merge(rv_batter17, on='batterName', how='inner')"
   ]
  },
  {
   "cell_type": "code",
   "execution_count": 62,
   "metadata": {},
   "outputs": [
    {
     "data": {
      "text/html": [
       "<div>\n",
       "<style scoped>\n",
       "    .dataframe tbody tr th:only-of-type {\n",
       "        vertical-align: middle;\n",
       "    }\n",
       "\n",
       "    .dataframe tbody tr th {\n",
       "        vertical-align: top;\n",
       "    }\n",
       "\n",
       "    .dataframe thead th {\n",
       "        text-align: right;\n",
       "    }\n",
       "</style>\n",
       "<table border=\"1\" class=\"dataframe\">\n",
       "  <thead>\n",
       "    <tr style=\"text-align: right;\">\n",
       "      <th></th>\n",
       "      <th>batterName</th>\n",
       "      <th>RV17</th>\n",
       "    </tr>\n",
       "  </thead>\n",
       "  <tbody>\n",
       "    <tr>\n",
       "      <th>909</th>\n",
       "      <td>Votto</td>\n",
       "      <td>67.650742</td>\n",
       "    </tr>\n",
       "    <tr>\n",
       "      <th>87</th>\n",
       "      <td>Blackmon</td>\n",
       "      <td>62.032793</td>\n",
       "    </tr>\n",
       "    <tr>\n",
       "      <th>445</th>\n",
       "      <td>Judge</td>\n",
       "      <td>57.081625</td>\n",
       "    </tr>\n",
       "    <tr>\n",
       "      <th>37</th>\n",
       "      <td>Arenado</td>\n",
       "      <td>56.111576</td>\n",
       "    </tr>\n",
       "    <tr>\n",
       "      <th>331</th>\n",
       "      <td>Goldschmidt</td>\n",
       "      <td>56.078941</td>\n",
       "    </tr>\n",
       "  </tbody>\n",
       "</table>\n",
       "</div>"
      ],
      "text/plain": [
       "      batterName       RV17\n",
       "909        Votto  67.650742\n",
       "87      Blackmon  62.032793\n",
       "445        Judge  57.081625\n",
       "37       Arenado  56.111576\n",
       "331  Goldschmidt  56.078941"
      ]
     },
     "execution_count": 62,
     "metadata": {},
     "output_type": "execute_result"
    }
   ],
   "source": [
    "# Quiz Q1\n",
    "rv_batter17.sort_values('RV17', ascending=False).head()"
   ]
  },
  {
   "cell_type": "code",
   "execution_count": 64,
   "metadata": {},
   "outputs": [
    {
     "data": {
      "text/html": [
       "<div>\n",
       "<style scoped>\n",
       "    .dataframe tbody tr th:only-of-type {\n",
       "        vertical-align: middle;\n",
       "    }\n",
       "\n",
       "    .dataframe tbody tr th {\n",
       "        vertical-align: top;\n",
       "    }\n",
       "\n",
       "    .dataframe thead th {\n",
       "        text-align: right;\n",
       "    }\n",
       "</style>\n",
       "<table border=\"1\" class=\"dataframe\">\n",
       "  <thead>\n",
       "    <tr style=\"text-align: right;\">\n",
       "      <th></th>\n",
       "      <th>batterName</th>\n",
       "      <th>RV16</th>\n",
       "    </tr>\n",
       "  </thead>\n",
       "  <tbody>\n",
       "    <tr>\n",
       "      <th>370</th>\n",
       "      <td>Hechavarria</td>\n",
       "      <td>-32.142529</td>\n",
       "    </tr>\n",
       "    <tr>\n",
       "      <th>611</th>\n",
       "      <td>Norris, De</td>\n",
       "      <td>-26.841250</td>\n",
       "    </tr>\n",
       "    <tr>\n",
       "      <th>245</th>\n",
       "      <td>Escobar, A</td>\n",
       "      <td>-26.555530</td>\n",
       "    </tr>\n",
       "    <tr>\n",
       "      <th>102</th>\n",
       "      <td>Burns</td>\n",
       "      <td>-23.335961</td>\n",
       "    </tr>\n",
       "    <tr>\n",
       "      <th>808</th>\n",
       "      <td>Shuck</td>\n",
       "      <td>-23.297166</td>\n",
       "    </tr>\n",
       "  </tbody>\n",
       "</table>\n",
       "</div>"
      ],
      "text/plain": [
       "      batterName       RV16\n",
       "370  Hechavarria -32.142529\n",
       "611   Norris, De -26.841250\n",
       "245   Escobar, A -26.555530\n",
       "102        Burns -23.335961\n",
       "808        Shuck -23.297166"
      ]
     },
     "execution_count": 64,
     "metadata": {},
     "output_type": "execute_result"
    }
   ],
   "source": [
    "# Quiz Q2\n",
    "rv_batter16.sort_values('RV16').head()"
   ]
  },
  {
   "cell_type": "code",
   "execution_count": 73,
   "metadata": {},
   "outputs": [
    {
     "data": {
      "text/html": [
       "<div>\n",
       "<style scoped>\n",
       "    .dataframe tbody tr th:only-of-type {\n",
       "        vertical-align: middle;\n",
       "    }\n",
       "\n",
       "    .dataframe tbody tr th {\n",
       "        vertical-align: top;\n",
       "    }\n",
       "\n",
       "    .dataframe thead th {\n",
       "        text-align: right;\n",
       "    }\n",
       "</style>\n",
       "<table border=\"1\" class=\"dataframe\">\n",
       "  <thead>\n",
       "    <tr style=\"text-align: right;\">\n",
       "      <th></th>\n",
       "      <th>event</th>\n",
       "      <th>RV16</th>\n",
       "      <th>RV17</th>\n",
       "      <th>diff</th>\n",
       "    </tr>\n",
       "  </thead>\n",
       "  <tbody>\n",
       "    <tr>\n",
       "      <th>23</th>\n",
       "      <td>Sac Fly DP</td>\n",
       "      <td>-0.370443</td>\n",
       "      <td>-0.543715</td>\n",
       "      <td>-0.173272</td>\n",
       "    </tr>\n",
       "    <tr>\n",
       "      <th>28</th>\n",
       "      <td>Triple Play</td>\n",
       "      <td>-1.637543</td>\n",
       "      <td>-1.471223</td>\n",
       "      <td>0.166319</td>\n",
       "    </tr>\n",
       "    <tr>\n",
       "      <th>0</th>\n",
       "      <td>Batter Interference</td>\n",
       "      <td>-0.284649</td>\n",
       "      <td>-0.430019</td>\n",
       "      <td>-0.145369</td>\n",
       "    </tr>\n",
       "    <tr>\n",
       "      <th>4</th>\n",
       "      <td>Catcher Interference</td>\n",
       "      <td>0.301623</td>\n",
       "      <td>0.399070</td>\n",
       "      <td>0.097447</td>\n",
       "    </tr>\n",
       "    <tr>\n",
       "      <th>9</th>\n",
       "      <td>Fielders Choice</td>\n",
       "      <td>0.701447</td>\n",
       "      <td>0.764112</td>\n",
       "      <td>0.062665</td>\n",
       "    </tr>\n",
       "  </tbody>\n",
       "</table>\n",
       "</div>"
      ],
      "text/plain": [
       "                   event      RV16      RV17      diff\n",
       "23            Sac Fly DP -0.370443 -0.543715 -0.173272\n",
       "28           Triple Play -1.637543 -1.471223  0.166319\n",
       "0    Batter Interference -0.284649 -0.430019 -0.145369\n",
       "4   Catcher Interference  0.301623  0.399070  0.097447\n",
       "9        Fielders Choice  0.701447  0.764112  0.062665"
      ]
     },
     "execution_count": 73,
     "metadata": {},
     "output_type": "execute_result"
    }
   ],
   "source": [
    "# Quiz Q3\n",
    "rv_events['diff'] = rv_events['RV17']-rv_events['RV16']\n",
    "rv_events.sort_values('diff', key=abs, ascending=False).head()"
   ]
  },
  {
   "cell_type": "code",
   "execution_count": 74,
   "metadata": {},
   "outputs": [
    {
     "data": {
      "text/html": [
       "<div>\n",
       "<style scoped>\n",
       "    .dataframe tbody tr th:only-of-type {\n",
       "        vertical-align: middle;\n",
       "    }\n",
       "\n",
       "    .dataframe tbody tr th {\n",
       "        vertical-align: top;\n",
       "    }\n",
       "\n",
       "    .dataframe thead th {\n",
       "        text-align: right;\n",
       "    }\n",
       "</style>\n",
       "<table border=\"1\" class=\"dataframe\">\n",
       "  <thead>\n",
       "    <tr style=\"text-align: right;\">\n",
       "      <th></th>\n",
       "      <th>batterName</th>\n",
       "      <th>RV16</th>\n",
       "      <th>RV17</th>\n",
       "      <th>diff</th>\n",
       "    </tr>\n",
       "  </thead>\n",
       "  <tbody>\n",
       "    <tr>\n",
       "      <th>312</th>\n",
       "      <td>Judge</td>\n",
       "      <td>-4.179157</td>\n",
       "      <td>57.081625</td>\n",
       "      <td>61.260782</td>\n",
       "    </tr>\n",
       "    <tr>\n",
       "      <th>683</th>\n",
       "      <td>Zimmerman</td>\n",
       "      <td>-22.942623</td>\n",
       "      <td>33.179676</td>\n",
       "      <td>56.122300</td>\n",
       "    </tr>\n",
       "    <tr>\n",
       "      <th>230</th>\n",
       "      <td>Gonzalez, M</td>\n",
       "      <td>-16.649256</td>\n",
       "      <td>35.951866</td>\n",
       "      <td>52.601121</td>\n",
       "    </tr>\n",
       "    <tr>\n",
       "      <th>595</th>\n",
       "      <td>Stanton</td>\n",
       "      <td>10.070038</td>\n",
       "      <td>51.784088</td>\n",
       "      <td>41.714049</td>\n",
       "    </tr>\n",
       "    <tr>\n",
       "      <th>121</th>\n",
       "      <td>Conforto</td>\n",
       "      <td>-3.607318</td>\n",
       "      <td>35.827160</td>\n",
       "      <td>39.434477</td>\n",
       "    </tr>\n",
       "  </tbody>\n",
       "</table>\n",
       "</div>"
      ],
      "text/plain": [
       "      batterName       RV16       RV17       diff\n",
       "312        Judge  -4.179157  57.081625  61.260782\n",
       "683    Zimmerman -22.942623  33.179676  56.122300\n",
       "230  Gonzalez, M -16.649256  35.951866  52.601121\n",
       "595      Stanton  10.070038  51.784088  41.714049\n",
       "121     Conforto  -3.607318  35.827160  39.434477"
      ]
     },
     "execution_count": 74,
     "metadata": {},
     "output_type": "execute_result"
    }
   ],
   "source": [
    "# Quiz Q4\n",
    "rv_batter['diff'] = rv_batter['RV17']-rv_batter['RV16']\n",
    "rv_batter.sort_values('diff', ascending=False).head()"
   ]
  }
 ],
 "metadata": {
  "kernelspec": {
   "display_name": "Python 3 (ipykernel)",
   "language": "python",
   "name": "python3"
  },
  "language_info": {
   "codemirror_mode": {
    "name": "ipython",
    "version": 3
   },
   "file_extension": ".py",
   "mimetype": "text/x-python",
   "name": "python",
   "nbconvert_exporter": "python",
   "pygments_lexer": "ipython3",
   "version": "3.8.12"
  }
 },
 "nbformat": 4,
 "nbformat_minor": 4
}
